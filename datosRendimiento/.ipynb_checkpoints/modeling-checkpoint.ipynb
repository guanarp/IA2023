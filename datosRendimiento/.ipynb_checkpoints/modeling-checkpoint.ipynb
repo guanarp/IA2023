{
 "cells": [
  {
   "cell_type": "code",
   "execution_count": 1,
   "id": "067b48c9-e3c7-4f1a-ae82-7d87342138e0",
   "metadata": {},
   "outputs": [],
   "source": [
    "import pandas as pd\n",
    "import numpy as np\n",
    "import matplotlib.pyplot as plt\n",
    "from sklearn.model_selection import train_test_split\n",
    "from sklearn.linear_model import LogisticRegression, SGDClassifier"
   ]
  },
  {
   "cell_type": "code",
   "execution_count": 2,
   "id": "a9444bef-4b8b-4e19-9ee3-02430e3192eb",
   "metadata": {},
   "outputs": [
    {
     "name": "stdout",
     "output_type": "stream",
     "text": [
      "<class 'pandas.core.frame.DataFrame'>\n",
      "RangeIndex: 97341 entries, 0 to 97340\n",
      "Data columns (total 21 columns):\n",
      " #   Column        Non-Null Count  Dtype  \n",
      "---  ------        --------------  -----  \n",
      " 0   Unnamed: 0.1  97341 non-null  int64  \n",
      " 1   Unnamed: 0    97341 non-null  int64  \n",
      " 2   ciclo         97341 non-null  int64  \n",
      " 3   Cod.Asign     97341 non-null  int64  \n",
      " 4   Asignatura    97341 non-null  object \n",
      " 5   Cod.Car.Sec   97341 non-null  object \n",
      " 6   Cod.Curso     97341 non-null  int64  \n",
      " 7   Convocatoria  97341 non-null  int64  \n",
      " 8   Anho          97341 non-null  int64  \n",
      " 9   Semestre      97341 non-null  int64  \n",
      " 10  Aprobado      97341 non-null  int64  \n",
      " 11  Anho.Firma    97341 non-null  int64  \n",
      " 12  Primer.Par    97341 non-null  int64  \n",
      " 13  Segundo.Par   97341 non-null  int64  \n",
      " 14  AOT           97341 non-null  int64  \n",
      " 15  Primer.Rec    97341 non-null  int64  \n",
      " 16  Segundo.Rec   97341 non-null  int64  \n",
      " 17  Nota.Final    97341 non-null  object \n",
      " 18  Asis          97341 non-null  float64\n",
      " 19  4P_60         0 non-null      float64\n",
      " 20  id_anony      97341 non-null  object \n",
      "dtypes: float64(2), int64(15), object(4)\n",
      "memory usage: 15.6+ MB\n"
     ]
    }
   ],
   "source": [
    "file_path = \"datasets\\datos_CB.csv\"\n",
    "student_data = pd.read_csv(file_path)\n",
    "student_data.info()"
   ]
  },
  {
   "cell_type": "code",
   "execution_count": 3,
   "id": "0fc7ffc0-4bf1-4ce0-91c8-0cac287550f7",
   "metadata": {},
   "outputs": [
    {
     "data": {
      "text/html": [
       "<div>\n",
       "<style scoped>\n",
       "    .dataframe tbody tr th:only-of-type {\n",
       "        vertical-align: middle;\n",
       "    }\n",
       "\n",
       "    .dataframe tbody tr th {\n",
       "        vertical-align: top;\n",
       "    }\n",
       "\n",
       "    .dataframe thead th {\n",
       "        text-align: right;\n",
       "    }\n",
       "</style>\n",
       "<table border=\"1\" class=\"dataframe\">\n",
       "  <thead>\n",
       "    <tr style=\"text-align: right;\">\n",
       "      <th></th>\n",
       "      <th>ciclo</th>\n",
       "      <th>Asignatura</th>\n",
       "      <th>Convocatoria</th>\n",
       "      <th>Anho</th>\n",
       "      <th>Aprobado</th>\n",
       "      <th>Anho.Firma</th>\n",
       "      <th>Primer.Par</th>\n",
       "      <th>Segundo.Par</th>\n",
       "      <th>AOT</th>\n",
       "      <th>Primer.Rec</th>\n",
       "      <th>Segundo.Rec</th>\n",
       "      <th>Nota.Final</th>\n",
       "    </tr>\n",
       "  </thead>\n",
       "  <tbody>\n",
       "    <tr>\n",
       "      <th>0</th>\n",
       "      <td>1</td>\n",
       "      <td>CALCULO 3</td>\n",
       "      <td>1</td>\n",
       "      <td>2012</td>\n",
       "      <td>0</td>\n",
       "      <td>0</td>\n",
       "      <td>0</td>\n",
       "      <td>0</td>\n",
       "      <td>0</td>\n",
       "      <td>0</td>\n",
       "      <td>0</td>\n",
       "      <td>[0]</td>\n",
       "    </tr>\n",
       "    <tr>\n",
       "      <th>1</th>\n",
       "      <td>1</td>\n",
       "      <td>FISICA 4</td>\n",
       "      <td>1</td>\n",
       "      <td>2012</td>\n",
       "      <td>0</td>\n",
       "      <td>2012</td>\n",
       "      <td>19</td>\n",
       "      <td>13</td>\n",
       "      <td>9</td>\n",
       "      <td>0</td>\n",
       "      <td>0</td>\n",
       "      <td>[0]</td>\n",
       "    </tr>\n",
       "    <tr>\n",
       "      <th>2</th>\n",
       "      <td>1</td>\n",
       "      <td>FISICA 4</td>\n",
       "      <td>1</td>\n",
       "      <td>2012</td>\n",
       "      <td>1</td>\n",
       "      <td>2012</td>\n",
       "      <td>17</td>\n",
       "      <td>24</td>\n",
       "      <td>10</td>\n",
       "      <td>0</td>\n",
       "      <td>0</td>\n",
       "      <td>[3]</td>\n",
       "    </tr>\n",
       "    <tr>\n",
       "      <th>3</th>\n",
       "      <td>1</td>\n",
       "      <td>FISICA 4</td>\n",
       "      <td>1</td>\n",
       "      <td>2012</td>\n",
       "      <td>0</td>\n",
       "      <td>0</td>\n",
       "      <td>0</td>\n",
       "      <td>0</td>\n",
       "      <td>0</td>\n",
       "      <td>0</td>\n",
       "      <td>0</td>\n",
       "      <td>[0]</td>\n",
       "    </tr>\n",
       "    <tr>\n",
       "      <th>4</th>\n",
       "      <td>1</td>\n",
       "      <td>FISICA 4</td>\n",
       "      <td>1</td>\n",
       "      <td>2012</td>\n",
       "      <td>0</td>\n",
       "      <td>0</td>\n",
       "      <td>16</td>\n",
       "      <td>12</td>\n",
       "      <td>8</td>\n",
       "      <td>0</td>\n",
       "      <td>0</td>\n",
       "      <td>[0]</td>\n",
       "    </tr>\n",
       "  </tbody>\n",
       "</table>\n",
       "</div>"
      ],
      "text/plain": [
       "   ciclo Asignatura  Convocatoria  Anho  Aprobado  Anho.Firma  Primer.Par  \\\n",
       "0      1  CALCULO 3             1  2012         0           0           0   \n",
       "1      1   FISICA 4             1  2012         0        2012          19   \n",
       "2      1   FISICA 4             1  2012         1        2012          17   \n",
       "3      1   FISICA 4             1  2012         0           0           0   \n",
       "4      1   FISICA 4             1  2012         0           0          16   \n",
       "\n",
       "   Segundo.Par  AOT  Primer.Rec  Segundo.Rec Nota.Final  \n",
       "0            0    0           0            0        [0]  \n",
       "1           13    9           0            0        [0]  \n",
       "2           24   10           0            0        [3]  \n",
       "3            0    0           0            0        [0]  \n",
       "4           12    8           0            0        [0]  "
      ]
     },
     "execution_count": 3,
     "metadata": {},
     "output_type": "execute_result"
    }
   ],
   "source": [
    "columns = ['Unnamed: 0.1', 'Unnamed: 0', \"Cod.Asign\", 'Asis', '4P_60',\"Cod.Curso\", \"Cod.Car.Sec\", \"Semestre\", \"id_anony\"] #el id_anony podriamos usar despues\n",
    "if columns[0] in student_data:\n",
    "    student_data.drop(columns,axis=1, inplace= True)\n",
    "student_data.head()"
   ]
  },
  {
   "cell_type": "code",
   "execution_count": 4,
   "id": "3bcd6c1c-d49b-48c1-a2fc-94a0c7972604",
   "metadata": {},
   "outputs": [
    {
     "name": "stdout",
     "output_type": "stream",
     "text": [
      "      ciclo Asignatura  Convocatoria  Anho  Aprobado  Anho.Firma  Primer.Par  \\\n",
      "5258      2   ESTATICA             1  2012         0           0           2   \n",
      "5259      2   ESTATICA             1  2012         0           0           6   \n",
      "5260      2   ESTATICA             1  2012         1        2012          12   \n",
      "5261      2   ESTATICA             1  2012         0           0           1   \n",
      "5262      2   ESTATICA             1  2012         0           0           0   \n",
      "\n",
      "      Segundo.Par  AOT  Primer.Rec  Segundo.Rec Nota.Final  \n",
      "5258           13    0           0            0        [0]  \n",
      "5259           11    0           0            0        [0]  \n",
      "5260           24    0           0            0        [2]  \n",
      "5261            1    0           0            0        [0]  \n",
      "5262            0    0           0            0        [0]  \n"
     ]
    },
    {
     "name": "stderr",
     "output_type": "stream",
     "text": [
      "C:\\Users\\josec\\AppData\\Local\\Temp\\ipykernel_13696\\1374848725.py:6: SettingWithCopyWarning: \n",
      "A value is trying to be set on a copy of a slice from a DataFrame\n",
      "\n",
      "See the caveats in the documentation: https://pandas.pydata.org/pandas-docs/stable/user_guide/indexing.html#returning-a-view-versus-a-copy\n",
      "  course_data.drop([\"Asignatura\"],axis=1, inplace = True)\n"
     ]
    },
    {
     "data": {
      "text/html": [
       "<div>\n",
       "<style scoped>\n",
       "    .dataframe tbody tr th:only-of-type {\n",
       "        vertical-align: middle;\n",
       "    }\n",
       "\n",
       "    .dataframe tbody tr th {\n",
       "        vertical-align: top;\n",
       "    }\n",
       "\n",
       "    .dataframe thead th {\n",
       "        text-align: right;\n",
       "    }\n",
       "</style>\n",
       "<table border=\"1\" class=\"dataframe\">\n",
       "  <thead>\n",
       "    <tr style=\"text-align: right;\">\n",
       "      <th></th>\n",
       "      <th>ciclo</th>\n",
       "      <th>Convocatoria</th>\n",
       "      <th>Anho</th>\n",
       "      <th>Aprobado</th>\n",
       "      <th>Anho.Firma</th>\n",
       "      <th>Primer.Par</th>\n",
       "      <th>Segundo.Par</th>\n",
       "      <th>AOT</th>\n",
       "      <th>Primer.Rec</th>\n",
       "      <th>Segundo.Rec</th>\n",
       "      <th>Nota.Final</th>\n",
       "    </tr>\n",
       "  </thead>\n",
       "  <tbody>\n",
       "    <tr>\n",
       "      <th>5258</th>\n",
       "      <td>2</td>\n",
       "      <td>1</td>\n",
       "      <td>2012</td>\n",
       "      <td>0</td>\n",
       "      <td>0</td>\n",
       "      <td>2</td>\n",
       "      <td>13</td>\n",
       "      <td>0</td>\n",
       "      <td>0</td>\n",
       "      <td>0</td>\n",
       "      <td>[0]</td>\n",
       "    </tr>\n",
       "    <tr>\n",
       "      <th>5259</th>\n",
       "      <td>2</td>\n",
       "      <td>1</td>\n",
       "      <td>2012</td>\n",
       "      <td>0</td>\n",
       "      <td>0</td>\n",
       "      <td>6</td>\n",
       "      <td>11</td>\n",
       "      <td>0</td>\n",
       "      <td>0</td>\n",
       "      <td>0</td>\n",
       "      <td>[0]</td>\n",
       "    </tr>\n",
       "    <tr>\n",
       "      <th>5260</th>\n",
       "      <td>2</td>\n",
       "      <td>1</td>\n",
       "      <td>2012</td>\n",
       "      <td>1</td>\n",
       "      <td>2012</td>\n",
       "      <td>12</td>\n",
       "      <td>24</td>\n",
       "      <td>0</td>\n",
       "      <td>0</td>\n",
       "      <td>0</td>\n",
       "      <td>[2]</td>\n",
       "    </tr>\n",
       "    <tr>\n",
       "      <th>5261</th>\n",
       "      <td>2</td>\n",
       "      <td>1</td>\n",
       "      <td>2012</td>\n",
       "      <td>0</td>\n",
       "      <td>0</td>\n",
       "      <td>1</td>\n",
       "      <td>1</td>\n",
       "      <td>0</td>\n",
       "      <td>0</td>\n",
       "      <td>0</td>\n",
       "      <td>[0]</td>\n",
       "    </tr>\n",
       "    <tr>\n",
       "      <th>5262</th>\n",
       "      <td>2</td>\n",
       "      <td>1</td>\n",
       "      <td>2012</td>\n",
       "      <td>0</td>\n",
       "      <td>0</td>\n",
       "      <td>0</td>\n",
       "      <td>0</td>\n",
       "      <td>0</td>\n",
       "      <td>0</td>\n",
       "      <td>0</td>\n",
       "      <td>[0]</td>\n",
       "    </tr>\n",
       "  </tbody>\n",
       "</table>\n",
       "</div>"
      ],
      "text/plain": [
       "      ciclo  Convocatoria  Anho  Aprobado  Anho.Firma  Primer.Par  \\\n",
       "5258      2             1  2012         0           0           2   \n",
       "5259      2             1  2012         0           0           6   \n",
       "5260      2             1  2012         1        2012          12   \n",
       "5261      2             1  2012         0           0           1   \n",
       "5262      2             1  2012         0           0           0   \n",
       "\n",
       "      Segundo.Par  AOT  Primer.Rec  Segundo.Rec Nota.Final  \n",
       "5258           13    0           0            0        [0]  \n",
       "5259           11    0           0            0        [0]  \n",
       "5260           24    0           0            0        [2]  \n",
       "5261            1    0           0            0        [0]  \n",
       "5262            0    0           0            0        [0]  "
      ]
     },
     "execution_count": 4,
     "metadata": {},
     "output_type": "execute_result"
    }
   ],
   "source": [
    "#todo esto puede ser un diccionario con numpy unique y queda re loco\n",
    "course = \"ESTATICA\"\n",
    "condition = student_data[\"Asignatura\"] == course\n",
    "course_data = student_data[condition]\n",
    "print(course_data.head())\n",
    "course_data.drop([\"Asignatura\"],axis=1, inplace = True)\n",
    "course_data.head()"
   ]
  },
  {
   "cell_type": "code",
   "execution_count": 5,
   "id": "6e5e3cd4-a56f-4b1d-a9f4-69c6becba3ce",
   "metadata": {},
   "outputs": [],
   "source": [
    "%%capture\n",
    "print(np.unique(course_data[\"Anho\"]))"
   ]
  },
  {
   "cell_type": "code",
   "execution_count": 6,
   "id": "8121296c-2e30-4a4d-a5af-2d7a1adc0478",
   "metadata": {},
   "outputs": [
    {
     "data": {
      "text/plain": [
       "count    4824.000000\n",
       "mean        9.337894\n",
       "std         5.849116\n",
       "min         0.000000\n",
       "25%         5.000000\n",
       "50%        10.000000\n",
       "75%        14.000000\n",
       "max        24.000000\n",
       "Name: Primer.Par, dtype: float64"
      ]
     },
     "execution_count": 6,
     "metadata": {},
     "output_type": "execute_result"
    }
   ],
   "source": [
    "course_data[\"Primer.Par\"].describe()"
   ]
  },
  {
   "cell_type": "code",
   "execution_count": 7,
   "id": "9780d9b2-1449-41af-a9bb-f6bbf210bda8",
   "metadata": {},
   "outputs": [
    {
     "name": "stdout",
     "output_type": "stream",
     "text": [
      "Approved: 1818\n",
      "Not approved: 3006\n",
      "Total: 4824\n"
     ]
    }
   ],
   "source": [
    "approved = len(course_data[course_data[\"Aprobado\"]==1])\n",
    "not_approved = len(course_data[course_data[\"Aprobado\"] == 0])\n",
    "total = len(course_data[\"Aprobado\"])\n",
    "print(f\"Approved: {approved}\\nNot approved: {not_approved}\\nTotal: {total}\")"
   ]
  },
  {
   "cell_type": "code",
   "execution_count": 8,
   "id": "e14dbd6b-b659-4b91-a539-5ca2af2af2c2",
   "metadata": {},
   "outputs": [
    {
     "name": "stdout",
     "output_type": "stream",
     "text": [
      "(3859, 11)\n",
      "(965, 11)\n"
     ]
    },
    {
     "data": {
      "text/plain": [
       "\"\\n# Training Set\\ntrain_save_path = 'student_train.csv'\\ntrain_df.to_csv(train_save_path, index=False)\\n\\n# Testing Set\\ntest_save_path = os.path.join(os.getcwd(), 'student', 'student-por-test.csv')\\ntest_df.to_csv(test_save_path, index=False)\\n\""
      ]
     },
     "execution_count": 8,
     "metadata": {},
     "output_type": "execute_result"
    }
   ],
   "source": [
    "df_train, df_test= train_test_split(course_data, test_size=0.2, random_state=0)\n",
    "print(df_train.shape)\n",
    "print(df_test.shape)\n",
    "\n",
    "\n",
    "# Saving our training and testing data sets\n",
    "'''\n",
    "# Training Set\n",
    "train_save_path = 'student_train.csv'\n",
    "train_df.to_csv(train_save_path, index=False)\n",
    "\n",
    "# Testing Set\n",
    "test_save_path = os.path.join(os.getcwd(), 'student', 'student-por-test.csv')\n",
    "test_df.to_csv(test_save_path, index=False)\n",
    "'''"
   ]
  },
  {
   "cell_type": "code",
   "execution_count": 9,
   "id": "6cdc8662-8698-4868-9169-41f9c2cc810e",
   "metadata": {},
   "outputs": [],
   "source": [
    "# Dummy Encoding the Data\n",
    "# Coverting categorical data to numerical dummy variables\n",
    "#train_dummies_df = pd.get_dummies(df_train)\n",
    "#test_dummies_df = pd.get_dummies(df_test)\n",
    "\n",
    "# Separating training data into predictors and predictand\n",
    "use_cols = [column for column in df_train.columns if column not in ['Aprobado']]\n",
    "train_x = df_train[use_cols]\n",
    "train_y = df_train['Aprobado']\n",
    "\n",
    "# Separating testing data into predictors and predictand\n",
    "test_x = df_test[use_cols]\n",
    "test_y = df_test['Aprobado']"
   ]
  },
  {
   "cell_type": "code",
   "execution_count": 10,
   "id": "7599fc51-bee1-4e77-bafd-2ab3baaf4d3d",
   "metadata": {},
   "outputs": [],
   "source": [
    "train_x.head()\n",
    "new_train_x = train_x.drop(['Nota.Final'],axis=1)"
   ]
  },
  {
   "cell_type": "code",
   "execution_count": 11,
   "id": "ef2868ec-28e1-4251-8133-eb65d08dc251",
   "metadata": {},
   "outputs": [
    {
     "data": {
      "text/plain": [
       "5757     0\n",
       "58811    0\n",
       "59840    0\n",
       "46862    0\n",
       "36301    1\n",
       "Name: Aprobado, dtype: int64"
      ]
     },
     "execution_count": 11,
     "metadata": {},
     "output_type": "execute_result"
    }
   ],
   "source": [
    "train_y.head()"
   ]
  },
  {
   "cell_type": "code",
   "execution_count": 12,
   "id": "bc0bba1e-f1c0-49eb-b3ce-17c70b3d2a49",
   "metadata": {},
   "outputs": [
    {
     "name": "stdout",
     "output_type": "stream",
     "text": [
      "<class 'pandas.core.frame.DataFrame'>\n",
      "Int64Index: 3859 entries, 5757 to 58585\n",
      "Data columns (total 10 columns):\n",
      " #   Column        Non-Null Count  Dtype \n",
      "---  ------        --------------  ----- \n",
      " 0   ciclo         3859 non-null   int64 \n",
      " 1   Convocatoria  3859 non-null   int64 \n",
      " 2   Anho          3859 non-null   int64 \n",
      " 3   Anho.Firma    3859 non-null   int64 \n",
      " 4   Primer.Par    3859 non-null   int64 \n",
      " 5   Segundo.Par   3859 non-null   int64 \n",
      " 6   AOT           3859 non-null   int64 \n",
      " 7   Primer.Rec    3859 non-null   int64 \n",
      " 8   Segundo.Rec   3859 non-null   int64 \n",
      " 9   Nota.Final    3859 non-null   object\n",
      "dtypes: int64(9), object(1)\n",
      "memory usage: 331.6+ KB\n"
     ]
    }
   ],
   "source": [
    "train_x.info()"
   ]
  },
  {
   "cell_type": "code",
   "execution_count": 13,
   "id": "1f573749-1c8a-4495-9d2f-405191ad218b",
   "metadata": {},
   "outputs": [],
   "source": [
    "def process(mod, x, y, test_x, test_y,course):\n",
    "    model = mod.fit(x,y)\n",
    "    predicted_y = model.predict(test_x)\n",
    "    score = model.score(test_x,test_y)\n",
    "    print(f\"Model score for {course.lower()}: {score}\")\n",
    "    print(f\"Parameters: \\n{model.feature_names_in_}\")\n",
    "    print(f\"iterations: {model.n_iter_}\")\n",
    "    print(f\"coefs: {model.coef_}\")"
   ]
  },
  {
   "cell_type": "code",
   "execution_count": 14,
   "id": "b162b5a6-6f66-49d6-9128-bca878098e78",
   "metadata": {},
   "outputs": [
    {
     "name": "stdout",
     "output_type": "stream",
     "text": [
      "Model score for estatica: 0.8797927461139896\n",
      "Parameters: \n",
      "['ciclo' 'Convocatoria' 'Anho' 'Anho.Firma' 'Primer.Par' 'Segundo.Par'\n",
      " 'AOT' 'Primer.Rec' 'Segundo.Rec']\n",
      "iterations: [278]\n",
      "coefs: [[ 0.1340516  -0.67827628 -0.00428343  0.00359383  0.09155825  0.08352286\n",
      "   0.08459861  0.00870394 -0.02397949]]\n"
     ]
    }
   ],
   "source": [
    "default_LR = LogisticRegression(max_iter=1000)\n",
    "\n",
    "# Fitting the model\n",
    "model = default_LR.fit(new_train_x, train_y)\n",
    "\n",
    "# Plotting the CV Accuracy with respect to C values\n",
    "#fig, axs = plt.subplots(1, 1, figsize=(14, 7))\n",
    "#axs.plot(new_train_x, train_y)\n",
    "#axs.grid()\n",
    "\n",
    "predicted_y = model.predict(test_x.drop(['Nota.Final'],axis=1))\n",
    "\n",
    "score = model.score(test_x.drop(['Nota.Final'],axis=1),test_y)\n",
    "print(f\"Model score for {course.lower()}: {score}\")\n",
    "print(f\"Parameters: \\n{model.feature_names_in_}\")\n",
    "print(f\"iterations: {model.n_iter_}\")\n",
    "print(f\"coefs: {model.coef_}\")\n",
    "#logRegSDAccuracyNo0s = accuracy_score(logRegCVSDNo0s.predict(test_x_standardized), test_y)"
   ]
  },
  {
   "cell_type": "code",
   "execution_count": 15,
   "id": "34041da9-25ce-430c-92db-f3f003f7a225",
   "metadata": {},
   "outputs": [
    {
     "name": "stdout",
     "output_type": "stream",
     "text": [
      "Model score for estatica: 0.8404145077720208\n",
      "Parameters: \n",
      "['ciclo' 'Convocatoria' 'Anho' 'Anho.Firma' 'Primer.Par' 'Segundo.Par'\n",
      " 'AOT' 'Primer.Rec' 'Segundo.Rec']\n",
      "iterations: 79\n",
      "coefs: [[   53.84616049   -78.77889178  -154.01856737    82.13624803\n",
      "   2820.88464926  5712.13518704  1359.15124567  -270.23842878\n",
      "  -2057.54266658]]\n"
     ]
    }
   ],
   "source": [
    "SGDC = SGDClassifier(loss='log_loss')\n",
    "\n",
    "model = SGDC.fit(new_train_x, train_y)\n",
    "\n",
    "predicted_y = model.predict(test_x.drop(['Nota.Final'],axis=1))\n",
    "\n",
    "score = model.score(test_x.drop(['Nota.Final'],axis=1),test_y)\n",
    "print(f\"Model score for {course.lower()}: {score}\")\n",
    "print(f\"Parameters: \\n{model.feature_names_in_}\")\n",
    "print(f\"iterations: {model.n_iter_}\")\n",
    "print(f\"coefs: {model.coef_}\")"
   ]
  },
  {
   "cell_type": "code",
   "execution_count": 16,
   "id": "0b9e4a5a-6c71-4ff8-b769-02790524ec2e",
   "metadata": {},
   "outputs": [
    {
     "name": "stdout",
     "output_type": "stream",
     "text": [
      "Model score for estatica: 0.6321243523316062\n",
      "Parameters: \n",
      "['ciclo' 'Convocatoria' 'Anho' 'Anho.Firma' 'Primer.Par' 'Segundo.Par'\n",
      " 'AOT' 'Primer.Rec' 'Segundo.Rec']\n",
      "iterations: 16\n",
      "coefs: [[   57.03573481   -92.87294728 -2768.3495556   -243.29756659\n",
      "   3796.10343007  7908.68942921  1748.08594298 -2397.6957439\n",
      "  -3318.74438631]]\n"
     ]
    }
   ],
   "source": [
    "SGDC = SGDClassifier(loss=\"perceptron\", eta0=1, learning_rate=\"constant\", penalty='l2')\n",
    "\n",
    "model = SGDC.fit(new_train_x, train_y)\n",
    "\n",
    "predicted_y = model.predict(test_x.drop(['Nota.Final'],axis=1))\n",
    "\n",
    "score = model.score(test_x.drop(['Nota.Final'],axis=1),test_y)\n",
    "print(f\"Model score for {course.lower()}: {score}\")\n",
    "print(f\"Parameters: \\n{model.feature_names_in_}\")\n",
    "print(f\"iterations: {model.n_iter_}\")\n",
    "print(f\"coefs: {model.coef_}\")"
   ]
  },
  {
   "cell_type": "markdown",
   "id": "ac19137f-cbba-4d80-8d1e-39bbb27d6a85",
   "metadata": {},
   "source": [
    "# Now trying droping some labels"
   ]
  },
  {
   "cell_type": "code",
   "execution_count": 17,
   "id": "5c1143e1-d169-4359-83af-a08f78cd0d08",
   "metadata": {},
   "outputs": [],
   "source": [
    "new_train_x = new_train_x.drop(['ciclo','Segundo.Par','AOT','Primer.Rec','Segundo.Rec'],axis=1)\n",
    "new_test_x = test_x.drop(['ciclo','Segundo.Par','AOT','Primer.Rec','Segundo.Rec','Nota.Final'],axis=1)"
   ]
  },
  {
   "cell_type": "code",
   "execution_count": null,
   "id": "0fb18471-5ee3-4600-88b1-ab76b0e71f17",
   "metadata": {},
   "outputs": [],
   "source": [
    "new_train_x['Anho.Firma'] = np.where(new_train_x['Anho.Firma']==0,new_train_x['Anho'],new_train_x['Anho.Firma'])\n",
    "new_test_x['Anho.Firma'] = np.where(new_test_x['Anho.Firma']==0,new_test_x['Anho'],new_test_x['Anho.Firma'])\n",
    "new_train_x['Anhos.Cursando'] = new_train_x['Anho'] - new_train_x['Anho.Firma']\n",
    "new_test_x['Anhos.Cursando'] = new_test_x['Anho'] - new_test_x['Anho.Firma']\n",
    "new_train_x = new_train_x.drop(['Anho','Anho.Firma'],axis=1)\n",
    "new_test_x = new_test_x.drop(['Anho','Anho.Firma'],axis=1)"
   ]
  },
  {
   "cell_type": "code",
   "execution_count": null,
   "id": "8f27cb2a-781d-45bf-9661-eb6ceea05d24",
   "metadata": {},
   "outputs": [
    {
     "data": {
      "text/html": [
       "<div>\n",
       "<style scoped>\n",
       "    .dataframe tbody tr th:only-of-type {\n",
       "        vertical-align: middle;\n",
       "    }\n",
       "\n",
       "    .dataframe tbody tr th {\n",
       "        vertical-align: top;\n",
       "    }\n",
       "\n",
       "    .dataframe thead th {\n",
       "        text-align: right;\n",
       "    }\n",
       "</style>\n",
       "<table border=\"1\" class=\"dataframe\">\n",
       "  <thead>\n",
       "    <tr style=\"text-align: right;\">\n",
       "      <th></th>\n",
       "      <th>Convocatoria</th>\n",
       "      <th>Anho</th>\n",
       "      <th>Primer.Par</th>\n",
       "      <th>Anhos.Cursando</th>\n",
       "    </tr>\n",
       "  </thead>\n",
       "  <tbody>\n",
       "    <tr>\n",
       "      <th>count</th>\n",
       "      <td>3859.000000</td>\n",
       "      <td>3859.000000</td>\n",
       "      <td>3859.000000</td>\n",
       "      <td>3859.000000</td>\n",
       "    </tr>\n",
       "    <tr>\n",
       "      <th>mean</th>\n",
       "      <td>1.155740</td>\n",
       "      <td>2016.026432</td>\n",
       "      <td>9.275719</td>\n",
       "      <td>0.100803</td>\n",
       "    </tr>\n",
       "    <tr>\n",
       "      <th>std</th>\n",
       "      <td>0.362656</td>\n",
       "      <td>2.634820</td>\n",
       "      <td>5.843932</td>\n",
       "      <td>0.301107</td>\n",
       "    </tr>\n",
       "    <tr>\n",
       "      <th>min</th>\n",
       "      <td>1.000000</td>\n",
       "      <td>2012.000000</td>\n",
       "      <td>0.000000</td>\n",
       "      <td>0.000000</td>\n",
       "    </tr>\n",
       "    <tr>\n",
       "      <th>25%</th>\n",
       "      <td>1.000000</td>\n",
       "      <td>2014.000000</td>\n",
       "      <td>5.000000</td>\n",
       "      <td>0.000000</td>\n",
       "    </tr>\n",
       "    <tr>\n",
       "      <th>50%</th>\n",
       "      <td>1.000000</td>\n",
       "      <td>2016.000000</td>\n",
       "      <td>10.000000</td>\n",
       "      <td>0.000000</td>\n",
       "    </tr>\n",
       "    <tr>\n",
       "      <th>75%</th>\n",
       "      <td>1.000000</td>\n",
       "      <td>2018.000000</td>\n",
       "      <td>14.000000</td>\n",
       "      <td>0.000000</td>\n",
       "    </tr>\n",
       "    <tr>\n",
       "      <th>max</th>\n",
       "      <td>2.000000</td>\n",
       "      <td>2021.000000</td>\n",
       "      <td>24.000000</td>\n",
       "      <td>1.000000</td>\n",
       "    </tr>\n",
       "  </tbody>\n",
       "</table>\n",
       "</div>"
      ],
      "text/plain": [
       "       Convocatoria         Anho   Primer.Par  Anhos.Cursando\n",
       "count   3859.000000  3859.000000  3859.000000     3859.000000\n",
       "mean       1.155740  2016.026432     9.275719        0.100803\n",
       "std        0.362656     2.634820     5.843932        0.301107\n",
       "min        1.000000  2012.000000     0.000000        0.000000\n",
       "25%        1.000000  2014.000000     5.000000        0.000000\n",
       "50%        1.000000  2016.000000    10.000000        0.000000\n",
       "75%        1.000000  2018.000000    14.000000        0.000000\n",
       "max        2.000000  2021.000000    24.000000        1.000000"
      ]
     },
     "execution_count": 19,
     "metadata": {},
     "output_type": "execute_result"
    }
   ],
   "source": [
    "new_train_x.describe()"
   ]
  },
  {
   "cell_type": "code",
   "execution_count": null,
   "id": "d2252898-afb2-42bd-9bf0-b248756675c7",
   "metadata": {},
   "outputs": [
    {
     "name": "stdout",
     "output_type": "stream",
     "text": [
      "Model score for estatica: 0.7637305699481866\n",
      "Parameters: \n",
      "['Convocatoria' 'Anho' 'Primer.Par' 'Anhos.Cursando']\n",
      "iterations: [68]\n",
      "coefs: [[-0.34591806 -0.0015599   0.28358987  1.18521333]]\n"
     ]
    }
   ],
   "source": [
    "LR = LogisticRegression()\n",
    "process(LR,new_train_x,train_y,new_test_x,test_y,course)"
   ]
  }
 ],
 "metadata": {
  "kernelspec": {
   "display_name": "Python 3 (ipykernel)",
   "language": "python",
   "name": "python3"
  },
  "language_info": {
   "codemirror_mode": {
    "name": "ipython",
    "version": 3
   },
   "file_extension": ".py",
   "mimetype": "text/x-python",
   "name": "python",
   "nbconvert_exporter": "python",
   "pygments_lexer": "ipython3",
   "version": "3.10.8"
  }
 },
 "nbformat": 4,
 "nbformat_minor": 5
}
