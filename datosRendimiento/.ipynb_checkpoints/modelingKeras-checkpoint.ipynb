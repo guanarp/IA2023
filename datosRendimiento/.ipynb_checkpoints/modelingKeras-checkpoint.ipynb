{
 "cells": [
  {
   "cell_type": "code",
   "execution_count": null,
   "id": "10ae9249-cc54-4f41-99b2-1af592cb3030",
   "metadata": {},
   "outputs": [],
   "source": [
    "import pandas as pd\n",
    "import numpy as np\n",
    "import matplotlib.pyplot as plt"
   ]
  },
  {
   "cell_type": "code",
   "execution_count": null,
   "id": "270b7ce2-aba8-40f8-bab0-4ce6e4a1640e",
   "metadata": {},
   "outputs": [],
   "source": [
    "file_path = \"datasets\\datos_CB.csv\"\n",
    "student_data = pd.read_csv(file_path)\n",
    "student_data.info()"
   ]
  },
  {
   "cell_type": "code",
   "execution_count": null,
   "id": "fdca54da-45b8-44ee-a6c6-54842030c4fe",
   "metadata": {},
   "outputs": [],
   "source": [
    "columns = ['Unnamed: 0.1', 'Unnamed: 0', \"Cod.Asign\", 'Asis', '4P_60',\"Cod.Curso\", \"Cod.Car.Sec\", \"Semestre\",'Nota.Prom'] #el id_anony podriamos usar despues\n",
    "if columns[0] in student_data:\n",
    "    student_data.drop(columns,axis=1, inplace= True)\n",
    "student_data.head()"
   ]
  },
  {
   "cell_type": "code",
   "execution_count": null,
   "id": "04d7da86-93c6-4825-97a0-0612d5155367",
   "metadata": {},
   "outputs": [],
   "source": [
    "#todo esto puede ser un diccionario con numpy unique y queda re loco\n",
    "course = \"ESTATICA\"\n",
    "condition = student_data[\"Asignatura\"] == course\n",
    "course_data = student_data[condition]\n",
    "print(course_data.head())\n",
    "course_data.drop([\"Asignatura\"],axis=1, inplace = True)\n",
    "course_data.head()"
   ]
  },
  {
   "cell_type": "code",
   "execution_count": null,
   "id": "072d52a8-6a57-4635-ad01-749fbe95e8f6",
   "metadata": {},
   "outputs": [],
   "source": [
    "course_data[\"Primer.Par\"].describe()"
   ]
  },
  {
   "cell_type": "code",
   "execution_count": null,
   "id": "89aedc52-03b9-4c23-86fd-c5587f052dbd",
   "metadata": {},
   "outputs": [],
   "source": [
    "approved = len(course_data[course_data[\"Aprobado\"]==1])\n",
    "not_approved = len(course_data[course_data[\"Aprobado\"] == 0])\n",
    "total = len(course_data[\"Aprobado\"])\n",
    "print(f\"Approved: {approved}\\nNot approved: {not_approved}\\nTotal: {total}\")"
   ]
  },
  {
   "cell_type": "code",
   "execution_count": null,
   "id": "c7f21ffb-a243-4cf2-8d98-ef5aa687de4c",
   "metadata": {},
   "outputs": [],
   "source": [
    "course_data = course_data.sort_values(by=['id_anony','Anho'])\n",
    "last_id = course_data['id_anony'].iloc[0]\n",
    "counter = 0\n",
    "for index,row in course_data.iterrows():\n",
    "    #print(index)\n",
    "    if row['id_anony'] == last_id:\n",
    "        counter += 1 \n",
    "        course_data.loc[index,['Num.Intento']] = counter\n",
    "    else:\n",
    "        last_id = row['id_anony']\n",
    "        course_data.loc[index,['Num.Intento']] = 1\n",
    "        counter = 1\n",
    "    #print(row['id_anony'])"
   ]
  },
  {
   "cell_type": "code",
   "execution_count": null,
   "id": "ba421b47-9d18-414c-afec-72e0d2cbd353",
   "metadata": {},
   "outputs": [],
   "source": [
    "df_train, df_test= train_test_split(course_data, test_size=0.2, random_state=0)\n",
    "print(df_train.shape)\n",
    "print(df_test.shape)"
   ]
  },
  {
   "cell_type": "code",
   "execution_count": null,
   "id": "e7e80087-bea6-46b3-b9ef-f56131093127",
   "metadata": {},
   "outputs": [],
   "source": [
    "# Separating training data into predictors and predictand\n",
    "use_cols = [column for column in df_train.columns if column not in ['Aprobado']]\n",
    "train_x = df_train[use_cols]\n",
    "train_y = df_train['Aprobado']\n",
    "\n",
    "# Separating testing data into predictors and predictand\n",
    "test_x = df_test[use_cols]\n",
    "test_y = df_test['Aprobado']"
   ]
  }
 ],
 "metadata": {
  "kernelspec": {
   "display_name": "Python 3 (ipykernel)",
   "language": "python",
   "name": "python3"
  },
  "language_info": {
   "codemirror_mode": {
    "name": "ipython",
    "version": 3
   },
   "file_extension": ".py",
   "mimetype": "text/x-python",
   "name": "python",
   "nbconvert_exporter": "python",
   "pygments_lexer": "ipython3",
   "version": "3.10.8"
  }
 },
 "nbformat": 4,
 "nbformat_minor": 5
}
