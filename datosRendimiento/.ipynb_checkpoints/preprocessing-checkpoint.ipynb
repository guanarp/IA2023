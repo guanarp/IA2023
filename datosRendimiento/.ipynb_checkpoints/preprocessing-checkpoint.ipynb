{
 "cells": [
  {
   "cell_type": "code",
   "execution_count": 1,
   "id": "fifth-strategy",
   "metadata": {},
   "outputs": [],
   "source": [
    "import os\n",
    "import pandas as pd\n",
    "import numpy as np\n",
    "import matplotlib.pyplot as plt"
   ]
  },
  {
   "cell_type": "code",
   "execution_count": 2,
   "id": "automotive-techno",
   "metadata": {},
   "outputs": [],
   "source": [
    "df= pd.read_csv(\"datos\\datosConcatenados.csv\")"
   ]
  },
  {
   "cell_type": "code",
   "execution_count": 3,
   "id": "hidden-speed",
   "metadata": {},
   "outputs": [
    {
     "name": "stdout",
     "output_type": "stream",
     "text": [
      "<class 'pandas.core.frame.DataFrame'>\n",
      "RangeIndex: 221822 entries, 0 to 221821\n",
      "Data columns (total 23 columns):\n",
      " #   Column        Non-Null Count   Dtype  \n",
      "---  ------        --------------   -----  \n",
      " 0   Unnamed: 0    221822 non-null  int64  \n",
      " 1   danho         221822 non-null  int64  \n",
      " 2   ciclo         221822 non-null  int64  \n",
      " 3   Cod.Asign     221822 non-null  int64  \n",
      " 4   Asignatura    221822 non-null  object \n",
      " 5   Cod.Car.Sec   221822 non-null  object \n",
      " 6   Cod.Curso     221822 non-null  int64  \n",
      " 7   Convocatoria  221822 non-null  int64  \n",
      " 8   Anho          221822 non-null  int64  \n",
      " 9   Semestre      221822 non-null  int64  \n",
      " 10  Aprobado      221822 non-null  object \n",
      " 11  Anho.Firma    221822 non-null  int64  \n",
      " 12  Primer.Par    221822 non-null  int64  \n",
      " 13  Segundo.Par   221822 non-null  int64  \n",
      " 14  AOT           221822 non-null  int64  \n",
      " 15  Primer.Rec    221822 non-null  int64  \n",
      " 16  Segundo.Rec   221822 non-null  int64  \n",
      " 17  Nota.Final    137062 non-null  object \n",
      " 18  Tercer.Par    221822 non-null  float64\n",
      " 19  Asis          221822 non-null  float64\n",
      " 20  Cuarto.Par    28037 non-null   float64\n",
      " 21  4P_60         28037 non-null   float64\n",
      " 22  id_anony      221822 non-null  object \n",
      "dtypes: float64(4), int64(14), object(5)\n",
      "memory usage: 38.9+ MB\n"
     ]
    }
   ],
   "source": [
    "df.info()"
   ]
  },
  {
   "cell_type": "code",
   "execution_count": 4,
   "id": "e6968f99-e698-4ef6-8649-27f633e36940",
   "metadata": {},
   "outputs": [
    {
     "name": "stderr",
     "output_type": "stream",
     "text": [
      "C:\\Users\\Guana\\AppData\\Local\\Temp\\ipykernel_32468\\884411130.py:1: FutureWarning: The default value of regex will change from True to False in a future version.\n",
      "  df[\"Asignatura\"] = df[\"Asignatura\"].str.replace(' +', ' ')\n"
     ]
    },
    {
     "data": {
      "text/plain": [
       "array(['CGF-175-09', 'CGF-PLS09 ', 'CGF-PLS13 ', 'CIV-175-09',\n",
       "       'CIV-PLS09 ', 'CIV-PLS13 ', 'ECA-175-09', 'ECA-PLS09 ',\n",
       "       'ECA-PLS13 ', 'ECA9-OPT  ', 'ELE-175-09', 'ELE-PLS09 ',\n",
       "       'ELE-PLS13 ', 'IND-175-09', 'IND-PLS09 ', 'IND-PLS13 ',\n",
       "       'INT9-PROYT', 'INT9CONSTR', 'INT9ELECTR', 'INT9G-ECO ',\n",
       "       'INT9MECANI', 'INT9ORTERR', 'INT9RNYMA ', 'INT9SANEHI',\n",
       "       'INT9SDIGYT', 'INT9TRANSP', 'MCT-175-09', 'MCT-PLS09 ',\n",
       "       'MCT-PLS13 ', 'MCT9-OPT  ', 'MEC-175-09', 'MEC-PLS09 ',\n",
       "       'MEC-PLS13 ', 'MEC9-OPT  ', 'TIVAS     '], dtype=object)"
      ]
     },
     "execution_count": 4,
     "metadata": {},
     "output_type": "execute_result"
    }
   ],
   "source": [
    "df[\"Asignatura\"] = df[\"Asignatura\"].str.replace(' +', ' ')\n",
    "df[\"Asignatura\"] = df[\"Asignatura\"].str.strip()\n",
    "np.unique(df[\"Asignatura\"])\n",
    "np.unique(df[\"Cod.Car.Sec\"])\n",
    "    "
   ]
  },
  {
   "cell_type": "code",
   "execution_count": 5,
   "id": "34bf7c37-cd5b-4300-9bc7-41296cc81352",
   "metadata": {},
   "outputs": [
    {
     "data": {
      "text/html": [
       "<div>\n",
       "<style scoped>\n",
       "    .dataframe tbody tr th:only-of-type {\n",
       "        vertical-align: middle;\n",
       "    }\n",
       "\n",
       "    .dataframe tbody tr th {\n",
       "        vertical-align: top;\n",
       "    }\n",
       "\n",
       "    .dataframe thead th {\n",
       "        text-align: right;\n",
       "    }\n",
       "</style>\n",
       "<table border=\"1\" class=\"dataframe\">\n",
       "  <thead>\n",
       "    <tr style=\"text-align: right;\">\n",
       "      <th></th>\n",
       "      <th>Unnamed: 0</th>\n",
       "      <th>danho</th>\n",
       "      <th>ciclo</th>\n",
       "      <th>Cod.Asign</th>\n",
       "      <th>Asignatura</th>\n",
       "      <th>Cod.Car.Sec</th>\n",
       "      <th>Cod.Curso</th>\n",
       "      <th>Convocatoria</th>\n",
       "      <th>Anho</th>\n",
       "      <th>Semestre</th>\n",
       "      <th>...</th>\n",
       "      <th>Segundo.Par</th>\n",
       "      <th>AOT</th>\n",
       "      <th>Primer.Rec</th>\n",
       "      <th>Segundo.Rec</th>\n",
       "      <th>Nota.Final</th>\n",
       "      <th>Tercer.Par</th>\n",
       "      <th>Asis</th>\n",
       "      <th>Cuarto.Par</th>\n",
       "      <th>4P_60</th>\n",
       "      <th>id_anony</th>\n",
       "    </tr>\n",
       "  </thead>\n",
       "  <tbody>\n",
       "    <tr>\n",
       "      <th>0</th>\n",
       "      <td>0</td>\n",
       "      <td>2012</td>\n",
       "      <td>1</td>\n",
       "      <td>2402</td>\n",
       "      <td>COMBUSTION</td>\n",
       "      <td>INT9MECANI</td>\n",
       "      <td>13</td>\n",
       "      <td>1</td>\n",
       "      <td>2012</td>\n",
       "      <td>1</td>\n",
       "      <td>...</td>\n",
       "      <td>0</td>\n",
       "      <td>0</td>\n",
       "      <td>0</td>\n",
       "      <td>0</td>\n",
       "      <td>NaN</td>\n",
       "      <td>0.0</td>\n",
       "      <td>1.0</td>\n",
       "      <td>NaN</td>\n",
       "      <td>NaN</td>\n",
       "      <td>es_0</td>\n",
       "    </tr>\n",
       "    <tr>\n",
       "      <th>1</th>\n",
       "      <td>1</td>\n",
       "      <td>2012</td>\n",
       "      <td>1</td>\n",
       "      <td>2402</td>\n",
       "      <td>COMBUSTION</td>\n",
       "      <td>MEC9-OPT</td>\n",
       "      <td>13</td>\n",
       "      <td>1</td>\n",
       "      <td>2012</td>\n",
       "      <td>1</td>\n",
       "      <td>...</td>\n",
       "      <td>14</td>\n",
       "      <td>8</td>\n",
       "      <td>0</td>\n",
       "      <td>0</td>\n",
       "      <td>1F-5</td>\n",
       "      <td>0.0</td>\n",
       "      <td>1.0</td>\n",
       "      <td>NaN</td>\n",
       "      <td>NaN</td>\n",
       "      <td>es_1</td>\n",
       "    </tr>\n",
       "    <tr>\n",
       "      <th>2</th>\n",
       "      <td>2</td>\n",
       "      <td>2012</td>\n",
       "      <td>1</td>\n",
       "      <td>2402</td>\n",
       "      <td>COMBUSTION</td>\n",
       "      <td>INT9MECANI</td>\n",
       "      <td>13</td>\n",
       "      <td>1</td>\n",
       "      <td>2012</td>\n",
       "      <td>1</td>\n",
       "      <td>...</td>\n",
       "      <td>23</td>\n",
       "      <td>9</td>\n",
       "      <td>0</td>\n",
       "      <td>0</td>\n",
       "      <td>1F-5</td>\n",
       "      <td>0.0</td>\n",
       "      <td>1.0</td>\n",
       "      <td>NaN</td>\n",
       "      <td>NaN</td>\n",
       "      <td>es_2</td>\n",
       "    </tr>\n",
       "    <tr>\n",
       "      <th>3</th>\n",
       "      <td>3</td>\n",
       "      <td>2012</td>\n",
       "      <td>1</td>\n",
       "      <td>2402</td>\n",
       "      <td>COMBUSTION</td>\n",
       "      <td>MEC9-OPT</td>\n",
       "      <td>13</td>\n",
       "      <td>1</td>\n",
       "      <td>2012</td>\n",
       "      <td>1</td>\n",
       "      <td>...</td>\n",
       "      <td>14</td>\n",
       "      <td>8</td>\n",
       "      <td>0</td>\n",
       "      <td>0</td>\n",
       "      <td>1F-1,2F-2</td>\n",
       "      <td>0.0</td>\n",
       "      <td>1.0</td>\n",
       "      <td>NaN</td>\n",
       "      <td>NaN</td>\n",
       "      <td>es_3</td>\n",
       "    </tr>\n",
       "    <tr>\n",
       "      <th>4</th>\n",
       "      <td>4</td>\n",
       "      <td>2012</td>\n",
       "      <td>1</td>\n",
       "      <td>2402</td>\n",
       "      <td>COMBUSTION</td>\n",
       "      <td>MEC9-OPT</td>\n",
       "      <td>13</td>\n",
       "      <td>1</td>\n",
       "      <td>2012</td>\n",
       "      <td>1</td>\n",
       "      <td>...</td>\n",
       "      <td>4</td>\n",
       "      <td>8</td>\n",
       "      <td>0</td>\n",
       "      <td>0</td>\n",
       "      <td>NaN</td>\n",
       "      <td>0.0</td>\n",
       "      <td>1.0</td>\n",
       "      <td>NaN</td>\n",
       "      <td>NaN</td>\n",
       "      <td>es_4</td>\n",
       "    </tr>\n",
       "    <tr>\n",
       "      <th>...</th>\n",
       "      <td>...</td>\n",
       "      <td>...</td>\n",
       "      <td>...</td>\n",
       "      <td>...</td>\n",
       "      <td>...</td>\n",
       "      <td>...</td>\n",
       "      <td>...</td>\n",
       "      <td>...</td>\n",
       "      <td>...</td>\n",
       "      <td>...</td>\n",
       "      <td>...</td>\n",
       "      <td>...</td>\n",
       "      <td>...</td>\n",
       "      <td>...</td>\n",
       "      <td>...</td>\n",
       "      <td>...</td>\n",
       "      <td>...</td>\n",
       "      <td>...</td>\n",
       "      <td>...</td>\n",
       "      <td>...</td>\n",
       "      <td>...</td>\n",
       "    </tr>\n",
       "    <tr>\n",
       "      <th>221817</th>\n",
       "      <td>15045</td>\n",
       "      <td>2021</td>\n",
       "      <td>1</td>\n",
       "      <td>5746</td>\n",
       "      <td>PROCESOS DE FABRICACION</td>\n",
       "      <td>MCT9-OPT</td>\n",
       "      <td>13</td>\n",
       "      <td>1</td>\n",
       "      <td>2021</td>\n",
       "      <td>1</td>\n",
       "      <td>...</td>\n",
       "      <td>0</td>\n",
       "      <td>0</td>\n",
       "      <td>0</td>\n",
       "      <td>0</td>\n",
       "      <td>NaN</td>\n",
       "      <td>0.0</td>\n",
       "      <td>1.0</td>\n",
       "      <td>NaN</td>\n",
       "      <td>NaN</td>\n",
       "      <td>es_3105</td>\n",
       "    </tr>\n",
       "    <tr>\n",
       "      <th>221818</th>\n",
       "      <td>15046</td>\n",
       "      <td>2021</td>\n",
       "      <td>1</td>\n",
       "      <td>5746</td>\n",
       "      <td>PROCESOS DE FABRICACION</td>\n",
       "      <td>MCT9-OPT</td>\n",
       "      <td>13</td>\n",
       "      <td>1</td>\n",
       "      <td>2021</td>\n",
       "      <td>1</td>\n",
       "      <td>...</td>\n",
       "      <td>26</td>\n",
       "      <td>10</td>\n",
       "      <td>0</td>\n",
       "      <td>0</td>\n",
       "      <td>NaN</td>\n",
       "      <td>0.0</td>\n",
       "      <td>1.0</td>\n",
       "      <td>NaN</td>\n",
       "      <td>NaN</td>\n",
       "      <td>es_2036</td>\n",
       "    </tr>\n",
       "    <tr>\n",
       "      <th>221819</th>\n",
       "      <td>15047</td>\n",
       "      <td>2021</td>\n",
       "      <td>1</td>\n",
       "      <td>5746</td>\n",
       "      <td>PROCESOS DE FABRICACION</td>\n",
       "      <td>MCT9-OPT</td>\n",
       "      <td>13</td>\n",
       "      <td>1</td>\n",
       "      <td>2021</td>\n",
       "      <td>1</td>\n",
       "      <td>...</td>\n",
       "      <td>26</td>\n",
       "      <td>10</td>\n",
       "      <td>0</td>\n",
       "      <td>0</td>\n",
       "      <td>1F-5</td>\n",
       "      <td>0.0</td>\n",
       "      <td>1.0</td>\n",
       "      <td>NaN</td>\n",
       "      <td>NaN</td>\n",
       "      <td>es_2397</td>\n",
       "    </tr>\n",
       "    <tr>\n",
       "      <th>221820</th>\n",
       "      <td>15048</td>\n",
       "      <td>2021</td>\n",
       "      <td>1</td>\n",
       "      <td>5746</td>\n",
       "      <td>PROCESOS DE FABRICACION</td>\n",
       "      <td>MCT9-OPT</td>\n",
       "      <td>13</td>\n",
       "      <td>1</td>\n",
       "      <td>2021</td>\n",
       "      <td>1</td>\n",
       "      <td>...</td>\n",
       "      <td>0</td>\n",
       "      <td>0</td>\n",
       "      <td>0</td>\n",
       "      <td>0</td>\n",
       "      <td>NaN</td>\n",
       "      <td>0.0</td>\n",
       "      <td>1.0</td>\n",
       "      <td>NaN</td>\n",
       "      <td>NaN</td>\n",
       "      <td>es_2917</td>\n",
       "    </tr>\n",
       "    <tr>\n",
       "      <th>221821</th>\n",
       "      <td>15049</td>\n",
       "      <td>2021</td>\n",
       "      <td>1</td>\n",
       "      <td>5746</td>\n",
       "      <td>PROCESOS DE FABRICACION</td>\n",
       "      <td>MCT9-OPT</td>\n",
       "      <td>13</td>\n",
       "      <td>1</td>\n",
       "      <td>2021</td>\n",
       "      <td>1</td>\n",
       "      <td>...</td>\n",
       "      <td>0</td>\n",
       "      <td>0</td>\n",
       "      <td>0</td>\n",
       "      <td>0</td>\n",
       "      <td>NaN</td>\n",
       "      <td>0.0</td>\n",
       "      <td>1.0</td>\n",
       "      <td>NaN</td>\n",
       "      <td>NaN</td>\n",
       "      <td>es_2504</td>\n",
       "    </tr>\n",
       "  </tbody>\n",
       "</table>\n",
       "<p>221822 rows × 23 columns</p>\n",
       "</div>"
      ],
      "text/plain": [
       "        Unnamed: 0  danho  ciclo  Cod.Asign               Asignatura  \\\n",
       "0                0   2012      1       2402               COMBUSTION   \n",
       "1                1   2012      1       2402               COMBUSTION   \n",
       "2                2   2012      1       2402               COMBUSTION   \n",
       "3                3   2012      1       2402               COMBUSTION   \n",
       "4                4   2012      1       2402               COMBUSTION   \n",
       "...            ...    ...    ...        ...                      ...   \n",
       "221817       15045   2021      1       5746  PROCESOS DE FABRICACION   \n",
       "221818       15046   2021      1       5746  PROCESOS DE FABRICACION   \n",
       "221819       15047   2021      1       5746  PROCESOS DE FABRICACION   \n",
       "221820       15048   2021      1       5746  PROCESOS DE FABRICACION   \n",
       "221821       15049   2021      1       5746  PROCESOS DE FABRICACION   \n",
       "\n",
       "       Cod.Car.Sec  Cod.Curso  Convocatoria  Anho  Semestre  ... Segundo.Par  \\\n",
       "0       INT9MECANI         13             1  2012         1  ...           0   \n",
       "1       MEC9-OPT           13             1  2012         1  ...          14   \n",
       "2       INT9MECANI         13             1  2012         1  ...          23   \n",
       "3       MEC9-OPT           13             1  2012         1  ...          14   \n",
       "4       MEC9-OPT           13             1  2012         1  ...           4   \n",
       "...            ...        ...           ...   ...       ...  ...         ...   \n",
       "221817  MCT9-OPT           13             1  2021         1  ...           0   \n",
       "221818  MCT9-OPT           13             1  2021         1  ...          26   \n",
       "221819  MCT9-OPT           13             1  2021         1  ...          26   \n",
       "221820  MCT9-OPT           13             1  2021         1  ...           0   \n",
       "221821  MCT9-OPT           13             1  2021         1  ...           0   \n",
       "\n",
       "        AOT  Primer.Rec  Segundo.Rec  Nota.Final  Tercer.Par  Asis Cuarto.Par  \\\n",
       "0         0           0            0         NaN         0.0   1.0        NaN   \n",
       "1         8           0            0        1F-5         0.0   1.0        NaN   \n",
       "2         9           0            0        1F-5         0.0   1.0        NaN   \n",
       "3         8           0            0   1F-1,2F-2         0.0   1.0        NaN   \n",
       "4         8           0            0         NaN         0.0   1.0        NaN   \n",
       "...     ...         ...          ...         ...         ...   ...        ...   \n",
       "221817    0           0            0         NaN         0.0   1.0        NaN   \n",
       "221818   10           0            0         NaN         0.0   1.0        NaN   \n",
       "221819   10           0            0        1F-5         0.0   1.0        NaN   \n",
       "221820    0           0            0         NaN         0.0   1.0        NaN   \n",
       "221821    0           0            0         NaN         0.0   1.0        NaN   \n",
       "\n",
       "        4P_60  id_anony  \n",
       "0         NaN      es_0  \n",
       "1         NaN      es_1  \n",
       "2         NaN      es_2  \n",
       "3         NaN      es_3  \n",
       "4         NaN      es_4  \n",
       "...       ...       ...  \n",
       "221817    NaN   es_3105  \n",
       "221818    NaN   es_2036  \n",
       "221819    NaN   es_2397  \n",
       "221820    NaN   es_2917  \n",
       "221821    NaN   es_2504  \n",
       "\n",
       "[221822 rows x 23 columns]"
      ]
     },
     "execution_count": 5,
     "metadata": {},
     "output_type": "execute_result"
    }
   ],
   "source": [
    "df"
   ]
  },
  {
   "cell_type": "code",
   "execution_count": 6,
   "id": "8fda75c2-9a93-40e0-9c07-0c888acb00ee",
   "metadata": {},
   "outputs": [
    {
     "data": {
      "text/plain": [
       "0            NaN\n",
       "1            [5]\n",
       "2            [5]\n",
       "3         [1, 2]\n",
       "4            NaN\n",
       "           ...  \n",
       "221817       NaN\n",
       "221818       NaN\n",
       "221819       [5]\n",
       "221820       NaN\n",
       "221821       NaN\n",
       "Name: Nota.Final, Length: 221822, dtype: object"
      ]
     },
     "execution_count": 6,
     "metadata": {},
     "output_type": "execute_result"
    }
   ],
   "source": [
    "df['Nota.Final'] = df['Nota.Final'].replace(regex=['1F-','2F-','3F-'],value= '')\n",
    "df['Nota.Final'] = df['Nota.Final'].replace(regex=['ME-','C-','F','D-'],value= '')\n",
    "df['Nota.Final'] = np.where(~(df['Nota.Final'].isnull()),df['Nota.Final'].str.split(','),df['Nota.Final'])\n",
    "df['Nota.Final']"
   ]
  },
  {
   "cell_type": "code",
   "execution_count": 12,
   "id": "aa42a6e3-b653-4080-973a-428c194b510f",
   "metadata": {},
   "outputs": [
    {
     "ename": "TypeError",
     "evalue": "'int' object is not iterable",
     "output_type": "error",
     "traceback": [
      "\u001b[1;31m---------------------------------------------------------------------------\u001b[0m",
      "\u001b[1;31mTypeError\u001b[0m                                 Traceback (most recent call last)",
      "Cell \u001b[1;32mIn[11], line 2\u001b[0m\n\u001b[0;32m      1\u001b[0m df[\u001b[38;5;124m'\u001b[39m\u001b[38;5;124mNota.Final\u001b[39m\u001b[38;5;124m'\u001b[39m] \u001b[38;5;241m=\u001b[39m df[\u001b[38;5;124m'\u001b[39m\u001b[38;5;124mNota.Final\u001b[39m\u001b[38;5;124m'\u001b[39m]\u001b[38;5;241m.\u001b[39mfillna(\u001b[38;5;241m0\u001b[39m)\n\u001b[1;32m----> 2\u001b[0m df[\u001b[38;5;124m'\u001b[39m\u001b[38;5;124mNota.Final\u001b[39m\u001b[38;5;124m'\u001b[39m] \u001b[38;5;241m=\u001b[39m \u001b[43mdf\u001b[49m\u001b[43m[\u001b[49m\u001b[38;5;124;43m'\u001b[39;49m\u001b[38;5;124;43mNota.Final\u001b[39;49m\u001b[38;5;124;43m'\u001b[39;49m\u001b[43m]\u001b[49m\u001b[38;5;241;43m.\u001b[39;49m\u001b[43mapply\u001b[49m\u001b[43m(\u001b[49m\u001b[38;5;28;43;01mlambda\u001b[39;49;00m\u001b[43m \u001b[49m\u001b[43mx\u001b[49m\u001b[43m \u001b[49m\u001b[43m:\u001b[49m\u001b[43m \u001b[49m\u001b[43m[\u001b[49m\u001b[38;5;28;43mint\u001b[39;49m\u001b[43m(\u001b[49m\u001b[43mi\u001b[49m\u001b[43m)\u001b[49m\u001b[43m \u001b[49m\u001b[38;5;28;43;01mfor\u001b[39;49;00m\u001b[43m \u001b[49m\u001b[43mi\u001b[49m\u001b[43m \u001b[49m\u001b[38;5;129;43;01min\u001b[39;49;00m\u001b[43m \u001b[49m\u001b[43mx\u001b[49m\u001b[43m \u001b[49m\u001b[38;5;28;43;01mif\u001b[39;49;00m\u001b[43m \u001b[49m\u001b[38;5;28;43misinstance\u001b[39;49m\u001b[43m(\u001b[49m\u001b[43mx\u001b[49m\u001b[43m,\u001b[49m\u001b[38;5;28;43mint\u001b[39;49m\u001b[43m)\u001b[49m\u001b[43m]\u001b[49m\u001b[43m)\u001b[49m\n\u001b[0;32m      3\u001b[0m df[\u001b[38;5;124m'\u001b[39m\u001b[38;5;124mNota.Final\u001b[39m\u001b[38;5;124m'\u001b[39m]\u001b[38;5;241m.\u001b[39mhead()\n",
      "File \u001b[1;32mD:\\ProgramData\\Anaconda3\\envs\\IA2023\\lib\\site-packages\\pandas\\core\\series.py:4771\u001b[0m, in \u001b[0;36mSeries.apply\u001b[1;34m(self, func, convert_dtype, args, **kwargs)\u001b[0m\n\u001b[0;32m   4661\u001b[0m \u001b[38;5;28;01mdef\u001b[39;00m \u001b[38;5;21mapply\u001b[39m(\n\u001b[0;32m   4662\u001b[0m     \u001b[38;5;28mself\u001b[39m,\n\u001b[0;32m   4663\u001b[0m     func: AggFuncType,\n\u001b[1;32m   (...)\u001b[0m\n\u001b[0;32m   4666\u001b[0m     \u001b[38;5;241m*\u001b[39m\u001b[38;5;241m*\u001b[39mkwargs,\n\u001b[0;32m   4667\u001b[0m ) \u001b[38;5;241m-\u001b[39m\u001b[38;5;241m>\u001b[39m DataFrame \u001b[38;5;241m|\u001b[39m Series:\n\u001b[0;32m   4668\u001b[0m     \u001b[38;5;124;03m\"\"\"\u001b[39;00m\n\u001b[0;32m   4669\u001b[0m \u001b[38;5;124;03m    Invoke function on values of Series.\u001b[39;00m\n\u001b[0;32m   4670\u001b[0m \n\u001b[1;32m   (...)\u001b[0m\n\u001b[0;32m   4769\u001b[0m \u001b[38;5;124;03m    dtype: float64\u001b[39;00m\n\u001b[0;32m   4770\u001b[0m \u001b[38;5;124;03m    \"\"\"\u001b[39;00m\n\u001b[1;32m-> 4771\u001b[0m     \u001b[38;5;28;01mreturn\u001b[39;00m \u001b[43mSeriesApply\u001b[49m\u001b[43m(\u001b[49m\u001b[38;5;28;43mself\u001b[39;49m\u001b[43m,\u001b[49m\u001b[43m \u001b[49m\u001b[43mfunc\u001b[49m\u001b[43m,\u001b[49m\u001b[43m \u001b[49m\u001b[43mconvert_dtype\u001b[49m\u001b[43m,\u001b[49m\u001b[43m \u001b[49m\u001b[43margs\u001b[49m\u001b[43m,\u001b[49m\u001b[43m \u001b[49m\u001b[43mkwargs\u001b[49m\u001b[43m)\u001b[49m\u001b[38;5;241;43m.\u001b[39;49m\u001b[43mapply\u001b[49m\u001b[43m(\u001b[49m\u001b[43m)\u001b[49m\n",
      "File \u001b[1;32mD:\\ProgramData\\Anaconda3\\envs\\IA2023\\lib\\site-packages\\pandas\\core\\apply.py:1105\u001b[0m, in \u001b[0;36mSeriesApply.apply\u001b[1;34m(self)\u001b[0m\n\u001b[0;32m   1102\u001b[0m     \u001b[38;5;28;01mreturn\u001b[39;00m \u001b[38;5;28mself\u001b[39m\u001b[38;5;241m.\u001b[39mapply_str()\n\u001b[0;32m   1104\u001b[0m \u001b[38;5;66;03m# self.f is Callable\u001b[39;00m\n\u001b[1;32m-> 1105\u001b[0m \u001b[38;5;28;01mreturn\u001b[39;00m \u001b[38;5;28;43mself\u001b[39;49m\u001b[38;5;241;43m.\u001b[39;49m\u001b[43mapply_standard\u001b[49m\u001b[43m(\u001b[49m\u001b[43m)\u001b[49m\n",
      "File \u001b[1;32mD:\\ProgramData\\Anaconda3\\envs\\IA2023\\lib\\site-packages\\pandas\\core\\apply.py:1156\u001b[0m, in \u001b[0;36mSeriesApply.apply_standard\u001b[1;34m(self)\u001b[0m\n\u001b[0;32m   1154\u001b[0m     \u001b[38;5;28;01melse\u001b[39;00m:\n\u001b[0;32m   1155\u001b[0m         values \u001b[38;5;241m=\u001b[39m obj\u001b[38;5;241m.\u001b[39mastype(\u001b[38;5;28mobject\u001b[39m)\u001b[38;5;241m.\u001b[39m_values\n\u001b[1;32m-> 1156\u001b[0m         mapped \u001b[38;5;241m=\u001b[39m \u001b[43mlib\u001b[49m\u001b[38;5;241;43m.\u001b[39;49m\u001b[43mmap_infer\u001b[49m\u001b[43m(\u001b[49m\n\u001b[0;32m   1157\u001b[0m \u001b[43m            \u001b[49m\u001b[43mvalues\u001b[49m\u001b[43m,\u001b[49m\n\u001b[0;32m   1158\u001b[0m \u001b[43m            \u001b[49m\u001b[43mf\u001b[49m\u001b[43m,\u001b[49m\n\u001b[0;32m   1159\u001b[0m \u001b[43m            \u001b[49m\u001b[43mconvert\u001b[49m\u001b[38;5;241;43m=\u001b[39;49m\u001b[38;5;28;43mself\u001b[39;49m\u001b[38;5;241;43m.\u001b[39;49m\u001b[43mconvert_dtype\u001b[49m\u001b[43m,\u001b[49m\n\u001b[0;32m   1160\u001b[0m \u001b[43m        \u001b[49m\u001b[43m)\u001b[49m\n\u001b[0;32m   1162\u001b[0m \u001b[38;5;28;01mif\u001b[39;00m \u001b[38;5;28mlen\u001b[39m(mapped) \u001b[38;5;129;01mand\u001b[39;00m \u001b[38;5;28misinstance\u001b[39m(mapped[\u001b[38;5;241m0\u001b[39m], ABCSeries):\n\u001b[0;32m   1163\u001b[0m     \u001b[38;5;66;03m# GH#43986 Need to do list(mapped) in order to get treated as nested\u001b[39;00m\n\u001b[0;32m   1164\u001b[0m     \u001b[38;5;66;03m#  See also GH#25959 regarding EA support\u001b[39;00m\n\u001b[0;32m   1165\u001b[0m     \u001b[38;5;28;01mreturn\u001b[39;00m obj\u001b[38;5;241m.\u001b[39m_constructor_expanddim(\u001b[38;5;28mlist\u001b[39m(mapped), index\u001b[38;5;241m=\u001b[39mobj\u001b[38;5;241m.\u001b[39mindex)\n",
      "File \u001b[1;32mD:\\ProgramData\\Anaconda3\\envs\\IA2023\\lib\\site-packages\\pandas\\_libs\\lib.pyx:2918\u001b[0m, in \u001b[0;36mpandas._libs.lib.map_infer\u001b[1;34m()\u001b[0m\n",
      "Cell \u001b[1;32mIn[11], line 2\u001b[0m, in \u001b[0;36m<lambda>\u001b[1;34m(x)\u001b[0m\n\u001b[0;32m      1\u001b[0m df[\u001b[38;5;124m'\u001b[39m\u001b[38;5;124mNota.Final\u001b[39m\u001b[38;5;124m'\u001b[39m] \u001b[38;5;241m=\u001b[39m df[\u001b[38;5;124m'\u001b[39m\u001b[38;5;124mNota.Final\u001b[39m\u001b[38;5;124m'\u001b[39m]\u001b[38;5;241m.\u001b[39mfillna(\u001b[38;5;241m0\u001b[39m)\n\u001b[1;32m----> 2\u001b[0m df[\u001b[38;5;124m'\u001b[39m\u001b[38;5;124mNota.Final\u001b[39m\u001b[38;5;124m'\u001b[39m] \u001b[38;5;241m=\u001b[39m df[\u001b[38;5;124m'\u001b[39m\u001b[38;5;124mNota.Final\u001b[39m\u001b[38;5;124m'\u001b[39m]\u001b[38;5;241m.\u001b[39mapply(\u001b[38;5;28;01mlambda\u001b[39;00m x : [\u001b[38;5;28mint\u001b[39m(i) \u001b[38;5;28;01mfor\u001b[39;00m i \u001b[38;5;129;01min\u001b[39;00m x \u001b[38;5;28;01mif\u001b[39;00m \u001b[38;5;28misinstance\u001b[39m(x,\u001b[38;5;28mint\u001b[39m)])\n\u001b[0;32m      3\u001b[0m df[\u001b[38;5;124m'\u001b[39m\u001b[38;5;124mNota.Final\u001b[39m\u001b[38;5;124m'\u001b[39m]\u001b[38;5;241m.\u001b[39mhead()\n",
      "\u001b[1;31mTypeError\u001b[0m: 'int' object is not iterable"
     ]
    }
   ],
   "source": []
  },
  {
   "cell_type": "code",
   "execution_count": null,
   "id": "a92c00e3-a518-40d4-b7bc-462d577c2d18",
   "metadata": {},
   "outputs": [],
   "source": [
    "condition = df['Cuarto.Par'].isnull()\n",
    "df = df[condition]\n",
    "condition = df['Tercer.Par'] == 0\n",
    "df = df[condition]\n",
    "df"
   ]
  },
  {
   "cell_type": "code",
   "execution_count": null,
   "id": "d41f1318-6e8c-4f94-bbfe-83e059062ff1",
   "metadata": {},
   "outputs": [],
   "source": [
    "df.drop(['Tercer.Par','Cuarto.Par'],axis=1, inplace = True)"
   ]
  },
  {
   "cell_type": "code",
   "execution_count": null,
   "id": "292e02ef-084f-415a-a5a1-119b0ab7addf",
   "metadata": {},
   "outputs": [],
   "source": [
    "df"
   ]
  },
  {
   "cell_type": "code",
   "execution_count": null,
   "id": "9a68c7a6-862b-4ce0-9687-ea1cc1c3851b",
   "metadata": {},
   "outputs": [],
   "source": [
    "print(df[\"Aprobado\"].head())\n",
    "df.Aprobado = pd.Categorical(df.Aprobado)\n",
    "df.Aprobado = df.Aprobado.cat.codes\n",
    "df[\"Aprobado\"].head()"
   ]
  },
  {
   "cell_type": "code",
   "execution_count": null,
   "id": "cooperative-directive",
   "metadata": {},
   "outputs": [],
   "source": [
    "majors = ['CGF','CIV','ECA','ELE','IND','INT','MCT','MEC']\n",
    "majors_dict = {}\n",
    "for major in majors:\n",
    "    condition = df[\"Cod.Car.Sec\"].str[:3] == major\n",
    "    majors_dict[major] = df[condition]"
   ]
  },
  {
   "cell_type": "code",
   "execution_count": null,
   "id": "ef6de7c7-c6d7-4fcd-bd1f-41732611f84e",
   "metadata": {},
   "outputs": [],
   "source": [
    "for major in majors:\n",
    "    condition = majors_dict[major]['Cod.Curso'] > 4\n",
    "    majors_dict[major] = majors_dict[major][condition] "
   ]
  },
  {
   "cell_type": "code",
   "execution_count": null,
   "id": "d2f8f1cd-bdc4-4619-b74b-c6bdd1990e77",
   "metadata": {},
   "outputs": [],
   "source": [
    "%%capture\n",
    "for major in majors:\n",
    "    print(majors_dict[major].head())"
   ]
  },
  {
   "cell_type": "code",
   "execution_count": null,
   "id": "5bc03256-973a-4e04-9323-fad4dda1efe7",
   "metadata": {},
   "outputs": [],
   "source": [
    "%%capture\n",
    "for major in majors:\n",
    "    print(np.unique(majors_dict[major][\"Cod.Curso\"]))"
   ]
  },
  {
   "cell_type": "code",
   "execution_count": null,
   "id": "confirmed-disposal",
   "metadata": {},
   "outputs": [],
   "source": [
    "print(\"Number of students in specific courses \")\n",
    "for major in majors:\n",
    "    print(major,len(np.unique(majors_dict[major].id_anony.values)))"
   ]
  },
  {
   "cell_type": "code",
   "execution_count": null,
   "id": "5c114f9c-43a8-42bf-9d62-965c80b282c4",
   "metadata": {},
   "outputs": [],
   "source": [
    "%%capture\n",
    "if \"CB\" not in majors:\n",
    "    majors.append(\"CB\")\n",
    "print(majors)"
   ]
  },
  {
   "cell_type": "code",
   "execution_count": null,
   "id": "4c235e42-70ec-4d02-80a7-8b3edff1e534",
   "metadata": {},
   "outputs": [],
   "source": [
    "condition = df['Cod.Curso'] <= 4\n",
    "majors_dict[\"CB\"] = df[condition]\n",
    "majors_dict[\"CB\"] = majors_dict[\"CB\"][majors_dict[\"CB\"]['Cod.Car.Sec'] != \"TIVAS     \"]\n",
    "majors_dict[\"CB\"]"
   ]
  },
  {
   "cell_type": "code",
   "execution_count": null,
   "id": "fdd159b0-445b-41e5-958e-e021c2663f40",
   "metadata": {},
   "outputs": [],
   "source": [
    "for major in majors:\n",
    "    name = \"datasets\\datos\"+\"_\"+str(major)+\".csv\"\n",
    "    majors_dict[major].to_csv(name)"
   ]
  },
  {
   "cell_type": "code",
   "execution_count": null,
   "id": "6856f0d6-c957-45bc-9d6f-da64636b8549",
   "metadata": {},
   "outputs": [],
   "source": [
    "%%capture\n",
    "for major in majors:\n",
    "    columns = [\"Aprobado\",\"Primer.Par\",\"Segundo.Par\",\"AOT\",\"Primer.Rec\",\"Segundo.Rec\",\"Nota.Final\",\"Asis\",\"id_anony\"]\n",
    "    print(majors_dict[major][columns].describe())\n",
    "    print(\"#############################################################\")"
   ]
  },
  {
   "cell_type": "code",
   "execution_count": null,
   "id": "difficult-metabolism",
   "metadata": {},
   "outputs": [],
   "source": [
    "condition = np.logical_and(majors_dict[\"CB\"][\"Asignatura\"].values==\"COMPUTACION\", majors_dict[\"CB\"][\"Aprobado\"]==\"S\")\n",
    "approved = majors_dict[\"CB\"][condition]\n",
    "approved"
   ]
  },
  {
   "cell_type": "code",
   "execution_count": null,
   "id": "18fb204b-0cb6-44f9-baf0-d142dfaf359c",
   "metadata": {},
   "outputs": [],
   "source": [
    "condition = np.logical_and(majors_dict[\"CB\"][\"Asignatura\"].values==\"PROGRAMACION ORIENTADA A OBJETOS\",majors_dict[\"CB\"][\"Cod.Car.Sec\"].str[:3]==\"MCT\")\n",
    "POO = majors_dict[\"CB\"][condition]\n",
    "POO"
   ]
  },
  {
   "cell_type": "code",
   "execution_count": null,
   "id": "e6789e26-b0b2-4476-b4eb-9d4d45d59172",
   "metadata": {},
   "outputs": [],
   "source": [
    "computacion = pd.merge(approved, POO, on = ['id_anony'])\n",
    "computacion\n",
    "\n",
    "computacion[[\"Aprobado_x\",\"Aprobado_y\"]]"
   ]
  },
  {
   "cell_type": "code",
   "execution_count": null,
   "id": "heated-corruption",
   "metadata": {},
   "outputs": [],
   "source": [
    "#Hasta aca son cosas que hice, a filtrar\n",
    "\n",
    "new_df=pd.DataFrame(columns=[\"Id\",\"First attemp year\",\"First attemp period \",\"Pass year\",\"Pass period\"])\n",
    "for student in students:\n",
    "    student_dict = {} \n",
    "    df[df.id_anony.values==df]\n",
    "    if(np.sum(registro[\"Cod.Curso\"].values==1)>=1 and np.sum(registro[\"Cod.Curso\"].values==4)>=1):\n",
    "        if()\n",
    "            break\n",
    "    \n",
    "    \n",
    "    \n",
    "    \n",
    "    \n",
    "    "
   ]
  },
  {
   "cell_type": "code",
   "execution_count": null,
   "id": "interesting-portugal",
   "metadata": {},
   "outputs": [],
   "source": [
    "registro"
   ]
  },
  {
   "cell_type": "code",
   "execution_count": null,
   "id": "transparent-happiness",
   "metadata": {},
   "outputs": [],
   "source": [
    "carreraP.info()"
   ]
  },
  {
   "cell_type": "code",
   "execution_count": null,
   "id": "variable-drain",
   "metadata": {},
   "outputs": [],
   "source": [
    "flagFirma2011=carreraP[\"Anho.Firma\"]==2011\n",
    "\n",
    "carreraPL=carreraP[~flagFirma2011]"
   ]
  },
  {
   "cell_type": "code",
   "execution_count": null,
   "id": "silent-dollar",
   "metadata": {},
   "outputs": [],
   "source": [
    "carreraPL.info()"
   ]
  },
  {
   "cell_type": "code",
   "execution_count": null,
   "id": "occupational-ebony",
   "metadata": {},
   "outputs": [],
   "source": [
    "carreraNP.head()"
   ]
  },
  {
   "cell_type": "code",
   "execution_count": null,
   "id": "authentic-division",
   "metadata": {},
   "outputs": [],
   "source": [
    "carreraPLN.info()"
   ]
  },
  {
   "cell_type": "code",
   "execution_count": null,
   "id": "explicit-trinidad",
   "metadata": {},
   "outputs": [],
   "source": [
    "carreraPLN[[\"Aprobado_x\",\"Aprobado_y\"]].values[0:10]"
   ]
  },
  {
   "cell_type": "code",
   "execution_count": null,
   "id": "international-usage",
   "metadata": {},
   "outputs": [],
   "source": [
    "for asig in asignaturas:\n",
    "    flag=df.Asignatura.values==asig\n",
    "    print(np.sum(df[\"Aprobado\"][flag]==\"S\"))\n",
    "    \n",
    "    "
   ]
  },
  {
   "cell_type": "code",
   "execution_count": null,
   "id": "decimal-ladder",
   "metadata": {},
   "outputs": [],
   "source": []
  }
 ],
 "metadata": {
  "kernelspec": {
   "display_name": "Python 3 (ipykernel)",
   "language": "python",
   "name": "python3"
  },
  "language_info": {
   "codemirror_mode": {
    "name": "ipython",
    "version": 3
   },
   "file_extension": ".py",
   "mimetype": "text/x-python",
   "name": "python",
   "nbconvert_exporter": "python",
   "pygments_lexer": "ipython3",
   "version": "3.10.9"
  }
 },
 "nbformat": 4,
 "nbformat_minor": 5
}
