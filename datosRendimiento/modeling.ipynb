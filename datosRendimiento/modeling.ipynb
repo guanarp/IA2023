{
 "cells": [
  {
   "cell_type": "code",
   "execution_count": 1,
   "id": "067b48c9-e3c7-4f1a-ae82-7d87342138e0",
   "metadata": {},
   "outputs": [],
   "source": [
    "import pandas as pd\n",
    "import numpy as np\n",
    "import matplotlib.pyplot as plt\n",
    "from sklearn.model_selection import train_test_split\n",
    "from sklearn.linear_model import LogisticRegression, LogisticRegressionCV ,SGDClassifier\n",
    "from sklearn.model_selection import LearningCurveDisplay, ShuffleSplit"
   ]
  },
  {
   "cell_type": "code",
   "execution_count": 2,
   "id": "a9444bef-4b8b-4e19-9ee3-02430e3192eb",
   "metadata": {},
   "outputs": [
    {
     "name": "stdout",
     "output_type": "stream",
     "text": [
      "<class 'pandas.core.frame.DataFrame'>\n",
      "RangeIndex: 97341 entries, 0 to 97340\n",
      "Data columns (total 22 columns):\n",
      " #   Column        Non-Null Count  Dtype  \n",
      "---  ------        --------------  -----  \n",
      " 0   Unnamed: 0.1  97341 non-null  int64  \n",
      " 1   Unnamed: 0    97341 non-null  int64  \n",
      " 2   ciclo         97341 non-null  int64  \n",
      " 3   Cod.Asign     97341 non-null  int64  \n",
      " 4   Asignatura    97341 non-null  object \n",
      " 5   Cod.Car.Sec   97341 non-null  object \n",
      " 6   Cod.Curso     97341 non-null  int64  \n",
      " 7   Convocatoria  97341 non-null  int64  \n",
      " 8   Anho          97341 non-null  int64  \n",
      " 9   Semestre      97341 non-null  int64  \n",
      " 10  Aprobado      97341 non-null  int64  \n",
      " 11  Anho.Firma    97341 non-null  int64  \n",
      " 12  Primer.Par    97341 non-null  int64  \n",
      " 13  Segundo.Par   97341 non-null  int64  \n",
      " 14  AOT           97341 non-null  int64  \n",
      " 15  Primer.Rec    97341 non-null  int64  \n",
      " 16  Segundo.Rec   97341 non-null  int64  \n",
      " 17  Nota.Final    97341 non-null  object \n",
      " 18  Asis          97341 non-null  float64\n",
      " 19  4P_60         0 non-null      float64\n",
      " 20  id_anony      97341 non-null  object \n",
      " 21  Nota.Prom     97341 non-null  float64\n",
      "dtypes: float64(3), int64(15), object(4)\n",
      "memory usage: 16.3+ MB\n"
     ]
    }
   ],
   "source": [
    "file_path = \"datasets\\datos_CB.csv\"\n",
    "student_data = pd.read_csv(file_path)\n",
    "student_data.info()"
   ]
  },
  {
   "cell_type": "code",
   "execution_count": 3,
   "id": "0fc7ffc0-4bf1-4ce0-91c8-0cac287550f7",
   "metadata": {},
   "outputs": [
    {
     "data": {
      "text/html": [
       "<div>\n",
       "<style scoped>\n",
       "    .dataframe tbody tr th:only-of-type {\n",
       "        vertical-align: middle;\n",
       "    }\n",
       "\n",
       "    .dataframe tbody tr th {\n",
       "        vertical-align: top;\n",
       "    }\n",
       "\n",
       "    .dataframe thead th {\n",
       "        text-align: right;\n",
       "    }\n",
       "</style>\n",
       "<table border=\"1\" class=\"dataframe\">\n",
       "  <thead>\n",
       "    <tr style=\"text-align: right;\">\n",
       "      <th></th>\n",
       "      <th>ciclo</th>\n",
       "      <th>Asignatura</th>\n",
       "      <th>Convocatoria</th>\n",
       "      <th>Anho</th>\n",
       "      <th>Aprobado</th>\n",
       "      <th>Anho.Firma</th>\n",
       "      <th>Primer.Par</th>\n",
       "      <th>Segundo.Par</th>\n",
       "      <th>AOT</th>\n",
       "      <th>Primer.Rec</th>\n",
       "      <th>Segundo.Rec</th>\n",
       "      <th>Nota.Final</th>\n",
       "      <th>id_anony</th>\n",
       "    </tr>\n",
       "  </thead>\n",
       "  <tbody>\n",
       "    <tr>\n",
       "      <th>0</th>\n",
       "      <td>1</td>\n",
       "      <td>CALCULO 3</td>\n",
       "      <td>1</td>\n",
       "      <td>2012</td>\n",
       "      <td>0</td>\n",
       "      <td>0</td>\n",
       "      <td>0</td>\n",
       "      <td>0</td>\n",
       "      <td>0</td>\n",
       "      <td>0</td>\n",
       "      <td>0</td>\n",
       "      <td>[0]</td>\n",
       "      <td>es_253</td>\n",
       "    </tr>\n",
       "    <tr>\n",
       "      <th>1</th>\n",
       "      <td>1</td>\n",
       "      <td>FISICA 4</td>\n",
       "      <td>1</td>\n",
       "      <td>2012</td>\n",
       "      <td>0</td>\n",
       "      <td>2012</td>\n",
       "      <td>19</td>\n",
       "      <td>13</td>\n",
       "      <td>9</td>\n",
       "      <td>0</td>\n",
       "      <td>0</td>\n",
       "      <td>[0]</td>\n",
       "      <td>es_254</td>\n",
       "    </tr>\n",
       "    <tr>\n",
       "      <th>2</th>\n",
       "      <td>1</td>\n",
       "      <td>FISICA 4</td>\n",
       "      <td>1</td>\n",
       "      <td>2012</td>\n",
       "      <td>1</td>\n",
       "      <td>2012</td>\n",
       "      <td>17</td>\n",
       "      <td>24</td>\n",
       "      <td>10</td>\n",
       "      <td>0</td>\n",
       "      <td>0</td>\n",
       "      <td>[3]</td>\n",
       "      <td>es_255</td>\n",
       "    </tr>\n",
       "    <tr>\n",
       "      <th>3</th>\n",
       "      <td>1</td>\n",
       "      <td>FISICA 4</td>\n",
       "      <td>1</td>\n",
       "      <td>2012</td>\n",
       "      <td>0</td>\n",
       "      <td>0</td>\n",
       "      <td>0</td>\n",
       "      <td>0</td>\n",
       "      <td>0</td>\n",
       "      <td>0</td>\n",
       "      <td>0</td>\n",
       "      <td>[0]</td>\n",
       "      <td>es_256</td>\n",
       "    </tr>\n",
       "    <tr>\n",
       "      <th>4</th>\n",
       "      <td>1</td>\n",
       "      <td>FISICA 4</td>\n",
       "      <td>1</td>\n",
       "      <td>2012</td>\n",
       "      <td>0</td>\n",
       "      <td>0</td>\n",
       "      <td>16</td>\n",
       "      <td>12</td>\n",
       "      <td>8</td>\n",
       "      <td>0</td>\n",
       "      <td>0</td>\n",
       "      <td>[0]</td>\n",
       "      <td>es_257</td>\n",
       "    </tr>\n",
       "  </tbody>\n",
       "</table>\n",
       "</div>"
      ],
      "text/plain": [
       "   ciclo Asignatura  Convocatoria  Anho  Aprobado  Anho.Firma  Primer.Par  \\\n",
       "0      1  CALCULO 3             1  2012         0           0           0   \n",
       "1      1   FISICA 4             1  2012         0        2012          19   \n",
       "2      1   FISICA 4             1  2012         1        2012          17   \n",
       "3      1   FISICA 4             1  2012         0           0           0   \n",
       "4      1   FISICA 4             1  2012         0           0          16   \n",
       "\n",
       "   Segundo.Par  AOT  Primer.Rec  Segundo.Rec Nota.Final id_anony  \n",
       "0            0    0           0            0        [0]   es_253  \n",
       "1           13    9           0            0        [0]   es_254  \n",
       "2           24   10           0            0        [3]   es_255  \n",
       "3            0    0           0            0        [0]   es_256  \n",
       "4           12    8           0            0        [0]   es_257  "
      ]
     },
     "execution_count": 3,
     "metadata": {},
     "output_type": "execute_result"
    }
   ],
   "source": [
    "columns = ['Unnamed: 0.1', 'Unnamed: 0', \"Cod.Asign\", 'Asis', '4P_60',\"Cod.Curso\", \"Cod.Car.Sec\", \"Semestre\",'Nota.Prom'] #el id_anony podriamos usar despues\n",
    "if columns[0] in student_data:\n",
    "    student_data.drop(columns,axis=1, inplace= True)\n",
    "student_data.head()"
   ]
  },
  {
   "cell_type": "code",
   "execution_count": 4,
   "id": "3bcd6c1c-d49b-48c1-a2fc-94a0c7972604",
   "metadata": {},
   "outputs": [
    {
     "name": "stdout",
     "output_type": "stream",
     "text": [
      "      ciclo Asignatura  Convocatoria  Anho  Aprobado  Anho.Firma  Primer.Par  \\\n",
      "5258      2   ESTATICA             1  2012         0           0           2   \n",
      "5259      2   ESTATICA             1  2012         0           0           6   \n",
      "5260      2   ESTATICA             1  2012         1        2012          12   \n",
      "5261      2   ESTATICA             1  2012         0           0           1   \n",
      "5262      2   ESTATICA             1  2012         0           0           0   \n",
      "\n",
      "      Segundo.Par  AOT  Primer.Rec  Segundo.Rec Nota.Final id_anony  \n",
      "5258           13    0           0            0        [0]   es_469  \n",
      "5259           11    0           0            0        [0]   es_470  \n",
      "5260           24    0           0            0        [2]   es_175  \n",
      "5261            1    0           0            0        [0]   es_910  \n",
      "5262            0    0           0            0        [0]  es_1475  \n"
     ]
    },
    {
     "name": "stderr",
     "output_type": "stream",
     "text": [
      "C:\\Users\\josec\\AppData\\Local\\Temp\\ipykernel_33868\\1374848725.py:6: SettingWithCopyWarning: \n",
      "A value is trying to be set on a copy of a slice from a DataFrame\n",
      "\n",
      "See the caveats in the documentation: https://pandas.pydata.org/pandas-docs/stable/user_guide/indexing.html#returning-a-view-versus-a-copy\n",
      "  course_data.drop([\"Asignatura\"],axis=1, inplace = True)\n"
     ]
    },
    {
     "data": {
      "text/html": [
       "<div>\n",
       "<style scoped>\n",
       "    .dataframe tbody tr th:only-of-type {\n",
       "        vertical-align: middle;\n",
       "    }\n",
       "\n",
       "    .dataframe tbody tr th {\n",
       "        vertical-align: top;\n",
       "    }\n",
       "\n",
       "    .dataframe thead th {\n",
       "        text-align: right;\n",
       "    }\n",
       "</style>\n",
       "<table border=\"1\" class=\"dataframe\">\n",
       "  <thead>\n",
       "    <tr style=\"text-align: right;\">\n",
       "      <th></th>\n",
       "      <th>ciclo</th>\n",
       "      <th>Convocatoria</th>\n",
       "      <th>Anho</th>\n",
       "      <th>Aprobado</th>\n",
       "      <th>Anho.Firma</th>\n",
       "      <th>Primer.Par</th>\n",
       "      <th>Segundo.Par</th>\n",
       "      <th>AOT</th>\n",
       "      <th>Primer.Rec</th>\n",
       "      <th>Segundo.Rec</th>\n",
       "      <th>Nota.Final</th>\n",
       "      <th>id_anony</th>\n",
       "    </tr>\n",
       "  </thead>\n",
       "  <tbody>\n",
       "    <tr>\n",
       "      <th>5258</th>\n",
       "      <td>2</td>\n",
       "      <td>1</td>\n",
       "      <td>2012</td>\n",
       "      <td>0</td>\n",
       "      <td>0</td>\n",
       "      <td>2</td>\n",
       "      <td>13</td>\n",
       "      <td>0</td>\n",
       "      <td>0</td>\n",
       "      <td>0</td>\n",
       "      <td>[0]</td>\n",
       "      <td>es_469</td>\n",
       "    </tr>\n",
       "    <tr>\n",
       "      <th>5259</th>\n",
       "      <td>2</td>\n",
       "      <td>1</td>\n",
       "      <td>2012</td>\n",
       "      <td>0</td>\n",
       "      <td>0</td>\n",
       "      <td>6</td>\n",
       "      <td>11</td>\n",
       "      <td>0</td>\n",
       "      <td>0</td>\n",
       "      <td>0</td>\n",
       "      <td>[0]</td>\n",
       "      <td>es_470</td>\n",
       "    </tr>\n",
       "    <tr>\n",
       "      <th>5260</th>\n",
       "      <td>2</td>\n",
       "      <td>1</td>\n",
       "      <td>2012</td>\n",
       "      <td>1</td>\n",
       "      <td>2012</td>\n",
       "      <td>12</td>\n",
       "      <td>24</td>\n",
       "      <td>0</td>\n",
       "      <td>0</td>\n",
       "      <td>0</td>\n",
       "      <td>[2]</td>\n",
       "      <td>es_175</td>\n",
       "    </tr>\n",
       "    <tr>\n",
       "      <th>5261</th>\n",
       "      <td>2</td>\n",
       "      <td>1</td>\n",
       "      <td>2012</td>\n",
       "      <td>0</td>\n",
       "      <td>0</td>\n",
       "      <td>1</td>\n",
       "      <td>1</td>\n",
       "      <td>0</td>\n",
       "      <td>0</td>\n",
       "      <td>0</td>\n",
       "      <td>[0]</td>\n",
       "      <td>es_910</td>\n",
       "    </tr>\n",
       "    <tr>\n",
       "      <th>5262</th>\n",
       "      <td>2</td>\n",
       "      <td>1</td>\n",
       "      <td>2012</td>\n",
       "      <td>0</td>\n",
       "      <td>0</td>\n",
       "      <td>0</td>\n",
       "      <td>0</td>\n",
       "      <td>0</td>\n",
       "      <td>0</td>\n",
       "      <td>0</td>\n",
       "      <td>[0]</td>\n",
       "      <td>es_1475</td>\n",
       "    </tr>\n",
       "  </tbody>\n",
       "</table>\n",
       "</div>"
      ],
      "text/plain": [
       "      ciclo  Convocatoria  Anho  Aprobado  Anho.Firma  Primer.Par  \\\n",
       "5258      2             1  2012         0           0           2   \n",
       "5259      2             1  2012         0           0           6   \n",
       "5260      2             1  2012         1        2012          12   \n",
       "5261      2             1  2012         0           0           1   \n",
       "5262      2             1  2012         0           0           0   \n",
       "\n",
       "      Segundo.Par  AOT  Primer.Rec  Segundo.Rec Nota.Final id_anony  \n",
       "5258           13    0           0            0        [0]   es_469  \n",
       "5259           11    0           0            0        [0]   es_470  \n",
       "5260           24    0           0            0        [2]   es_175  \n",
       "5261            1    0           0            0        [0]   es_910  \n",
       "5262            0    0           0            0        [0]  es_1475  "
      ]
     },
     "execution_count": 4,
     "metadata": {},
     "output_type": "execute_result"
    }
   ],
   "source": [
    "#todo esto puede ser un diccionario con numpy unique y queda re loco\n",
    "course = \"ESTATICA\"\n",
    "condition = student_data[\"Asignatura\"] == course\n",
    "course_data = student_data[condition]\n",
    "print(course_data.head())\n",
    "course_data.drop([\"Asignatura\"],axis=1, inplace = True)\n",
    "course_data.head()"
   ]
  },
  {
   "cell_type": "code",
   "execution_count": 5,
   "id": "6e5e3cd4-a56f-4b1d-a9f4-69c6becba3ce",
   "metadata": {},
   "outputs": [],
   "source": [
    "%%capture\n",
    "print(np.unique(course_data[\"Anho\"]))"
   ]
  },
  {
   "cell_type": "code",
   "execution_count": 6,
   "id": "8121296c-2e30-4a4d-a5af-2d7a1adc0478",
   "metadata": {},
   "outputs": [
    {
     "data": {
      "text/plain": [
       "count    4824.000000\n",
       "mean        9.337894\n",
       "std         5.849116\n",
       "min         0.000000\n",
       "25%         5.000000\n",
       "50%        10.000000\n",
       "75%        14.000000\n",
       "max        24.000000\n",
       "Name: Primer.Par, dtype: float64"
      ]
     },
     "execution_count": 6,
     "metadata": {},
     "output_type": "execute_result"
    }
   ],
   "source": [
    "course_data[\"Primer.Par\"].describe()"
   ]
  },
  {
   "cell_type": "code",
   "execution_count": 7,
   "id": "9780d9b2-1449-41af-a9bb-f6bbf210bda8",
   "metadata": {},
   "outputs": [
    {
     "name": "stdout",
     "output_type": "stream",
     "text": [
      "Approved: 1818\n",
      "Not approved: 3006\n",
      "Total: 4824\n"
     ]
    }
   ],
   "source": [
    "approved = len(course_data[course_data[\"Aprobado\"]==1])\n",
    "not_approved = len(course_data[course_data[\"Aprobado\"] == 0])\n",
    "total = len(course_data[\"Aprobado\"])\n",
    "print(f\"Approved: {approved}\\nNot approved: {not_approved}\\nTotal: {total}\")"
   ]
  },
  {
   "cell_type": "code",
   "execution_count": 8,
   "id": "921ec363-0593-4b62-98fc-8bf611cc641f",
   "metadata": {},
   "outputs": [],
   "source": [
    "course_data = course_data.sort_values(by=['id_anony','Anho'])\n",
    "last_id = course_data['id_anony'].iloc[0]\n",
    "counter = 0\n",
    "for index,row in course_data.iterrows():\n",
    "    #print(index)\n",
    "    if row['id_anony'] == last_id:\n",
    "        counter += 1 \n",
    "        course_data.loc[index,['Num.Intento']] = counter\n",
    "    else:\n",
    "        last_id = row['id_anony']\n",
    "        course_data.loc[index,['Num.Intento']] = 1\n",
    "        counter = 1\n",
    "    #print(row['id_anony'])"
   ]
  },
  {
   "cell_type": "code",
   "execution_count": 9,
   "id": "5f04bea9-4a9b-41bd-b29c-58a0a9f1db07",
   "metadata": {},
   "outputs": [
    {
     "data": {
      "text/html": [
       "<div>\n",
       "<style scoped>\n",
       "    .dataframe tbody tr th:only-of-type {\n",
       "        vertical-align: middle;\n",
       "    }\n",
       "\n",
       "    .dataframe tbody tr th {\n",
       "        vertical-align: top;\n",
       "    }\n",
       "\n",
       "    .dataframe thead th {\n",
       "        text-align: right;\n",
       "    }\n",
       "</style>\n",
       "<table border=\"1\" class=\"dataframe\">\n",
       "  <thead>\n",
       "    <tr style=\"text-align: right;\">\n",
       "      <th></th>\n",
       "      <th>ciclo</th>\n",
       "      <th>Convocatoria</th>\n",
       "      <th>Anho</th>\n",
       "      <th>Aprobado</th>\n",
       "      <th>Anho.Firma</th>\n",
       "      <th>Primer.Par</th>\n",
       "      <th>Segundo.Par</th>\n",
       "      <th>AOT</th>\n",
       "      <th>Primer.Rec</th>\n",
       "      <th>Segundo.Rec</th>\n",
       "      <th>Nota.Final</th>\n",
       "      <th>id_anony</th>\n",
       "      <th>Num.Intento</th>\n",
       "    </tr>\n",
       "  </thead>\n",
       "  <tbody>\n",
       "    <tr>\n",
       "      <th>5591</th>\n",
       "      <td>2</td>\n",
       "      <td>1</td>\n",
       "      <td>2012</td>\n",
       "      <td>0</td>\n",
       "      <td>0</td>\n",
       "      <td>6</td>\n",
       "      <td>12</td>\n",
       "      <td>0</td>\n",
       "      <td>12</td>\n",
       "      <td>0</td>\n",
       "      <td>[0]</td>\n",
       "      <td>es_1003</td>\n",
       "      <td>1.0</td>\n",
       "    </tr>\n",
       "    <tr>\n",
       "      <th>15050</th>\n",
       "      <td>2</td>\n",
       "      <td>1</td>\n",
       "      <td>2013</td>\n",
       "      <td>1</td>\n",
       "      <td>2013</td>\n",
       "      <td>6</td>\n",
       "      <td>19</td>\n",
       "      <td>8</td>\n",
       "      <td>42</td>\n",
       "      <td>0</td>\n",
       "      <td>[1, 2]</td>\n",
       "      <td>es_1003</td>\n",
       "      <td>2.0</td>\n",
       "    </tr>\n",
       "    <tr>\n",
       "      <th>5511</th>\n",
       "      <td>2</td>\n",
       "      <td>1</td>\n",
       "      <td>2012</td>\n",
       "      <td>1</td>\n",
       "      <td>2012</td>\n",
       "      <td>15</td>\n",
       "      <td>16</td>\n",
       "      <td>0</td>\n",
       "      <td>0</td>\n",
       "      <td>0</td>\n",
       "      <td>[2]</td>\n",
       "      <td>es_1026</td>\n",
       "      <td>1.0</td>\n",
       "    </tr>\n",
       "    <tr>\n",
       "      <th>5383</th>\n",
       "      <td>2</td>\n",
       "      <td>1</td>\n",
       "      <td>2012</td>\n",
       "      <td>0</td>\n",
       "      <td>2011</td>\n",
       "      <td>10</td>\n",
       "      <td>10</td>\n",
       "      <td>0</td>\n",
       "      <td>21</td>\n",
       "      <td>0</td>\n",
       "      <td>[1]</td>\n",
       "      <td>es_104</td>\n",
       "      <td>1.0</td>\n",
       "    </tr>\n",
       "    <tr>\n",
       "      <th>14802</th>\n",
       "      <td>2</td>\n",
       "      <td>1</td>\n",
       "      <td>2013</td>\n",
       "      <td>1</td>\n",
       "      <td>2013</td>\n",
       "      <td>8</td>\n",
       "      <td>16</td>\n",
       "      <td>3</td>\n",
       "      <td>22</td>\n",
       "      <td>39</td>\n",
       "      <td>[2]</td>\n",
       "      <td>es_104</td>\n",
       "      <td>2.0</td>\n",
       "    </tr>\n",
       "    <tr>\n",
       "      <th>...</th>\n",
       "      <td>...</td>\n",
       "      <td>...</td>\n",
       "      <td>...</td>\n",
       "      <td>...</td>\n",
       "      <td>...</td>\n",
       "      <td>...</td>\n",
       "      <td>...</td>\n",
       "      <td>...</td>\n",
       "      <td>...</td>\n",
       "      <td>...</td>\n",
       "      <td>...</td>\n",
       "      <td>...</td>\n",
       "      <td>...</td>\n",
       "    </tr>\n",
       "    <tr>\n",
       "      <th>5663</th>\n",
       "      <td>2</td>\n",
       "      <td>1</td>\n",
       "      <td>2012</td>\n",
       "      <td>1</td>\n",
       "      <td>2012</td>\n",
       "      <td>16</td>\n",
       "      <td>11</td>\n",
       "      <td>0</td>\n",
       "      <td>34</td>\n",
       "      <td>0</td>\n",
       "      <td>[2]</td>\n",
       "      <td>es_93</td>\n",
       "      <td>1.0</td>\n",
       "    </tr>\n",
       "    <tr>\n",
       "      <th>14877</th>\n",
       "      <td>2</td>\n",
       "      <td>1</td>\n",
       "      <td>2013</td>\n",
       "      <td>0</td>\n",
       "      <td>0</td>\n",
       "      <td>0</td>\n",
       "      <td>0</td>\n",
       "      <td>0</td>\n",
       "      <td>0</td>\n",
       "      <td>0</td>\n",
       "      <td>[0]</td>\n",
       "      <td>es_937</td>\n",
       "      <td>1.0</td>\n",
       "    </tr>\n",
       "    <tr>\n",
       "      <th>5570</th>\n",
       "      <td>2</td>\n",
       "      <td>1</td>\n",
       "      <td>2012</td>\n",
       "      <td>0</td>\n",
       "      <td>0</td>\n",
       "      <td>3</td>\n",
       "      <td>12</td>\n",
       "      <td>0</td>\n",
       "      <td>16</td>\n",
       "      <td>0</td>\n",
       "      <td>[0]</td>\n",
       "      <td>es_943</td>\n",
       "      <td>1.0</td>\n",
       "    </tr>\n",
       "    <tr>\n",
       "      <th>15019</th>\n",
       "      <td>2</td>\n",
       "      <td>1</td>\n",
       "      <td>2013</td>\n",
       "      <td>1</td>\n",
       "      <td>2013</td>\n",
       "      <td>9</td>\n",
       "      <td>20</td>\n",
       "      <td>6</td>\n",
       "      <td>0</td>\n",
       "      <td>0</td>\n",
       "      <td>[2]</td>\n",
       "      <td>es_943</td>\n",
       "      <td>2.0</td>\n",
       "    </tr>\n",
       "    <tr>\n",
       "      <th>25508</th>\n",
       "      <td>2</td>\n",
       "      <td>1</td>\n",
       "      <td>2014</td>\n",
       "      <td>0</td>\n",
       "      <td>0</td>\n",
       "      <td>10</td>\n",
       "      <td>0</td>\n",
       "      <td>6</td>\n",
       "      <td>0</td>\n",
       "      <td>0</td>\n",
       "      <td>[0]</td>\n",
       "      <td>es_953</td>\n",
       "      <td>1.0</td>\n",
       "    </tr>\n",
       "  </tbody>\n",
       "</table>\n",
       "<p>4824 rows × 13 columns</p>\n",
       "</div>"
      ],
      "text/plain": [
       "       ciclo  Convocatoria  Anho  Aprobado  Anho.Firma  Primer.Par  \\\n",
       "5591       2             1  2012         0           0           6   \n",
       "15050      2             1  2013         1        2013           6   \n",
       "5511       2             1  2012         1        2012          15   \n",
       "5383       2             1  2012         0        2011          10   \n",
       "14802      2             1  2013         1        2013           8   \n",
       "...      ...           ...   ...       ...         ...         ...   \n",
       "5663       2             1  2012         1        2012          16   \n",
       "14877      2             1  2013         0           0           0   \n",
       "5570       2             1  2012         0           0           3   \n",
       "15019      2             1  2013         1        2013           9   \n",
       "25508      2             1  2014         0           0          10   \n",
       "\n",
       "       Segundo.Par  AOT  Primer.Rec  Segundo.Rec Nota.Final id_anony  \\\n",
       "5591            12    0          12            0        [0]  es_1003   \n",
       "15050           19    8          42            0     [1, 2]  es_1003   \n",
       "5511            16    0           0            0        [2]  es_1026   \n",
       "5383            10    0          21            0        [1]   es_104   \n",
       "14802           16    3          22           39        [2]   es_104   \n",
       "...            ...  ...         ...          ...        ...      ...   \n",
       "5663            11    0          34            0        [2]    es_93   \n",
       "14877            0    0           0            0        [0]   es_937   \n",
       "5570            12    0          16            0        [0]   es_943   \n",
       "15019           20    6           0            0        [2]   es_943   \n",
       "25508            0    6           0            0        [0]   es_953   \n",
       "\n",
       "       Num.Intento  \n",
       "5591           1.0  \n",
       "15050          2.0  \n",
       "5511           1.0  \n",
       "5383           1.0  \n",
       "14802          2.0  \n",
       "...            ...  \n",
       "5663           1.0  \n",
       "14877          1.0  \n",
       "5570           1.0  \n",
       "15019          2.0  \n",
       "25508          1.0  \n",
       "\n",
       "[4824 rows x 13 columns]"
      ]
     },
     "execution_count": 9,
     "metadata": {},
     "output_type": "execute_result"
    }
   ],
   "source": [
    "course_data"
   ]
  },
  {
   "cell_type": "code",
   "execution_count": 10,
   "id": "e14dbd6b-b659-4b91-a539-5ca2af2af2c2",
   "metadata": {},
   "outputs": [
    {
     "name": "stdout",
     "output_type": "stream",
     "text": [
      "(3859, 13)\n",
      "(965, 13)\n"
     ]
    },
    {
     "data": {
      "text/plain": [
       "\"\\n# Training Set\\ntrain_save_path = 'student_train.csv'\\ntrain_df.to_csv(train_save_path, index=False)\\n\\n# Testing Set\\ntest_save_path = os.path.join(os.getcwd(), 'student', 'student-por-test.csv')\\ntest_df.to_csv(test_save_path, index=False)\\n\""
      ]
     },
     "execution_count": 10,
     "metadata": {},
     "output_type": "execute_result"
    }
   ],
   "source": [
    "df_train, df_test= train_test_split(course_data, test_size=0.2, random_state=0)\n",
    "print(df_train.shape)\n",
    "print(df_test.shape)\n",
    "\n",
    "\n",
    "# Saving our training and testing data sets\n",
    "'''\n",
    "# Training Set\n",
    "train_save_path = 'student_train.csv'\n",
    "train_df.to_csv(train_save_path, index=False)\n",
    "\n",
    "# Testing Set\n",
    "test_save_path = os.path.join(os.getcwd(), 'student', 'student-por-test.csv')\n",
    "test_df.to_csv(test_save_path, index=False)\n",
    "'''"
   ]
  },
  {
   "cell_type": "code",
   "execution_count": 11,
   "id": "6cdc8662-8698-4868-9169-41f9c2cc810e",
   "metadata": {},
   "outputs": [],
   "source": [
    "# Dummy Encoding the Data\n",
    "# Coverting categorical data to numerical dummy variables\n",
    "#train_dummies_df = pd.get_dummies(df_train)\n",
    "#test_dummies_df = pd.get_dummies(df_test)\n",
    "\n",
    "# Separating training data into predictors and predictand\n",
    "use_cols = [column for column in df_train.columns if column not in ['Aprobado']]\n",
    "train_x = df_train[use_cols]\n",
    "train_y = df_train['Aprobado']\n",
    "\n",
    "# Separating testing data into predictors and predictand\n",
    "test_x = df_test[use_cols]\n",
    "test_y = df_test['Aprobado']"
   ]
  },
  {
   "cell_type": "code",
   "execution_count": 12,
   "id": "7599fc51-bee1-4e77-bafd-2ab3baaf4d3d",
   "metadata": {},
   "outputs": [],
   "source": [
    "train_x.head()\n",
    "train_x = train_x.drop(['Nota.Final'],axis=1)\n",
    "train_x_noId = train_x.drop(['id_anony'],axis=1)"
   ]
  },
  {
   "cell_type": "code",
   "execution_count": 13,
   "id": "ef2868ec-28e1-4251-8133-eb65d08dc251",
   "metadata": {},
   "outputs": [
    {
     "data": {
      "text/plain": [
       "25545    0\n",
       "58713    0\n",
       "95057    0\n",
       "94875    0\n",
       "36477    1\n",
       "Name: Aprobado, dtype: int64"
      ]
     },
     "execution_count": 13,
     "metadata": {},
     "output_type": "execute_result"
    }
   ],
   "source": [
    "train_y.head()"
   ]
  },
  {
   "cell_type": "code",
   "execution_count": 14,
   "id": "bc0bba1e-f1c0-49eb-b3ce-17c70b3d2a49",
   "metadata": {},
   "outputs": [
    {
     "name": "stdout",
     "output_type": "stream",
     "text": [
      "<class 'pandas.core.frame.DataFrame'>\n",
      "Int64Index: 3859 entries, 25545 to 58578\n",
      "Data columns (total 11 columns):\n",
      " #   Column        Non-Null Count  Dtype  \n",
      "---  ------        --------------  -----  \n",
      " 0   ciclo         3859 non-null   int64  \n",
      " 1   Convocatoria  3859 non-null   int64  \n",
      " 2   Anho          3859 non-null   int64  \n",
      " 3   Anho.Firma    3859 non-null   int64  \n",
      " 4   Primer.Par    3859 non-null   int64  \n",
      " 5   Segundo.Par   3859 non-null   int64  \n",
      " 6   AOT           3859 non-null   int64  \n",
      " 7   Primer.Rec    3859 non-null   int64  \n",
      " 8   Segundo.Rec   3859 non-null   int64  \n",
      " 9   id_anony      3859 non-null   object \n",
      " 10  Num.Intento   3859 non-null   float64\n",
      "dtypes: float64(1), int64(9), object(1)\n",
      "memory usage: 361.8+ KB\n"
     ]
    }
   ],
   "source": [
    "train_x.info()"
   ]
  },
  {
   "cell_type": "code",
   "execution_count": 15,
   "id": "c3cd4bfb-3c6e-4745-9764-2d29ad9b942e",
   "metadata": {},
   "outputs": [],
   "source": [
    "test_x = test_x.drop(['Nota.Final'],axis=1)\n",
    "test_x_noId = test_x.drop(['id_anony'],axis=1)"
   ]
  },
  {
   "cell_type": "code",
   "execution_count": 16,
   "id": "1f573749-1c8a-4495-9d2f-405191ad218b",
   "metadata": {},
   "outputs": [],
   "source": [
    "def process(mod, x, y, test_x, test_y,course):\n",
    "    model = mod.fit(x,y)\n",
    "    predicted_y = model.predict(test_x)\n",
    "    score = model.score(test_x,test_y)\n",
    "    print(f\"Model score for {course.lower()}: {score}\")\n",
    "    print(f\"Parameters: \\n{model.feature_names_in_}\")\n",
    "    print(f\"iterations: {model.n_iter_}\")\n",
    "    print(f\"coefs: {model.coef_}\")"
   ]
  },
  {
   "cell_type": "code",
   "execution_count": 17,
   "id": "b162b5a6-6f66-49d6-9128-bca878098e78",
   "metadata": {},
   "outputs": [
    {
     "name": "stdout",
     "output_type": "stream",
     "text": [
      "Model score for estatica: 0.883937823834197\n",
      "Parameters: \n",
      "['ciclo' 'Convocatoria' 'Anho' 'Anho.Firma' 'Primer.Par' 'Segundo.Par'\n",
      " 'AOT' 'Primer.Rec' 'Segundo.Rec' 'Num.Intento']\n",
      "iterations: [517]\n",
      "coefs: [[ 0.12912371 -0.6249367  -0.00432846  0.00357237  0.10154156  0.08316712\n",
      "   0.06374964  0.01053444 -0.03156738  0.0107612 ]]\n"
     ]
    }
   ],
   "source": [
    "#a modo ilustrativo\n",
    "default_LR = LogisticRegression(max_iter=1000)\n",
    "process(default_LR,train_x_noId,train_y,test_x_noId,test_y,course)"
   ]
  },
  {
   "cell_type": "markdown",
   "id": "ac19137f-cbba-4d80-8d1e-39bbb27d6a85",
   "metadata": {},
   "source": [
    "# Droping some labels"
   ]
  },
  {
   "cell_type": "code",
   "execution_count": 20,
   "id": "9529681c-2d3e-493e-a4b7-c7217f33523c",
   "metadata": {},
   "outputs": [],
   "source": [
    "def data_process(df):\n",
    "    if 'ciclo' in df:\n",
    "        df = df.drop(['ciclo','Segundo.Par','AOT','Primer.Rec','Segundo.Rec'],axis=1)\n",
    "    if 'Nota.Final' in df:\n",
    "        df = df.drop(['Nota.Final'],axis=1)\n",
    "    df['Anho.Firma'] = np.where(df['Anho.Firma']==0, df['Anho'], df['Anho.Firma'])\n",
    "    df = df.drop(['Anho.Firma'],axis=1)\n",
    "    print(df)\n",
    "    df = df.drop(['id_anony'],axis=1)\n",
    "    return df\n"
   ]
  },
  {
   "cell_type": "code",
   "execution_count": 124,
   "id": "a37acce0-d590-4003-a146-e7168da04111",
   "metadata": {},
   "outputs": [],
   "source": [
    "%%capture\n",
    "new_train_x = data_process(train_x)"
   ]
  },
  {
   "cell_type": "code",
   "execution_count": 125,
   "id": "0078a06e-e12c-4da3-98e3-aff50e9e4754",
   "metadata": {},
   "outputs": [],
   "source": [
    "%%capture\n",
    "new_test_x = data_process(test_x)"
   ]
  },
  {
   "cell_type": "code",
   "execution_count": 126,
   "id": "fc399a57-d1cc-4527-9a77-22bb26dba69e",
   "metadata": {},
   "outputs": [],
   "source": [
    "%%capture\n",
    "new_x = data_process(course_data)\n",
    "y = new_x['Aprobado']\n",
    "new_x = new_x.drop(['Aprobado'],axis=1)\n",
    "y"
   ]
  },
  {
   "cell_type": "code",
   "execution_count": 24,
   "id": "8f6f9c64-6753-449a-99ee-9a9e0c373457",
   "metadata": {},
   "outputs": [],
   "source": [
    "import seaborn as sns"
   ]
  },
  {
   "cell_type": "code",
   "execution_count": 25,
   "id": "e939422e-78c5-46f9-bb29-e907af459212",
   "metadata": {},
   "outputs": [
    {
     "data": {
      "text/plain": [
       "<seaborn.axisgrid.PairGrid at 0x2008d73beb0>"
      ]
     },
     "execution_count": 25,
     "metadata": {},
     "output_type": "execute_result"
    },
    {
     "data": {
      "image/png": "[encoded data removed]",
      "text/plain": [
       "<Figure size 1000x1000 with 20 Axes>"
      ]
     },
     "metadata": {},
     "output_type": "display_data"
    }
   ],
   "source": [
    "sns.pairplot(data=new_train_x, diag_kind='kde')"
   ]
  },
  {
   "cell_type": "code",
   "execution_count": 26,
   "id": "d1e94460-5c5c-4b67-abda-cc4e93d13446",
   "metadata": {},
   "outputs": [
    {
     "data": {
      "image/png": "[encoded data removed]",
      "text/plain": [
       "<Figure size 640x480 with 2 Axes>"
      ]
     },
     "metadata": {},
     "output_type": "display_data"
    }
   ],
   "source": [
    "sns.heatmap(new_train_x[['Convocatoria', 'Anho', 'Primer.Par', 'Num.Intento']].corr(), cmap='Blues', annot=True)\n",
    "plt.show()"
   ]
  },
  {
   "cell_type": "code",
   "execution_count": 27,
   "id": "d2252898-afb2-42bd-9bf0-b248756675c7",
   "metadata": {},
   "outputs": [
    {
     "name": "stdout",
     "output_type": "stream",
     "text": [
      "Model score for estatica: 0.7626943005181347\n",
      "Parameters: \n",
      "['Convocatoria' 'Anho' 'Primer.Par' 'Num.Intento']\n",
      "iterations: [48]\n",
      "coefs: [[-0.42170567 -0.00149807  0.28778287 -0.0182877 ]]\n"
     ]
    }
   ],
   "source": [
    "LR = LogisticRegression()\n",
    "process(LR,new_train_x,train_y,new_test_x,test_y,course)"
   ]
  },
  {
   "cell_type": "code",
   "execution_count": 29,
   "id": "29efe3b5-ae59-4115-a11c-63a6a85419d2",
   "metadata": {},
   "outputs": [],
   "source": [
    "%%capture\n",
    "fig, ax = plt.subplots(nrows=1, ncols=2, figsize=(10, 6), sharey=True)\n",
    "\n",
    "common_params = {\n",
    "    \"X\": new_train_x,\n",
    "    \"y\": train_y,\n",
    "    \"train_sizes\": np.linspace(0.1, 1.0, 5),\n",
    "    \"cv\": ShuffleSplit(n_splits=50, test_size=0.2, random_state=0),\n",
    "    \"score_type\": \"both\",\n",
    "    \"n_jobs\": 4,\n",
    "    \"line_kw\": {\"marker\": \"o\"},\n",
    "    \"std_display_style\": \"fill_between\",\n",
    "    \"score_name\": \"Accuracy\",\n",
    "}\n",
    "\n",
    "for ax_idx, estimator in enumerate([LR, SGDC]):\n",
    "    LearningCurveDisplay.from_estimator(estimator, **common_params, ax=ax[ax_idx])\n",
    "    handles, label = ax[ax_idx].get_legend_handles_labels()\n",
    "    ax[ax_idx].legend(handles[:2], [\"Training Score\", \"Test Score\"])\n",
    "    ax[ax_idx].set_title(f\"Learning Curve for {estimator.__class__.__name__}\")"
   ]
  },
  {
   "cell_type": "code",
   "execution_count": 30,
   "id": "7946c66d-c66c-4d55-acae-cb6427000668",
   "metadata": {},
   "outputs": [
    {
     "name": "stderr",
     "output_type": "stream",
     "text": [
      "C:\\Users\\josec\\anaconda3\\envs\\IA\\lib\\site-packages\\sklearn\\linear_model\\_logistic.py:458: ConvergenceWarning: lbfgs failed to converge (status=1):\n",
      "STOP: TOTAL NO. of ITERATIONS REACHED LIMIT.\n",
      "\n",
      "Increase the number of iterations (max_iter) or scale the data as shown in:\n",
      "    https://scikit-learn.org/stable/modules/preprocessing.html\n",
      "Please also refer to the documentation for alternative solver options:\n",
      "    https://scikit-learn.org/stable/modules/linear_model.html#logistic-regression\n",
      "  n_iter_i = _check_optimize_result(\n"
     ]
    },
    {
     "data": {
      "text/plain": [
       "[<matplotlib.lines.Line2D at 0x2008777c580>]"
      ]
     },
     "execution_count": 30,
     "metadata": {},
     "output_type": "execute_result"
    },
    {
     "data": {
      "image/png": "[encoded data removed]",
      "text/plain": [
       "<Figure size 640x480 with 1 Axes>"
      ]
     },
     "metadata": {},
     "output_type": "display_data"
    }
   ],
   "source": [
    "from sklearn.model_selection import learning_curve\n",
    "\n",
    "\n",
    "\n",
    "train_sizes, train_scores, test_scores, fit_times, _ = learning_curve(LR, new_x, y, return_times=True, train_sizes=np.linspace(0.1, 1.0, 200))\n",
    "\n",
    "plt.plot(train_sizes,np.mean(train_scores,axis=1))\n",
    "plt.plot(train_sizes,np.mean(test_scores,axis=1))\n",
    "\n"
   ]
  },
  {
   "cell_type": "markdown",
   "id": "62d726e3-30cd-49cb-889f-3687df502a8a",
   "metadata": {
    "tags": []
   },
   "source": [
    "# Scaling"
   ]
  },
  {
   "cell_type": "code",
   "execution_count": 31,
   "id": "4d31a902-6bac-45dd-b39a-6821bcdffb98",
   "metadata": {},
   "outputs": [],
   "source": [
    "from sklearn.preprocessing import StandardScaler"
   ]
  },
  {
   "cell_type": "code",
   "execution_count": 32,
   "id": "04df679f-331b-4703-80d8-c517b99c4551",
   "metadata": {},
   "outputs": [
    {
     "data": {
      "text/html": [
       "<div>\n",
       "<style scoped>\n",
       "    .dataframe tbody tr th:only-of-type {\n",
       "        vertical-align: middle;\n",
       "    }\n",
       "\n",
       "    .dataframe tbody tr th {\n",
       "        vertical-align: top;\n",
       "    }\n",
       "\n",
       "    .dataframe thead th {\n",
       "        text-align: right;\n",
       "    }\n",
       "</style>\n",
       "<table border=\"1\" class=\"dataframe\">\n",
       "  <thead>\n",
       "    <tr style=\"text-align: right;\">\n",
       "      <th></th>\n",
       "      <th>Convocatoria</th>\n",
       "      <th>Anho</th>\n",
       "      <th>Primer.Par</th>\n",
       "      <th>Num.Intento</th>\n",
       "    </tr>\n",
       "  </thead>\n",
       "  <tbody>\n",
       "    <tr>\n",
       "      <th>25545</th>\n",
       "      <td>-0.423558</td>\n",
       "      <td>-0.757907</td>\n",
       "      <td>-0.228085</td>\n",
       "      <td>3.0</td>\n",
       "    </tr>\n",
       "    <tr>\n",
       "      <th>58713</th>\n",
       "      <td>-0.423558</td>\n",
       "      <td>0.378218</td>\n",
       "      <td>-0.571102</td>\n",
       "      <td>1.0</td>\n",
       "    </tr>\n",
       "    <tr>\n",
       "      <th>95057</th>\n",
       "      <td>-0.423558</td>\n",
       "      <td>1.893051</td>\n",
       "      <td>-1.600152</td>\n",
       "      <td>6.0</td>\n",
       "    </tr>\n",
       "    <tr>\n",
       "      <th>94875</th>\n",
       "      <td>-0.423558</td>\n",
       "      <td>1.893051</td>\n",
       "      <td>-1.600152</td>\n",
       "      <td>1.0</td>\n",
       "    </tr>\n",
       "    <tr>\n",
       "      <th>36477</th>\n",
       "      <td>-0.423558</td>\n",
       "      <td>-0.379199</td>\n",
       "      <td>-0.056577</td>\n",
       "      <td>1.0</td>\n",
       "    </tr>\n",
       "    <tr>\n",
       "      <th>...</th>\n",
       "      <td>...</td>\n",
       "      <td>...</td>\n",
       "      <td>...</td>\n",
       "      <td>...</td>\n",
       "    </tr>\n",
       "    <tr>\n",
       "      <th>48228</th>\n",
       "      <td>-0.423558</td>\n",
       "      <td>-0.000491</td>\n",
       "      <td>-0.571102</td>\n",
       "      <td>2.0</td>\n",
       "    </tr>\n",
       "    <tr>\n",
       "      <th>87740</th>\n",
       "      <td>2.360954</td>\n",
       "      <td>1.135634</td>\n",
       "      <td>-1.428644</td>\n",
       "      <td>3.0</td>\n",
       "    </tr>\n",
       "    <tr>\n",
       "      <th>47004</th>\n",
       "      <td>-0.423558</td>\n",
       "      <td>-0.000491</td>\n",
       "      <td>0.800965</td>\n",
       "      <td>2.0</td>\n",
       "    </tr>\n",
       "    <tr>\n",
       "      <th>63303</th>\n",
       "      <td>-0.423558</td>\n",
       "      <td>0.756926</td>\n",
       "      <td>-1.085627</td>\n",
       "      <td>2.0</td>\n",
       "    </tr>\n",
       "    <tr>\n",
       "      <th>58578</th>\n",
       "      <td>-0.423558</td>\n",
       "      <td>0.378218</td>\n",
       "      <td>-1.600152</td>\n",
       "      <td>1.0</td>\n",
       "    </tr>\n",
       "  </tbody>\n",
       "</table>\n",
       "<p>3859 rows × 4 columns</p>\n",
       "</div>"
      ],
      "text/plain": [
       "       Convocatoria      Anho  Primer.Par  Num.Intento\n",
       "25545     -0.423558 -0.757907   -0.228085          3.0\n",
       "58713     -0.423558  0.378218   -0.571102          1.0\n",
       "95057     -0.423558  1.893051   -1.600152          6.0\n",
       "94875     -0.423558  1.893051   -1.600152          1.0\n",
       "36477     -0.423558 -0.379199   -0.056577          1.0\n",
       "...             ...       ...         ...          ...\n",
       "48228     -0.423558 -0.000491   -0.571102          2.0\n",
       "87740      2.360954  1.135634   -1.428644          3.0\n",
       "47004     -0.423558 -0.000491    0.800965          2.0\n",
       "63303     -0.423558  0.756926   -1.085627          2.0\n",
       "58578     -0.423558  0.378218   -1.600152          1.0\n",
       "\n",
       "[3859 rows x 4 columns]"
      ]
     },
     "execution_count": 32,
     "metadata": {},
     "output_type": "execute_result"
    }
   ],
   "source": [
    "sc = StandardScaler()\n",
    "#columns = ['Convocatoria', 'Anho', 'Primer.Par', 'Num.Intento']\n",
    "columns = ['Convocatoria', 'Anho', 'Primer.Par']\n",
    "scaled_train_x = sc.fit_transform(new_train_x[columns])\n",
    "scaled_test_x = sc.transform(new_test_x[columns])\n",
    "scaled_train_x = pd.DataFrame(scaled_train_x, index=new_train_x.index, columns=columns)\n",
    "scaled_test_x = pd.DataFrame(scaled_test_x, index=new_test_x.index, columns=columns)\n",
    "scaled_train_x = pd.concat([scaled_train_x, new_train_x['Num.Intento']],axis=1)\n",
    "scaled_test_x = pd.concat([scaled_test_x, new_test_x['Num.Intento']],axis=1)\n",
    "scaled_train_x"
   ]
  },
  {
   "cell_type": "code",
   "execution_count": 33,
   "id": "eb9de082-6a4e-4045-ace2-819c800f8954",
   "metadata": {},
   "outputs": [
    {
     "name": "stdout",
     "output_type": "stream",
     "text": [
      "Model score for estatica: 0.7616580310880829\n",
      "Parameters: \n",
      "['Convocatoria' 'Anho' 'Primer.Par' 'Num.Intento']\n",
      "iterations: [13]\n",
      "coefs: [[-0.00730819 -0.35987397  1.71656677  0.05419793]]\n"
     ]
    }
   ],
   "source": [
    "process(LR,scaled_train_x,train_y,scaled_test_x,test_y,course)"
   ]
  },
  {
   "cell_type": "code",
   "execution_count": 34,
   "id": "fd26d2cb-460f-4758-9124-3250aa9b0dbe",
   "metadata": {},
   "outputs": [
    {
     "name": "stdout",
     "output_type": "stream",
     "text": [
      "Model score for estatica: 0.7668393782383419\n",
      "Parameters: \n",
      "['Convocatoria' 'Anho' 'Primer.Par' 'Num.Intento']\n",
      "iterations: 48\n",
      "coefs: [[-5.83730354e-02 -2.69071980e-01  1.92365656e+00  1.88556548e-03]]\n"
     ]
    }
   ],
   "source": [
    "process(SGDC,scaled_train_x,train_y,scaled_test_x,test_y,course)"
   ]
  },
  {
   "cell_type": "markdown",
   "id": "e67d7069-5b92-4e85-b3de-94270216d455",
   "metadata": {},
   "source": [
    "# Kmeans"
   ]
  },
  {
   "cell_type": "code",
   "execution_count": 35,
   "id": "358aa23e-2877-4430-b61a-a55370cd9bc1",
   "metadata": {},
   "outputs": [
    {
     "name": "stdout",
     "output_type": "stream",
     "text": [
      "       Convocatoria      Anho  Primer.Par  Num.Intento  tipo.Alumno\n",
      "25545     -0.423558 -0.757907   -0.228085          3.0            0\n",
      "58713     -0.423558  0.378218   -0.571102          1.0            0\n",
      "95057     -0.423558  1.893051   -1.600152          6.0            1\n",
      "94875     -0.423558  1.893051   -1.600152          1.0            0\n",
      "36477     -0.423558 -0.379199   -0.056577          1.0            0\n",
      "...             ...       ...         ...          ...          ...\n",
      "48228     -0.423558 -0.000491   -0.571102          2.0            0\n",
      "87740      2.360954  1.135634   -1.428644          3.0            2\n",
      "47004     -0.423558 -0.000491    0.800965          2.0            0\n",
      "63303     -0.423558  0.756926   -1.085627          2.0            0\n",
      "58578     -0.423558  0.378218   -1.600152          1.0            0\n",
      "\n",
      "[3859 rows x 5 columns]\n"
     ]
    },
    {
     "name": "stderr",
     "output_type": "stream",
     "text": [
      "C:\\Users\\josec\\anaconda3\\envs\\IA\\lib\\site-packages\\sklearn\\cluster\\_kmeans.py:870: FutureWarning: The default value of `n_init` will change from 10 to 'auto' in 1.4. Set the value of `n_init` explicitly to suppress the warning\n",
      "  warnings.warn(\n"
     ]
    }
   ],
   "source": [
    "from sklearn.cluster import KMeans\n",
    "features=['Convocatoria','Anho','Primer.Par','Num.Intento']\n",
    "kmeans = KMeans(n_clusters=3)\n",
    "kmeans.fit(scaled_train_x[features])\n",
    "scaled_train_x['tipo.Alumno'] = kmeans.predict(scaled_train_x[features])\n",
    "print(scaled_train_x)\n",
    "\n",
    "scaled_test_x['tipo.Alumno'] = kmeans.predict(scaled_test_x[features])\n",
    "#df['location_north']=df.apply(lambda x: get_north(x['location_northeast'], x['location_northwest']), axis=1)\n",
    "#df['location_south']=df.apply(lambda x: get_south(x['location_southwest'], x['location_southeast']), axis=1)\n",
    "#df['more_than_1_child']=df.children.apply(lambda x:1 if x>1 else 0)"
   ]
  },
  {
   "cell_type": "code",
   "execution_count": 36,
   "id": "4ee66050-9496-47ed-b211-b19e08616db5",
   "metadata": {},
   "outputs": [
    {
     "name": "stdout",
     "output_type": "stream",
     "text": [
      "Model score for estatica: 0.7626943005181347\n",
      "Parameters: \n",
      "['Convocatoria' 'Anho' 'Primer.Par' 'Num.Intento' 'tipo.Alumno']\n",
      "iterations: [18]\n",
      "coefs: [[ 0.06885563 -0.35407209  1.71812832  0.06414375 -0.12370753]]\n"
     ]
    }
   ],
   "source": [
    "process(LR,scaled_train_x,train_y,scaled_test_x,test_y,course)"
   ]
  },
  {
   "cell_type": "markdown",
   "id": "44b6c268-fba0-4d02-9e91-716397f536fa",
   "metadata": {},
   "source": [
    "# Quantile transformer"
   ]
  },
  {
   "cell_type": "code",
   "execution_count": 37,
   "id": "d438c22c-4540-4979-8c0d-438776853af4",
   "metadata": {},
   "outputs": [
    {
     "name": "stdout",
     "output_type": "stream",
     "text": [
      "Model score for estatica: 0.7481865284974093\n",
      "Parameters: \n",
      "['Convocatoria' 'Anho' 'Primer.Par' 'Num.Intento' 'tipo.Alumno']\n",
      "iterations: [20]\n",
      "coefs: [[ 0.00892854 -0.00154243  1.19278925  0.04993581 -0.04783176]]\n"
     ]
    }
   ],
   "source": [
    "from sklearn.compose import TransformedTargetRegressor\n",
    "from sklearn.preprocessing import QuantileTransformer\n",
    "\n",
    "from sklearn import preprocessing\n",
    "from sklearn import utils\n",
    "\n",
    "#convert y values to categorical values\n",
    "lab = preprocessing.LabelEncoder()\n",
    "y_transformed = lab.fit_transform(train_y)\n",
    "\n",
    "qt = QuantileTransformer(output_distribution='normal')\n",
    "transformed = qt.fit_transform(scaled_train_x)\n",
    "transformed = pd.DataFrame(transformed, index=scaled_train_x.index, columns=scaled_train_x.columns)\n",
    "\n",
    "transformed_test = qt.transform(scaled_test_x)\n",
    "transformed_test = pd.DataFrame(transformed_test, index=scaled_test_x.index, columns=scaled_test_x.columns)\n",
    "\n",
    "#sns.pairplot(data=transformed, diag_kind='kde')\n",
    "\n",
    "process(LR,transformed,train_y,transformed_test,test_y,course)\n",
    "#regr_trans.fit(scaled_train_x, y_transformed)\n",
    "#yhat = regr_trans.predict(scaled_test_x)\n",
    "#round(r2_score(test_y, yhat), 3), round(mean_absolute_error(test_y, yhat), 2), round(np.sqrt(mean_squared_error(test_y, yhat)),2)\n"
   ]
  },
  {
   "cell_type": "markdown",
   "id": "8341ed91-79d3-4e5b-a86a-b9bb54a79d6b",
   "metadata": {},
   "source": [
    "# Hyperparameter tuning\n"
   ]
  },
  {
   "cell_type": "code",
   "execution_count": 82,
   "id": "23249757-e353-45ee-94d7-26af61e13f17",
   "metadata": {},
   "outputs": [],
   "source": [
    "import numpy as np\n",
    "from sklearn import linear_model, decomposition, datasets\n",
    "from sklearn.pipeline import Pipeline\n",
    "from sklearn.model_selection import GridSearchCV\n",
    "from sklearn.preprocessing import StandardScaler, MinMaxScaler"
   ]
  },
  {
   "cell_type": "code",
   "execution_count": 132,
   "id": "c017661d-3e92-4633-abf8-e8de3adebc55",
   "metadata": {},
   "outputs": [
    {
     "ename": "ValueError",
     "evalue": "Invalid parameter 'solver' for estimator Pipeline(steps=[('scaler', StandardScaler()), ('pca', PCA()),\n                ('logistic_Reg', LogisticRegression(solver='liblinear'))]). Valid parameters are: ['memory', 'steps', 'verbose'].",
     "output_type": "error",
     "traceback": [
      "\u001b[1;31m---------------------------------------------------------------------------\u001b[0m",
      "\u001b[1;31mValueError\u001b[0m                                Traceback (most recent call last)",
      "Cell \u001b[1;32mIn[132], line 20\u001b[0m\n\u001b[0;32m     11\u001b[0m parameters \u001b[38;5;241m=\u001b[39m \u001b[38;5;28mdict\u001b[39m(pca__n_components\u001b[38;5;241m=\u001b[39mn_components,\n\u001b[0;32m     12\u001b[0m                       scaler \u001b[38;5;241m=\u001b[39m [StandardScaler(), MinMaxScaler()],\n\u001b[0;32m     13\u001b[0m                       logistic_Reg__Cs\u001b[38;5;241m=\u001b[39mCs,\n\u001b[0;32m     14\u001b[0m                       solver \u001b[38;5;241m=\u001b[39m [\u001b[38;5;124m'\u001b[39m\u001b[38;5;124mnewton-cg\u001b[39m\u001b[38;5;124m'\u001b[39m, \u001b[38;5;124m'\u001b[39m\u001b[38;5;124mlbfgs\u001b[39m\u001b[38;5;124m'\u001b[39m, \u001b[38;5;124m'\u001b[39m\u001b[38;5;124mliblinear\u001b[39m\u001b[38;5;124m'\u001b[39m],\n\u001b[0;32m     15\u001b[0m                       logistic_Reg__penalty\u001b[38;5;241m=\u001b[39mpenalty,\n\u001b[0;32m     16\u001b[0m                         )\n\u001b[0;32m     19\u001b[0m clf_GS \u001b[38;5;241m=\u001b[39m GridSearchCV(pipe, parameters)\n\u001b[1;32m---> 20\u001b[0m \u001b[43mclf_GS\u001b[49m\u001b[38;5;241;43m.\u001b[39;49m\u001b[43mfit\u001b[49m\u001b[43m(\u001b[49m\u001b[43mnew_train_x\u001b[49m\u001b[43m,\u001b[49m\u001b[43m \u001b[49m\u001b[43mtrain_y\u001b[49m\u001b[43m)\u001b[49m\n\u001b[0;32m     22\u001b[0m \u001b[38;5;28mprint\u001b[39m(\u001b[38;5;124m'\u001b[39m\u001b[38;5;124mBest scaler:\u001b[39m\u001b[38;5;124m'\u001b[39m,clf_GS\u001b[38;5;241m.\u001b[39mbest_estimator_\u001b[38;5;241m.\u001b[39mget_params()[\u001b[38;5;124m'\u001b[39m\u001b[38;5;124mscaler\u001b[39m\u001b[38;5;124m'\u001b[39m])\n\u001b[0;32m     23\u001b[0m \u001b[38;5;28mprint\u001b[39m(\u001b[38;5;124m'\u001b[39m\u001b[38;5;124mBest Penalty:\u001b[39m\u001b[38;5;124m'\u001b[39m, clf_GS\u001b[38;5;241m.\u001b[39mbest_estimator_\u001b[38;5;241m.\u001b[39mget_params()[\u001b[38;5;124m'\u001b[39m\u001b[38;5;124mlogistic_Reg__penalty\u001b[39m\u001b[38;5;124m'\u001b[39m])\n",
      "File \u001b[1;32m~\\anaconda3\\envs\\IA\\lib\\site-packages\\sklearn\\model_selection\\_search.py:874\u001b[0m, in \u001b[0;36mBaseSearchCV.fit\u001b[1;34m(self, X, y, groups, **fit_params)\u001b[0m\n\u001b[0;32m    868\u001b[0m     results \u001b[38;5;241m=\u001b[39m \u001b[38;5;28mself\u001b[39m\u001b[38;5;241m.\u001b[39m_format_results(\n\u001b[0;32m    869\u001b[0m         all_candidate_params, n_splits, all_out, all_more_results\n\u001b[0;32m    870\u001b[0m     )\n\u001b[0;32m    872\u001b[0m     \u001b[38;5;28;01mreturn\u001b[39;00m results\n\u001b[1;32m--> 874\u001b[0m \u001b[38;5;28;43mself\u001b[39;49m\u001b[38;5;241;43m.\u001b[39;49m\u001b[43m_run_search\u001b[49m\u001b[43m(\u001b[49m\u001b[43mevaluate_candidates\u001b[49m\u001b[43m)\u001b[49m\n\u001b[0;32m    876\u001b[0m \u001b[38;5;66;03m# multimetric is determined here because in the case of a callable\u001b[39;00m\n\u001b[0;32m    877\u001b[0m \u001b[38;5;66;03m# self.scoring the return type is only known after calling\u001b[39;00m\n\u001b[0;32m    878\u001b[0m first_test_score \u001b[38;5;241m=\u001b[39m all_out[\u001b[38;5;241m0\u001b[39m][\u001b[38;5;124m\"\u001b[39m\u001b[38;5;124mtest_scores\u001b[39m\u001b[38;5;124m\"\u001b[39m]\n",
      "File \u001b[1;32m~\\anaconda3\\envs\\IA\\lib\\site-packages\\sklearn\\model_selection\\_search.py:1388\u001b[0m, in \u001b[0;36mGridSearchCV._run_search\u001b[1;34m(self, evaluate_candidates)\u001b[0m\n\u001b[0;32m   1386\u001b[0m \u001b[38;5;28;01mdef\u001b[39;00m \u001b[38;5;21m_run_search\u001b[39m(\u001b[38;5;28mself\u001b[39m, evaluate_candidates):\n\u001b[0;32m   1387\u001b[0m \u001b[38;5;250m    \u001b[39m\u001b[38;5;124;03m\"\"\"Search all candidates in param_grid\"\"\"\u001b[39;00m\n\u001b[1;32m-> 1388\u001b[0m     \u001b[43mevaluate_candidates\u001b[49m\u001b[43m(\u001b[49m\u001b[43mParameterGrid\u001b[49m\u001b[43m(\u001b[49m\u001b[38;5;28;43mself\u001b[39;49m\u001b[38;5;241;43m.\u001b[39;49m\u001b[43mparam_grid\u001b[49m\u001b[43m)\u001b[49m\u001b[43m)\u001b[49m\n",
      "File \u001b[1;32m~\\anaconda3\\envs\\IA\\lib\\site-packages\\sklearn\\model_selection\\_search.py:821\u001b[0m, in \u001b[0;36mBaseSearchCV.fit.<locals>.evaluate_candidates\u001b[1;34m(candidate_params, cv, more_results)\u001b[0m\n\u001b[0;32m    813\u001b[0m \u001b[38;5;28;01mif\u001b[39;00m \u001b[38;5;28mself\u001b[39m\u001b[38;5;241m.\u001b[39mverbose \u001b[38;5;241m>\u001b[39m \u001b[38;5;241m0\u001b[39m:\n\u001b[0;32m    814\u001b[0m     \u001b[38;5;28mprint\u001b[39m(\n\u001b[0;32m    815\u001b[0m         \u001b[38;5;124m\"\u001b[39m\u001b[38;5;124mFitting \u001b[39m\u001b[38;5;132;01m{0}\u001b[39;00m\u001b[38;5;124m folds for each of \u001b[39m\u001b[38;5;132;01m{1}\u001b[39;00m\u001b[38;5;124m candidates,\u001b[39m\u001b[38;5;124m\"\u001b[39m\n\u001b[0;32m    816\u001b[0m         \u001b[38;5;124m\"\u001b[39m\u001b[38;5;124m totalling \u001b[39m\u001b[38;5;132;01m{2}\u001b[39;00m\u001b[38;5;124m fits\u001b[39m\u001b[38;5;124m\"\u001b[39m\u001b[38;5;241m.\u001b[39mformat(\n\u001b[0;32m    817\u001b[0m             n_splits, n_candidates, n_candidates \u001b[38;5;241m*\u001b[39m n_splits\n\u001b[0;32m    818\u001b[0m         )\n\u001b[0;32m    819\u001b[0m     )\n\u001b[1;32m--> 821\u001b[0m out \u001b[38;5;241m=\u001b[39m \u001b[43mparallel\u001b[49m\u001b[43m(\u001b[49m\n\u001b[0;32m    822\u001b[0m \u001b[43m    \u001b[49m\u001b[43mdelayed\u001b[49m\u001b[43m(\u001b[49m\u001b[43m_fit_and_score\u001b[49m\u001b[43m)\u001b[49m\u001b[43m(\u001b[49m\n\u001b[0;32m    823\u001b[0m \u001b[43m        \u001b[49m\u001b[43mclone\u001b[49m\u001b[43m(\u001b[49m\u001b[43mbase_estimator\u001b[49m\u001b[43m)\u001b[49m\u001b[43m,\u001b[49m\n\u001b[0;32m    824\u001b[0m \u001b[43m        \u001b[49m\u001b[43mX\u001b[49m\u001b[43m,\u001b[49m\n\u001b[0;32m    825\u001b[0m \u001b[43m        \u001b[49m\u001b[43my\u001b[49m\u001b[43m,\u001b[49m\n\u001b[0;32m    826\u001b[0m \u001b[43m        \u001b[49m\u001b[43mtrain\u001b[49m\u001b[38;5;241;43m=\u001b[39;49m\u001b[43mtrain\u001b[49m\u001b[43m,\u001b[49m\n\u001b[0;32m    827\u001b[0m \u001b[43m        \u001b[49m\u001b[43mtest\u001b[49m\u001b[38;5;241;43m=\u001b[39;49m\u001b[43mtest\u001b[49m\u001b[43m,\u001b[49m\n\u001b[0;32m    828\u001b[0m \u001b[43m        \u001b[49m\u001b[43mparameters\u001b[49m\u001b[38;5;241;43m=\u001b[39;49m\u001b[43mparameters\u001b[49m\u001b[43m,\u001b[49m\n\u001b[0;32m    829\u001b[0m \u001b[43m        \u001b[49m\u001b[43msplit_progress\u001b[49m\u001b[38;5;241;43m=\u001b[39;49m\u001b[43m(\u001b[49m\u001b[43msplit_idx\u001b[49m\u001b[43m,\u001b[49m\u001b[43m \u001b[49m\u001b[43mn_splits\u001b[49m\u001b[43m)\u001b[49m\u001b[43m,\u001b[49m\n\u001b[0;32m    830\u001b[0m \u001b[43m        \u001b[49m\u001b[43mcandidate_progress\u001b[49m\u001b[38;5;241;43m=\u001b[39;49m\u001b[43m(\u001b[49m\u001b[43mcand_idx\u001b[49m\u001b[43m,\u001b[49m\u001b[43m \u001b[49m\u001b[43mn_candidates\u001b[49m\u001b[43m)\u001b[49m\u001b[43m,\u001b[49m\n\u001b[0;32m    831\u001b[0m \u001b[43m        \u001b[49m\u001b[38;5;241;43m*\u001b[39;49m\u001b[38;5;241;43m*\u001b[39;49m\u001b[43mfit_and_score_kwargs\u001b[49m\u001b[43m,\u001b[49m\n\u001b[0;32m    832\u001b[0m \u001b[43m    \u001b[49m\u001b[43m)\u001b[49m\n\u001b[0;32m    833\u001b[0m \u001b[43m    \u001b[49m\u001b[38;5;28;43;01mfor\u001b[39;49;00m\u001b[43m \u001b[49m\u001b[43m(\u001b[49m\u001b[43mcand_idx\u001b[49m\u001b[43m,\u001b[49m\u001b[43m \u001b[49m\u001b[43mparameters\u001b[49m\u001b[43m)\u001b[49m\u001b[43m,\u001b[49m\u001b[43m \u001b[49m\u001b[43m(\u001b[49m\u001b[43msplit_idx\u001b[49m\u001b[43m,\u001b[49m\u001b[43m \u001b[49m\u001b[43m(\u001b[49m\u001b[43mtrain\u001b[49m\u001b[43m,\u001b[49m\u001b[43m \u001b[49m\u001b[43mtest\u001b[49m\u001b[43m)\u001b[49m\u001b[43m)\u001b[49m\u001b[43m \u001b[49m\u001b[38;5;129;43;01min\u001b[39;49;00m\u001b[43m \u001b[49m\u001b[43mproduct\u001b[49m\u001b[43m(\u001b[49m\n\u001b[0;32m    834\u001b[0m \u001b[43m        \u001b[49m\u001b[38;5;28;43menumerate\u001b[39;49m\u001b[43m(\u001b[49m\u001b[43mcandidate_params\u001b[49m\u001b[43m)\u001b[49m\u001b[43m,\u001b[49m\u001b[43m \u001b[49m\u001b[38;5;28;43menumerate\u001b[39;49m\u001b[43m(\u001b[49m\u001b[43mcv\u001b[49m\u001b[38;5;241;43m.\u001b[39;49m\u001b[43msplit\u001b[49m\u001b[43m(\u001b[49m\u001b[43mX\u001b[49m\u001b[43m,\u001b[49m\u001b[43m \u001b[49m\u001b[43my\u001b[49m\u001b[43m,\u001b[49m\u001b[43m \u001b[49m\u001b[43mgroups\u001b[49m\u001b[43m)\u001b[49m\u001b[43m)\u001b[49m\n\u001b[0;32m    835\u001b[0m \u001b[43m    \u001b[49m\u001b[43m)\u001b[49m\n\u001b[0;32m    836\u001b[0m \u001b[43m\u001b[49m\u001b[43m)\u001b[49m\n\u001b[0;32m    838\u001b[0m \u001b[38;5;28;01mif\u001b[39;00m \u001b[38;5;28mlen\u001b[39m(out) \u001b[38;5;241m<\u001b[39m \u001b[38;5;241m1\u001b[39m:\n\u001b[0;32m    839\u001b[0m     \u001b[38;5;28;01mraise\u001b[39;00m \u001b[38;5;167;01mValueError\u001b[39;00m(\n\u001b[0;32m    840\u001b[0m         \u001b[38;5;124m\"\u001b[39m\u001b[38;5;124mNo fits were performed. \u001b[39m\u001b[38;5;124m\"\u001b[39m\n\u001b[0;32m    841\u001b[0m         \u001b[38;5;124m\"\u001b[39m\u001b[38;5;124mWas the CV iterator empty? \u001b[39m\u001b[38;5;124m\"\u001b[39m\n\u001b[0;32m    842\u001b[0m         \u001b[38;5;124m\"\u001b[39m\u001b[38;5;124mWere there no candidates?\u001b[39m\u001b[38;5;124m\"\u001b[39m\n\u001b[0;32m    843\u001b[0m     )\n",
      "File \u001b[1;32m~\\anaconda3\\envs\\IA\\lib\\site-packages\\sklearn\\utils\\parallel.py:63\u001b[0m, in \u001b[0;36mParallel.__call__\u001b[1;34m(self, iterable)\u001b[0m\n\u001b[0;32m     58\u001b[0m config \u001b[38;5;241m=\u001b[39m get_config()\n\u001b[0;32m     59\u001b[0m iterable_with_config \u001b[38;5;241m=\u001b[39m (\n\u001b[0;32m     60\u001b[0m     (_with_config(delayed_func, config), args, kwargs)\n\u001b[0;32m     61\u001b[0m     \u001b[38;5;28;01mfor\u001b[39;00m delayed_func, args, kwargs \u001b[38;5;129;01min\u001b[39;00m iterable\n\u001b[0;32m     62\u001b[0m )\n\u001b[1;32m---> 63\u001b[0m \u001b[38;5;28;01mreturn\u001b[39;00m \u001b[38;5;28;43msuper\u001b[39;49m\u001b[43m(\u001b[49m\u001b[43m)\u001b[49m\u001b[38;5;241;43m.\u001b[39;49m\u001b[38;5;21;43m__call__\u001b[39;49m\u001b[43m(\u001b[49m\u001b[43miterable_with_config\u001b[49m\u001b[43m)\u001b[49m\n",
      "File \u001b[1;32m~\\anaconda3\\envs\\IA\\lib\\site-packages\\joblib\\parallel.py:1085\u001b[0m, in \u001b[0;36mParallel.__call__\u001b[1;34m(self, iterable)\u001b[0m\n\u001b[0;32m   1076\u001b[0m \u001b[38;5;28;01mtry\u001b[39;00m:\n\u001b[0;32m   1077\u001b[0m     \u001b[38;5;66;03m# Only set self._iterating to True if at least a batch\u001b[39;00m\n\u001b[0;32m   1078\u001b[0m     \u001b[38;5;66;03m# was dispatched. In particular this covers the edge\u001b[39;00m\n\u001b[1;32m   (...)\u001b[0m\n\u001b[0;32m   1082\u001b[0m     \u001b[38;5;66;03m# was very quick and its callback already dispatched all the\u001b[39;00m\n\u001b[0;32m   1083\u001b[0m     \u001b[38;5;66;03m# remaining jobs.\u001b[39;00m\n\u001b[0;32m   1084\u001b[0m     \u001b[38;5;28mself\u001b[39m\u001b[38;5;241m.\u001b[39m_iterating \u001b[38;5;241m=\u001b[39m \u001b[38;5;28;01mFalse\u001b[39;00m\n\u001b[1;32m-> 1085\u001b[0m     \u001b[38;5;28;01mif\u001b[39;00m \u001b[38;5;28;43mself\u001b[39;49m\u001b[38;5;241;43m.\u001b[39;49m\u001b[43mdispatch_one_batch\u001b[49m\u001b[43m(\u001b[49m\u001b[43miterator\u001b[49m\u001b[43m)\u001b[49m:\n\u001b[0;32m   1086\u001b[0m         \u001b[38;5;28mself\u001b[39m\u001b[38;5;241m.\u001b[39m_iterating \u001b[38;5;241m=\u001b[39m \u001b[38;5;28mself\u001b[39m\u001b[38;5;241m.\u001b[39m_original_iterator \u001b[38;5;129;01mis\u001b[39;00m \u001b[38;5;129;01mnot\u001b[39;00m \u001b[38;5;28;01mNone\u001b[39;00m\n\u001b[0;32m   1088\u001b[0m     \u001b[38;5;28;01mwhile\u001b[39;00m \u001b[38;5;28mself\u001b[39m\u001b[38;5;241m.\u001b[39mdispatch_one_batch(iterator):\n",
      "File \u001b[1;32m~\\anaconda3\\envs\\IA\\lib\\site-packages\\joblib\\parallel.py:901\u001b[0m, in \u001b[0;36mParallel.dispatch_one_batch\u001b[1;34m(self, iterator)\u001b[0m\n\u001b[0;32m    899\u001b[0m     \u001b[38;5;28;01mreturn\u001b[39;00m \u001b[38;5;28;01mFalse\u001b[39;00m\n\u001b[0;32m    900\u001b[0m \u001b[38;5;28;01melse\u001b[39;00m:\n\u001b[1;32m--> 901\u001b[0m     \u001b[38;5;28;43mself\u001b[39;49m\u001b[38;5;241;43m.\u001b[39;49m\u001b[43m_dispatch\u001b[49m\u001b[43m(\u001b[49m\u001b[43mtasks\u001b[49m\u001b[43m)\u001b[49m\n\u001b[0;32m    902\u001b[0m     \u001b[38;5;28;01mreturn\u001b[39;00m \u001b[38;5;28;01mTrue\u001b[39;00m\n",
      "File \u001b[1;32m~\\anaconda3\\envs\\IA\\lib\\site-packages\\joblib\\parallel.py:819\u001b[0m, in \u001b[0;36mParallel._dispatch\u001b[1;34m(self, batch)\u001b[0m\n\u001b[0;32m    817\u001b[0m \u001b[38;5;28;01mwith\u001b[39;00m \u001b[38;5;28mself\u001b[39m\u001b[38;5;241m.\u001b[39m_lock:\n\u001b[0;32m    818\u001b[0m     job_idx \u001b[38;5;241m=\u001b[39m \u001b[38;5;28mlen\u001b[39m(\u001b[38;5;28mself\u001b[39m\u001b[38;5;241m.\u001b[39m_jobs)\n\u001b[1;32m--> 819\u001b[0m     job \u001b[38;5;241m=\u001b[39m \u001b[38;5;28;43mself\u001b[39;49m\u001b[38;5;241;43m.\u001b[39;49m\u001b[43m_backend\u001b[49m\u001b[38;5;241;43m.\u001b[39;49m\u001b[43mapply_async\u001b[49m\u001b[43m(\u001b[49m\u001b[43mbatch\u001b[49m\u001b[43m,\u001b[49m\u001b[43m \u001b[49m\u001b[43mcallback\u001b[49m\u001b[38;5;241;43m=\u001b[39;49m\u001b[43mcb\u001b[49m\u001b[43m)\u001b[49m\n\u001b[0;32m    820\u001b[0m     \u001b[38;5;66;03m# A job can complete so quickly than its callback is\u001b[39;00m\n\u001b[0;32m    821\u001b[0m     \u001b[38;5;66;03m# called before we get here, causing self._jobs to\u001b[39;00m\n\u001b[0;32m    822\u001b[0m     \u001b[38;5;66;03m# grow. To ensure correct results ordering, .insert is\u001b[39;00m\n\u001b[0;32m    823\u001b[0m     \u001b[38;5;66;03m# used (rather than .append) in the following line\u001b[39;00m\n\u001b[0;32m    824\u001b[0m     \u001b[38;5;28mself\u001b[39m\u001b[38;5;241m.\u001b[39m_jobs\u001b[38;5;241m.\u001b[39minsert(job_idx, job)\n",
      "File \u001b[1;32m~\\anaconda3\\envs\\IA\\lib\\site-packages\\joblib\\_parallel_backends.py:208\u001b[0m, in \u001b[0;36mSequentialBackend.apply_async\u001b[1;34m(self, func, callback)\u001b[0m\n\u001b[0;32m    206\u001b[0m \u001b[38;5;28;01mdef\u001b[39;00m \u001b[38;5;21mapply_async\u001b[39m(\u001b[38;5;28mself\u001b[39m, func, callback\u001b[38;5;241m=\u001b[39m\u001b[38;5;28;01mNone\u001b[39;00m):\n\u001b[0;32m    207\u001b[0m \u001b[38;5;250m    \u001b[39m\u001b[38;5;124;03m\"\"\"Schedule a func to be run\"\"\"\u001b[39;00m\n\u001b[1;32m--> 208\u001b[0m     result \u001b[38;5;241m=\u001b[39m \u001b[43mImmediateResult\u001b[49m\u001b[43m(\u001b[49m\u001b[43mfunc\u001b[49m\u001b[43m)\u001b[49m\n\u001b[0;32m    209\u001b[0m     \u001b[38;5;28;01mif\u001b[39;00m callback:\n\u001b[0;32m    210\u001b[0m         callback(result)\n",
      "File \u001b[1;32m~\\anaconda3\\envs\\IA\\lib\\site-packages\\joblib\\_parallel_backends.py:597\u001b[0m, in \u001b[0;36mImmediateResult.__init__\u001b[1;34m(self, batch)\u001b[0m\n\u001b[0;32m    594\u001b[0m \u001b[38;5;28;01mdef\u001b[39;00m \u001b[38;5;21m__init__\u001b[39m(\u001b[38;5;28mself\u001b[39m, batch):\n\u001b[0;32m    595\u001b[0m     \u001b[38;5;66;03m# Don't delay the application, to avoid keeping the input\u001b[39;00m\n\u001b[0;32m    596\u001b[0m     \u001b[38;5;66;03m# arguments in memory\u001b[39;00m\n\u001b[1;32m--> 597\u001b[0m     \u001b[38;5;28mself\u001b[39m\u001b[38;5;241m.\u001b[39mresults \u001b[38;5;241m=\u001b[39m \u001b[43mbatch\u001b[49m\u001b[43m(\u001b[49m\u001b[43m)\u001b[49m\n",
      "File \u001b[1;32m~\\anaconda3\\envs\\IA\\lib\\site-packages\\joblib\\parallel.py:288\u001b[0m, in \u001b[0;36mBatchedCalls.__call__\u001b[1;34m(self)\u001b[0m\n\u001b[0;32m    284\u001b[0m \u001b[38;5;28;01mdef\u001b[39;00m \u001b[38;5;21m__call__\u001b[39m(\u001b[38;5;28mself\u001b[39m):\n\u001b[0;32m    285\u001b[0m     \u001b[38;5;66;03m# Set the default nested backend to self._backend but do not set the\u001b[39;00m\n\u001b[0;32m    286\u001b[0m     \u001b[38;5;66;03m# change the default number of processes to -1\u001b[39;00m\n\u001b[0;32m    287\u001b[0m     \u001b[38;5;28;01mwith\u001b[39;00m parallel_backend(\u001b[38;5;28mself\u001b[39m\u001b[38;5;241m.\u001b[39m_backend, n_jobs\u001b[38;5;241m=\u001b[39m\u001b[38;5;28mself\u001b[39m\u001b[38;5;241m.\u001b[39m_n_jobs):\n\u001b[1;32m--> 288\u001b[0m         \u001b[38;5;28;01mreturn\u001b[39;00m [func(\u001b[38;5;241m*\u001b[39margs, \u001b[38;5;241m*\u001b[39m\u001b[38;5;241m*\u001b[39mkwargs)\n\u001b[0;32m    289\u001b[0m                 \u001b[38;5;28;01mfor\u001b[39;00m func, args, kwargs \u001b[38;5;129;01min\u001b[39;00m \u001b[38;5;28mself\u001b[39m\u001b[38;5;241m.\u001b[39mitems]\n",
      "File \u001b[1;32m~\\anaconda3\\envs\\IA\\lib\\site-packages\\joblib\\parallel.py:288\u001b[0m, in \u001b[0;36m<listcomp>\u001b[1;34m(.0)\u001b[0m\n\u001b[0;32m    284\u001b[0m \u001b[38;5;28;01mdef\u001b[39;00m \u001b[38;5;21m__call__\u001b[39m(\u001b[38;5;28mself\u001b[39m):\n\u001b[0;32m    285\u001b[0m     \u001b[38;5;66;03m# Set the default nested backend to self._backend but do not set the\u001b[39;00m\n\u001b[0;32m    286\u001b[0m     \u001b[38;5;66;03m# change the default number of processes to -1\u001b[39;00m\n\u001b[0;32m    287\u001b[0m     \u001b[38;5;28;01mwith\u001b[39;00m parallel_backend(\u001b[38;5;28mself\u001b[39m\u001b[38;5;241m.\u001b[39m_backend, n_jobs\u001b[38;5;241m=\u001b[39m\u001b[38;5;28mself\u001b[39m\u001b[38;5;241m.\u001b[39m_n_jobs):\n\u001b[1;32m--> 288\u001b[0m         \u001b[38;5;28;01mreturn\u001b[39;00m [func(\u001b[38;5;241m*\u001b[39margs, \u001b[38;5;241m*\u001b[39m\u001b[38;5;241m*\u001b[39mkwargs)\n\u001b[0;32m    289\u001b[0m                 \u001b[38;5;28;01mfor\u001b[39;00m func, args, kwargs \u001b[38;5;129;01min\u001b[39;00m \u001b[38;5;28mself\u001b[39m\u001b[38;5;241m.\u001b[39mitems]\n",
      "File \u001b[1;32m~\\anaconda3\\envs\\IA\\lib\\site-packages\\sklearn\\utils\\parallel.py:123\u001b[0m, in \u001b[0;36m_FuncWrapper.__call__\u001b[1;34m(self, *args, **kwargs)\u001b[0m\n\u001b[0;32m    121\u001b[0m     config \u001b[38;5;241m=\u001b[39m {}\n\u001b[0;32m    122\u001b[0m \u001b[38;5;28;01mwith\u001b[39;00m config_context(\u001b[38;5;241m*\u001b[39m\u001b[38;5;241m*\u001b[39mconfig):\n\u001b[1;32m--> 123\u001b[0m     \u001b[38;5;28;01mreturn\u001b[39;00m \u001b[38;5;28mself\u001b[39m\u001b[38;5;241m.\u001b[39mfunction(\u001b[38;5;241m*\u001b[39margs, \u001b[38;5;241m*\u001b[39m\u001b[38;5;241m*\u001b[39mkwargs)\n",
      "File \u001b[1;32m~\\anaconda3\\envs\\IA\\lib\\site-packages\\sklearn\\model_selection\\_validation.py:674\u001b[0m, in \u001b[0;36m_fit_and_score\u001b[1;34m(estimator, X, y, scorer, train, test, verbose, parameters, fit_params, return_train_score, return_parameters, return_n_test_samples, return_times, return_estimator, split_progress, candidate_progress, error_score)\u001b[0m\n\u001b[0;32m    671\u001b[0m     \u001b[38;5;28;01mfor\u001b[39;00m k, v \u001b[38;5;129;01min\u001b[39;00m parameters\u001b[38;5;241m.\u001b[39mitems():\n\u001b[0;32m    672\u001b[0m         cloned_parameters[k] \u001b[38;5;241m=\u001b[39m clone(v, safe\u001b[38;5;241m=\u001b[39m\u001b[38;5;28;01mFalse\u001b[39;00m)\n\u001b[1;32m--> 674\u001b[0m     estimator \u001b[38;5;241m=\u001b[39m estimator\u001b[38;5;241m.\u001b[39mset_params(\u001b[38;5;241m*\u001b[39m\u001b[38;5;241m*\u001b[39mcloned_parameters)\n\u001b[0;32m    676\u001b[0m start_time \u001b[38;5;241m=\u001b[39m time\u001b[38;5;241m.\u001b[39mtime()\n\u001b[0;32m    678\u001b[0m X_train, y_train \u001b[38;5;241m=\u001b[39m _safe_split(estimator, X, y, train)\n",
      "File \u001b[1;32m~\\anaconda3\\envs\\IA\\lib\\site-packages\\sklearn\\pipeline.py:211\u001b[0m, in \u001b[0;36mPipeline.set_params\u001b[1;34m(self, **kwargs)\u001b[0m\n\u001b[0;32m    192\u001b[0m \u001b[38;5;28;01mdef\u001b[39;00m \u001b[38;5;21mset_params\u001b[39m(\u001b[38;5;28mself\u001b[39m, \u001b[38;5;241m*\u001b[39m\u001b[38;5;241m*\u001b[39mkwargs):\n\u001b[0;32m    193\u001b[0m \u001b[38;5;250m    \u001b[39m\u001b[38;5;124;03m\"\"\"Set the parameters of this estimator.\u001b[39;00m\n\u001b[0;32m    194\u001b[0m \n\u001b[0;32m    195\u001b[0m \u001b[38;5;124;03m    Valid parameter keys can be listed with ``get_params()``. Note that\u001b[39;00m\n\u001b[1;32m   (...)\u001b[0m\n\u001b[0;32m    209\u001b[0m \u001b[38;5;124;03m        Pipeline class instance.\u001b[39;00m\n\u001b[0;32m    210\u001b[0m \u001b[38;5;124;03m    \"\"\"\u001b[39;00m\n\u001b[1;32m--> 211\u001b[0m     \u001b[38;5;28mself\u001b[39m\u001b[38;5;241m.\u001b[39m_set_params(\u001b[38;5;124m\"\u001b[39m\u001b[38;5;124msteps\u001b[39m\u001b[38;5;124m\"\u001b[39m, \u001b[38;5;241m*\u001b[39m\u001b[38;5;241m*\u001b[39mkwargs)\n\u001b[0;32m    212\u001b[0m     \u001b[38;5;28;01mreturn\u001b[39;00m \u001b[38;5;28mself\u001b[39m\n",
      "File \u001b[1;32m~\\anaconda3\\envs\\IA\\lib\\site-packages\\sklearn\\utils\\metaestimators.py:70\u001b[0m, in \u001b[0;36m_BaseComposition._set_params\u001b[1;34m(self, attr, **params)\u001b[0m\n\u001b[0;32m     67\u001b[0m                 \u001b[38;5;28mself\u001b[39m\u001b[38;5;241m.\u001b[39m_replace_estimator(attr, name, params\u001b[38;5;241m.\u001b[39mpop(name))\n\u001b[0;32m     69\u001b[0m \u001b[38;5;66;03m# 3. Step parameters and other initialisation arguments\u001b[39;00m\n\u001b[1;32m---> 70\u001b[0m \u001b[38;5;28msuper\u001b[39m()\u001b[38;5;241m.\u001b[39mset_params(\u001b[38;5;241m*\u001b[39m\u001b[38;5;241m*\u001b[39mparams)\n\u001b[0;32m     71\u001b[0m \u001b[38;5;28;01mreturn\u001b[39;00m \u001b[38;5;28mself\u001b[39m\n",
      "File \u001b[1;32m~\\anaconda3\\envs\\IA\\lib\\site-packages\\sklearn\\base.py:205\u001b[0m, in \u001b[0;36mBaseEstimator.set_params\u001b[1;34m(self, **params)\u001b[0m\n\u001b[0;32m    203\u001b[0m \u001b[38;5;28;01mif\u001b[39;00m key \u001b[38;5;129;01mnot\u001b[39;00m \u001b[38;5;129;01min\u001b[39;00m valid_params:\n\u001b[0;32m    204\u001b[0m     local_valid_params \u001b[38;5;241m=\u001b[39m \u001b[38;5;28mself\u001b[39m\u001b[38;5;241m.\u001b[39m_get_param_names()\n\u001b[1;32m--> 205\u001b[0m     \u001b[38;5;28;01mraise\u001b[39;00m \u001b[38;5;167;01mValueError\u001b[39;00m(\n\u001b[0;32m    206\u001b[0m         \u001b[38;5;124mf\u001b[39m\u001b[38;5;124m\"\u001b[39m\u001b[38;5;124mInvalid parameter \u001b[39m\u001b[38;5;132;01m{\u001b[39;00mkey\u001b[38;5;132;01m!r}\u001b[39;00m\u001b[38;5;124m for estimator \u001b[39m\u001b[38;5;132;01m{\u001b[39;00m\u001b[38;5;28mself\u001b[39m\u001b[38;5;132;01m}\u001b[39;00m\u001b[38;5;124m. \u001b[39m\u001b[38;5;124m\"\u001b[39m\n\u001b[0;32m    207\u001b[0m         \u001b[38;5;124mf\u001b[39m\u001b[38;5;124m\"\u001b[39m\u001b[38;5;124mValid parameters are: \u001b[39m\u001b[38;5;132;01m{\u001b[39;00mlocal_valid_params\u001b[38;5;132;01m!r}\u001b[39;00m\u001b[38;5;124m.\u001b[39m\u001b[38;5;124m\"\u001b[39m\n\u001b[0;32m    208\u001b[0m     )\n\u001b[0;32m    210\u001b[0m \u001b[38;5;28;01mif\u001b[39;00m delim:\n\u001b[0;32m    211\u001b[0m     nested_params[key][sub_key] \u001b[38;5;241m=\u001b[39m value\n",
      "\u001b[1;31mValueError\u001b[0m: Invalid parameter 'solver' for estimator Pipeline(steps=[('scaler', StandardScaler()), ('pca', PCA()),\n                ('logistic_Reg', LogisticRegression(solver='liblinear'))]). Valid parameters are: ['memory', 'steps', 'verbose']."
     ]
    }
   ],
   "source": [
    "std_slc = StandardScaler()\n",
    "pca = decomposition.PCA()\n",
    "logistic_Reg = linear_model.LogisticRegression(solver='liblinear')\n",
    "\n",
    "pipe = Pipeline(steps=[('scaler', StandardScaler()), ('pca', pca), ('logistic_Reg', logistic_Reg)])\n",
    "n_components = list(range(1,new_train_x.shape[1]+1,1))\n",
    "\n",
    "Cs = np.logspace(-4, 4, 50)\n",
    "penalty = ['l1', 'l2']\n",
    "\n",
    "parameters = dict(pca__n_components=n_components,\n",
    "                      scaler = [StandardScaler(), MinMaxScaler()],\n",
    "                      logistic_Reg__Cs=Cs,\n",
    "                      solver = ['newton-cg', 'lbfgs', 'liblinear'],\n",
    "                      logistic_Reg__penalty=penalty,\n",
    "                        )\n",
    "\n",
    "\n",
    "clf_GS = GridSearchCV(pipe, parameters)\n",
    "clf_GS.fit(new_train_x, train_y)\n",
    "\n",
    "print('Best scaler:',clf_GS.best_estimator_.get_params()['scaler'])\n",
    "print('Best Penalty:', clf_GS.best_estimator_.get_params()['logistic_Reg__penalty'])\n",
    "print('Best C:', clf_GS.best_estimator_.get_params()['logistic_Reg__C'])\n",
    "print('Best Number Of Components:', clf_GS.best_estimator_.get_params()['pca__n_components'])\n",
    "print(clf_GS.best_estimator_.get_params()['logistic_Reg'])"
   ]
  },
  {
   "cell_type": "code",
   "execution_count": 114,
   "id": "a2b3d80f-bfc4-41a0-a989-d878242c5961",
   "metadata": {},
   "outputs": [],
   "source": [
    "columns = new_train_x.columns\n",
    "squared_x = new_train_x.apply(np.square)\n",
    "squared_x = squared_x.rename(columns={\"Convocatoria\": \"C2\", \"Anho\": \"A2\", \"Primer.Par\": \"P2\", \"Num.Intento\":\"I2\"})\n",
    "squared_x = pd.concat([new_train_x,squared_x],axis=1)\n",
    "#print(squared_x)\n",
    "columns = new_test_x.columns\n",
    "squared_test_x = new_test_x.apply(np.square)\n",
    "squared_test_x = squared_test_x.rename(columns={\"Convocatoria\": \"C2\", \"Anho\": \"A2\", \"Primer.Par\": \"P2\", \"Num.Intento\":\"I2\"})\n",
    "squared_test_x = pd.concat([new_test_x,squared_test_x],axis=1)\n",
    "#print(squared_test_x)"
   ]
  },
  {
   "cell_type": "code",
   "execution_count": 113,
   "id": "eb0d00c0-a313-4ba7-9422-08639e13e985",
   "metadata": {},
   "outputs": [
    {
     "name": "stdout",
     "output_type": "stream",
     "text": [
      "Best Scaler: MinMaxScaler()\n",
      "Best Penalty: l2\n",
      "Best C: 0.12648552168552957\n",
      "Best Number Of Components: 6\n",
      "\n",
      "LogisticRegression(C=0.12648552168552957, solver='liblinear')\n"
     ]
    }
   ],
   "source": [
    "std_slc = StandardScaler()\n",
    "pca = decomposition.PCA()\n",
    "logistic_Reg = linear_model.LogisticRegression(solver='liblinear')\n",
    "\n",
    "pipe = Pipeline(steps=[('scaler', StandardScaler), ('pca', pca), ('logistic_Reg', logistic_Reg)])\n",
    "n_components = list(range(1,squared_x.shape[1]+1,1))\n",
    "\n",
    "C = np.logspace(-4, 4, 50)\n",
    "penalty = ['l1', 'l2']\n",
    "\n",
    "parameters = dict(pca__n_components=n_components,\n",
    "                      logistic_Reg__C=C,\n",
    "                      scaler = [StandardScaler(), MinMaxScaler()],\n",
    "                      logistic_Reg__penalty=penalty)\n",
    "\n",
    "\n",
    "clf_GS = GridSearchCV(pipe, parameters)\n",
    "clf_GS.fit(squared_x, train_y)\n",
    "\n",
    "print('Best Scaler:',clf_GS.best_estimator_.get_params()['scaler'])\n",
    "print('Best Penalty:', clf_GS.best_estimator_.get_params()['logistic_Reg__penalty'])\n",
    "print('Best C:', clf_GS.best_estimator_.get_params()['logistic_Reg__C'])\n",
    "print('Best Number Of Components:', clf_GS.best_estimator_.get_params()['pca__n_components'])\n",
    "print(clf_GS.best_estimator_.get_params()['logistic_Reg'])"
   ]
  },
  {
   "cell_type": "code",
   "execution_count": 122,
   "id": "29a131b8-404d-46a9-8202-ceed96e1c288",
   "metadata": {},
   "outputs": [
    {
     "data": {
      "text/plain": [
       "0.7647668393782383"
      ]
     },
     "execution_count": 122,
     "metadata": {},
     "output_type": "execute_result"
    }
   ],
   "source": [
    "n = 3\n",
    "scaler = MinMaxScaler()\n",
    "pca = decomposition.PCA(n_components=n)\n",
    "logistic_Reg = linear_model.LogisticRegression(C=0.08685113737513521, solver='liblinear', penalty='l2')\n",
    "\n",
    "\n",
    "pipe = Pipeline(steps=[('scaler', scaler), ('pca', pca), ('logistic_Reg', logistic_Reg)])\n",
    "pipe.fit(new_train_x, train_y)\n",
    "pipe.score(new_test_x, test_y)"
   ]
  },
  {
   "cell_type": "code",
   "execution_count": 123,
   "id": "efa05a45-0c12-47da-bb09-a7bd5b2f0976",
   "metadata": {},
   "outputs": [
    {
     "data": {
      "text/plain": [
       "0.7658031088082902"
      ]
     },
     "execution_count": 123,
     "metadata": {},
     "output_type": "execute_result"
    }
   ],
   "source": [
    "n = 6\n",
    "scaler = MinMaxScaler()\n",
    "pca = decomposition.PCA(n_components=n)\n",
    "logistic_Reg = linear_model.LogisticRegression(C=0.12648552168552957, solver='liblinear', penalty = 'l2')\n",
    "\n",
    "\n",
    "pipe = Pipeline(steps=[('scaler', scaler), ('pca', pca), ('logistic_Reg', logistic_Reg)])\n",
    "pipe.fit(squared_x, train_y)\n",
    "pipe.score(squared_test_x, test_y)"
   ]
  }
 ],
 "metadata": {
  "kernelspec": {
   "display_name": "Python 3 (ipykernel)",
   "language": "python",
   "name": "python3"
  },
  "language_info": {
   "codemirror_mode": {
    "name": "ipython",
    "version": 3
   },
   "file_extension": ".py",
   "mimetype": "text/x-python",
   "name": "python",
   "nbconvert_exporter": "python",
   "pygments_lexer": "ipython3",
   "version": "3.10.8"
  }
 },
 "nbformat": 4,
 "nbformat_minor": 5
}
