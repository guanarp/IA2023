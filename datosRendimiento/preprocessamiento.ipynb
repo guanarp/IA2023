{
 "cells": [
  {
   "cell_type": "code",
   "execution_count": 1,
   "id": "fifth-strategy",
   "metadata": {},
   "outputs": [],
   "source": [
    "import os\n",
    "import pandas as pd\n",
    "import numpy as np\n",
    "import matplotlib.pyplot as plt"
   ]
  },
  {
   "cell_type": "code",
   "execution_count": 39,
   "id": "automotive-techno",
   "metadata": {},
   "outputs": [],
   "source": [
    "df= pd.read_csv(\"datos\\datosConcatenados.csv\")"
   ]
  },
  {
   "cell_type": "code",
   "execution_count": 40,
   "id": "hidden-speed",
   "metadata": {},
   "outputs": [
    {
     "name": "stdout",
     "output_type": "stream",
     "text": [
      "<class 'pandas.core.frame.DataFrame'>\n",
      "RangeIndex: 221822 entries, 0 to 221821\n",
      "Data columns (total 23 columns):\n",
      " #   Column        Non-Null Count   Dtype  \n",
      "---  ------        --------------   -----  \n",
      " 0   Unnamed: 0    221822 non-null  int64  \n",
      " 1   danho         221822 non-null  int64  \n",
      " 2   ciclo         221822 non-null  int64  \n",
      " 3   Cod.Asign     221822 non-null  int64  \n",
      " 4   Asignatura    221822 non-null  object \n",
      " 5   Cod.Car.Sec   221822 non-null  object \n",
      " 6   Cod.Curso     221822 non-null  int64  \n",
      " 7   Convocatoria  221822 non-null  int64  \n",
      " 8   Anho          221822 non-null  int64  \n",
      " 9   Semestre      221822 non-null  int64  \n",
      " 10  Aprobado      221822 non-null  object \n",
      " 11  Anho.Firma    221822 non-null  int64  \n",
      " 12  Primer.Par    221822 non-null  int64  \n",
      " 13  Segundo.Par   221822 non-null  int64  \n",
      " 14  AOT           221822 non-null  int64  \n",
      " 15  Primer.Rec    221822 non-null  int64  \n",
      " 16  Segundo.Rec   221822 non-null  int64  \n",
      " 17  Nota.Final    137062 non-null  object \n",
      " 18  Tercer.Par    221822 non-null  float64\n",
      " 19  Asis          221822 non-null  float64\n",
      " 20  Cuarto.Par    28037 non-null   float64\n",
      " 21  4P_60         28037 non-null   float64\n",
      " 22  id_anony      221822 non-null  object \n",
      "dtypes: float64(4), int64(14), object(5)\n",
      "memory usage: 38.9+ MB\n"
     ]
    }
   ],
   "source": [
    "df.info()"
   ]
  },
  {
   "cell_type": "code",
   "execution_count": 4,
   "id": "actual-breast",
   "metadata": {},
   "outputs": [],
   "source": [
    "#flag=df[\"Asignatura\"]==\"CALCULO 1\""
   ]
  },
  {
   "cell_type": "code",
   "execution_count": 89,
   "id": "terminal-observer",
   "metadata": {},
   "outputs": [
    {
     "data": {
      "text/plain": [
       "array(['N', 'S'], dtype=object)"
      ]
     },
     "execution_count": 89,
     "metadata": {},
     "output_type": "execute_result"
    }
   ],
   "source": [
    "np.unique(df[\"Aprobado\"])"
   ]
  },
  {
   "cell_type": "code",
   "execution_count": 6,
   "id": "regulated-parish",
   "metadata": {},
   "outputs": [],
   "source": [
    "#np.unique(df[\"Asignatura\"])"
   ]
  },
  {
   "cell_type": "code",
   "execution_count": 42,
   "id": "e6968f99-e698-4ef6-8649-27f633e36940",
   "metadata": {},
   "outputs": [
    {
     "name": "stderr",
     "output_type": "stream",
     "text": [
      "C:\\Users\\josec\\AppData\\Local\\Temp\\ipykernel_7180\\2162127425.py:1: FutureWarning: The default value of regex will change from True to False in a future version.\n",
      "  df[\"Asignatura\"] = df[\"Asignatura\"].str.replace(' +', ' ')\n"
     ]
    }
   ],
   "source": [
    "df[\"Asignatura\"] = df[\"Asignatura\"].str.replace(' +', ' ')\n",
    "df[\"Asignatura\"] = df[\"Asignatura\"].str.strip()\n",
    "#np.unique(df[\"Asignatura\"])\n",
    "    "
   ]
  },
  {
   "cell_type": "code",
   "execution_count": 43,
   "id": "34bf7c37-cd5b-4300-9bc7-41296cc81352",
   "metadata": {},
   "outputs": [
    {
     "data": {
      "text/html": [
       "<div>\n",
       "<style scoped>\n",
       "    .dataframe tbody tr th:only-of-type {\n",
       "        vertical-align: middle;\n",
       "    }\n",
       "\n",
       "    .dataframe tbody tr th {\n",
       "        vertical-align: top;\n",
       "    }\n",
       "\n",
       "    .dataframe thead th {\n",
       "        text-align: right;\n",
       "    }\n",
       "</style>\n",
       "<table border=\"1\" class=\"dataframe\">\n",
       "  <thead>\n",
       "    <tr style=\"text-align: right;\">\n",
       "      <th></th>\n",
       "      <th>Unnamed: 0</th>\n",
       "      <th>danho</th>\n",
       "      <th>ciclo</th>\n",
       "      <th>Cod.Asign</th>\n",
       "      <th>Asignatura</th>\n",
       "      <th>Cod.Car.Sec</th>\n",
       "      <th>Cod.Curso</th>\n",
       "      <th>Convocatoria</th>\n",
       "      <th>Anho</th>\n",
       "      <th>Semestre</th>\n",
       "      <th>...</th>\n",
       "      <th>Segundo.Par</th>\n",
       "      <th>AOT</th>\n",
       "      <th>Primer.Rec</th>\n",
       "      <th>Segundo.Rec</th>\n",
       "      <th>Nota.Final</th>\n",
       "      <th>Tercer.Par</th>\n",
       "      <th>Asis</th>\n",
       "      <th>Cuarto.Par</th>\n",
       "      <th>4P_60</th>\n",
       "      <th>id_anony</th>\n",
       "    </tr>\n",
       "  </thead>\n",
       "  <tbody>\n",
       "    <tr>\n",
       "      <th>0</th>\n",
       "      <td>0</td>\n",
       "      <td>2012</td>\n",
       "      <td>1</td>\n",
       "      <td>2402</td>\n",
       "      <td>COMBUSTION</td>\n",
       "      <td>INT9MECANI</td>\n",
       "      <td>13</td>\n",
       "      <td>1</td>\n",
       "      <td>2012</td>\n",
       "      <td>1</td>\n",
       "      <td>...</td>\n",
       "      <td>0</td>\n",
       "      <td>0</td>\n",
       "      <td>0</td>\n",
       "      <td>0</td>\n",
       "      <td>NaN</td>\n",
       "      <td>0.0</td>\n",
       "      <td>1.0</td>\n",
       "      <td>NaN</td>\n",
       "      <td>NaN</td>\n",
       "      <td>es_0</td>\n",
       "    </tr>\n",
       "    <tr>\n",
       "      <th>1</th>\n",
       "      <td>1</td>\n",
       "      <td>2012</td>\n",
       "      <td>1</td>\n",
       "      <td>2402</td>\n",
       "      <td>COMBUSTION</td>\n",
       "      <td>MEC9-OPT</td>\n",
       "      <td>13</td>\n",
       "      <td>1</td>\n",
       "      <td>2012</td>\n",
       "      <td>1</td>\n",
       "      <td>...</td>\n",
       "      <td>14</td>\n",
       "      <td>8</td>\n",
       "      <td>0</td>\n",
       "      <td>0</td>\n",
       "      <td>1F-5</td>\n",
       "      <td>0.0</td>\n",
       "      <td>1.0</td>\n",
       "      <td>NaN</td>\n",
       "      <td>NaN</td>\n",
       "      <td>es_1</td>\n",
       "    </tr>\n",
       "    <tr>\n",
       "      <th>2</th>\n",
       "      <td>2</td>\n",
       "      <td>2012</td>\n",
       "      <td>1</td>\n",
       "      <td>2402</td>\n",
       "      <td>COMBUSTION</td>\n",
       "      <td>INT9MECANI</td>\n",
       "      <td>13</td>\n",
       "      <td>1</td>\n",
       "      <td>2012</td>\n",
       "      <td>1</td>\n",
       "      <td>...</td>\n",
       "      <td>23</td>\n",
       "      <td>9</td>\n",
       "      <td>0</td>\n",
       "      <td>0</td>\n",
       "      <td>1F-5</td>\n",
       "      <td>0.0</td>\n",
       "      <td>1.0</td>\n",
       "      <td>NaN</td>\n",
       "      <td>NaN</td>\n",
       "      <td>es_2</td>\n",
       "    </tr>\n",
       "    <tr>\n",
       "      <th>3</th>\n",
       "      <td>3</td>\n",
       "      <td>2012</td>\n",
       "      <td>1</td>\n",
       "      <td>2402</td>\n",
       "      <td>COMBUSTION</td>\n",
       "      <td>MEC9-OPT</td>\n",
       "      <td>13</td>\n",
       "      <td>1</td>\n",
       "      <td>2012</td>\n",
       "      <td>1</td>\n",
       "      <td>...</td>\n",
       "      <td>14</td>\n",
       "      <td>8</td>\n",
       "      <td>0</td>\n",
       "      <td>0</td>\n",
       "      <td>1F-1,2F-2</td>\n",
       "      <td>0.0</td>\n",
       "      <td>1.0</td>\n",
       "      <td>NaN</td>\n",
       "      <td>NaN</td>\n",
       "      <td>es_3</td>\n",
       "    </tr>\n",
       "    <tr>\n",
       "      <th>4</th>\n",
       "      <td>4</td>\n",
       "      <td>2012</td>\n",
       "      <td>1</td>\n",
       "      <td>2402</td>\n",
       "      <td>COMBUSTION</td>\n",
       "      <td>MEC9-OPT</td>\n",
       "      <td>13</td>\n",
       "      <td>1</td>\n",
       "      <td>2012</td>\n",
       "      <td>1</td>\n",
       "      <td>...</td>\n",
       "      <td>4</td>\n",
       "      <td>8</td>\n",
       "      <td>0</td>\n",
       "      <td>0</td>\n",
       "      <td>NaN</td>\n",
       "      <td>0.0</td>\n",
       "      <td>1.0</td>\n",
       "      <td>NaN</td>\n",
       "      <td>NaN</td>\n",
       "      <td>es_4</td>\n",
       "    </tr>\n",
       "    <tr>\n",
       "      <th>...</th>\n",
       "      <td>...</td>\n",
       "      <td>...</td>\n",
       "      <td>...</td>\n",
       "      <td>...</td>\n",
       "      <td>...</td>\n",
       "      <td>...</td>\n",
       "      <td>...</td>\n",
       "      <td>...</td>\n",
       "      <td>...</td>\n",
       "      <td>...</td>\n",
       "      <td>...</td>\n",
       "      <td>...</td>\n",
       "      <td>...</td>\n",
       "      <td>...</td>\n",
       "      <td>...</td>\n",
       "      <td>...</td>\n",
       "      <td>...</td>\n",
       "      <td>...</td>\n",
       "      <td>...</td>\n",
       "      <td>...</td>\n",
       "      <td>...</td>\n",
       "    </tr>\n",
       "    <tr>\n",
       "      <th>221817</th>\n",
       "      <td>15045</td>\n",
       "      <td>2021</td>\n",
       "      <td>1</td>\n",
       "      <td>5746</td>\n",
       "      <td>PROCESOS DE FABRICACION</td>\n",
       "      <td>MCT9-OPT</td>\n",
       "      <td>13</td>\n",
       "      <td>1</td>\n",
       "      <td>2021</td>\n",
       "      <td>1</td>\n",
       "      <td>...</td>\n",
       "      <td>0</td>\n",
       "      <td>0</td>\n",
       "      <td>0</td>\n",
       "      <td>0</td>\n",
       "      <td>NaN</td>\n",
       "      <td>0.0</td>\n",
       "      <td>1.0</td>\n",
       "      <td>NaN</td>\n",
       "      <td>NaN</td>\n",
       "      <td>es_3105</td>\n",
       "    </tr>\n",
       "    <tr>\n",
       "      <th>221818</th>\n",
       "      <td>15046</td>\n",
       "      <td>2021</td>\n",
       "      <td>1</td>\n",
       "      <td>5746</td>\n",
       "      <td>PROCESOS DE FABRICACION</td>\n",
       "      <td>MCT9-OPT</td>\n",
       "      <td>13</td>\n",
       "      <td>1</td>\n",
       "      <td>2021</td>\n",
       "      <td>1</td>\n",
       "      <td>...</td>\n",
       "      <td>26</td>\n",
       "      <td>10</td>\n",
       "      <td>0</td>\n",
       "      <td>0</td>\n",
       "      <td>NaN</td>\n",
       "      <td>0.0</td>\n",
       "      <td>1.0</td>\n",
       "      <td>NaN</td>\n",
       "      <td>NaN</td>\n",
       "      <td>es_2036</td>\n",
       "    </tr>\n",
       "    <tr>\n",
       "      <th>221819</th>\n",
       "      <td>15047</td>\n",
       "      <td>2021</td>\n",
       "      <td>1</td>\n",
       "      <td>5746</td>\n",
       "      <td>PROCESOS DE FABRICACION</td>\n",
       "      <td>MCT9-OPT</td>\n",
       "      <td>13</td>\n",
       "      <td>1</td>\n",
       "      <td>2021</td>\n",
       "      <td>1</td>\n",
       "      <td>...</td>\n",
       "      <td>26</td>\n",
       "      <td>10</td>\n",
       "      <td>0</td>\n",
       "      <td>0</td>\n",
       "      <td>1F-5</td>\n",
       "      <td>0.0</td>\n",
       "      <td>1.0</td>\n",
       "      <td>NaN</td>\n",
       "      <td>NaN</td>\n",
       "      <td>es_2397</td>\n",
       "    </tr>\n",
       "    <tr>\n",
       "      <th>221820</th>\n",
       "      <td>15048</td>\n",
       "      <td>2021</td>\n",
       "      <td>1</td>\n",
       "      <td>5746</td>\n",
       "      <td>PROCESOS DE FABRICACION</td>\n",
       "      <td>MCT9-OPT</td>\n",
       "      <td>13</td>\n",
       "      <td>1</td>\n",
       "      <td>2021</td>\n",
       "      <td>1</td>\n",
       "      <td>...</td>\n",
       "      <td>0</td>\n",
       "      <td>0</td>\n",
       "      <td>0</td>\n",
       "      <td>0</td>\n",
       "      <td>NaN</td>\n",
       "      <td>0.0</td>\n",
       "      <td>1.0</td>\n",
       "      <td>NaN</td>\n",
       "      <td>NaN</td>\n",
       "      <td>es_2917</td>\n",
       "    </tr>\n",
       "    <tr>\n",
       "      <th>221821</th>\n",
       "      <td>15049</td>\n",
       "      <td>2021</td>\n",
       "      <td>1</td>\n",
       "      <td>5746</td>\n",
       "      <td>PROCESOS DE FABRICACION</td>\n",
       "      <td>MCT9-OPT</td>\n",
       "      <td>13</td>\n",
       "      <td>1</td>\n",
       "      <td>2021</td>\n",
       "      <td>1</td>\n",
       "      <td>...</td>\n",
       "      <td>0</td>\n",
       "      <td>0</td>\n",
       "      <td>0</td>\n",
       "      <td>0</td>\n",
       "      <td>NaN</td>\n",
       "      <td>0.0</td>\n",
       "      <td>1.0</td>\n",
       "      <td>NaN</td>\n",
       "      <td>NaN</td>\n",
       "      <td>es_2504</td>\n",
       "    </tr>\n",
       "  </tbody>\n",
       "</table>\n",
       "<p>221822 rows × 23 columns</p>\n",
       "</div>"
      ],
      "text/plain": [
       "        Unnamed: 0  danho  ciclo  Cod.Asign               Asignatura  \\\n",
       "0                0   2012      1       2402               COMBUSTION   \n",
       "1                1   2012      1       2402               COMBUSTION   \n",
       "2                2   2012      1       2402               COMBUSTION   \n",
       "3                3   2012      1       2402               COMBUSTION   \n",
       "4                4   2012      1       2402               COMBUSTION   \n",
       "...            ...    ...    ...        ...                      ...   \n",
       "221817       15045   2021      1       5746  PROCESOS DE FABRICACION   \n",
       "221818       15046   2021      1       5746  PROCESOS DE FABRICACION   \n",
       "221819       15047   2021      1       5746  PROCESOS DE FABRICACION   \n",
       "221820       15048   2021      1       5746  PROCESOS DE FABRICACION   \n",
       "221821       15049   2021      1       5746  PROCESOS DE FABRICACION   \n",
       "\n",
       "       Cod.Car.Sec  Cod.Curso  Convocatoria  Anho  Semestre  ... Segundo.Par  \\\n",
       "0       INT9MECANI         13             1  2012         1  ...           0   \n",
       "1       MEC9-OPT           13             1  2012         1  ...          14   \n",
       "2       INT9MECANI         13             1  2012         1  ...          23   \n",
       "3       MEC9-OPT           13             1  2012         1  ...          14   \n",
       "4       MEC9-OPT           13             1  2012         1  ...           4   \n",
       "...            ...        ...           ...   ...       ...  ...         ...   \n",
       "221817  MCT9-OPT           13             1  2021         1  ...           0   \n",
       "221818  MCT9-OPT           13             1  2021         1  ...          26   \n",
       "221819  MCT9-OPT           13             1  2021         1  ...          26   \n",
       "221820  MCT9-OPT           13             1  2021         1  ...           0   \n",
       "221821  MCT9-OPT           13             1  2021         1  ...           0   \n",
       "\n",
       "        AOT  Primer.Rec  Segundo.Rec  Nota.Final  Tercer.Par  Asis Cuarto.Par  \\\n",
       "0         0           0            0         NaN         0.0   1.0        NaN   \n",
       "1         8           0            0        1F-5         0.0   1.0        NaN   \n",
       "2         9           0            0        1F-5         0.0   1.0        NaN   \n",
       "3         8           0            0   1F-1,2F-2         0.0   1.0        NaN   \n",
       "4         8           0            0         NaN         0.0   1.0        NaN   \n",
       "...     ...         ...          ...         ...         ...   ...        ...   \n",
       "221817    0           0            0         NaN         0.0   1.0        NaN   \n",
       "221818   10           0            0         NaN         0.0   1.0        NaN   \n",
       "221819   10           0            0        1F-5         0.0   1.0        NaN   \n",
       "221820    0           0            0         NaN         0.0   1.0        NaN   \n",
       "221821    0           0            0         NaN         0.0   1.0        NaN   \n",
       "\n",
       "        4P_60  id_anony  \n",
       "0         NaN      es_0  \n",
       "1         NaN      es_1  \n",
       "2         NaN      es_2  \n",
       "3         NaN      es_3  \n",
       "4         NaN      es_4  \n",
       "...       ...       ...  \n",
       "221817    NaN   es_3105  \n",
       "221818    NaN   es_2036  \n",
       "221819    NaN   es_2397  \n",
       "221820    NaN   es_2917  \n",
       "221821    NaN   es_2504  \n",
       "\n",
       "[221822 rows x 23 columns]"
      ]
     },
     "execution_count": 43,
     "metadata": {},
     "output_type": "execute_result"
    }
   ],
   "source": [
    "df"
   ]
  },
  {
   "cell_type": "code",
   "execution_count": 88,
   "id": "8fda75c2-9a93-40e0-9c07-0c888acb00ee",
   "metadata": {},
   "outputs": [
    {
     "data": {
      "text/plain": [
       "0            NaN\n",
       "1            [5]\n",
       "2            [5]\n",
       "3         [1, 2]\n",
       "4            NaN\n",
       "           ...  \n",
       "221817       NaN\n",
       "221818       NaN\n",
       "221819       [5]\n",
       "221820       NaN\n",
       "221821       NaN\n",
       "Name: Nota.Final, Length: 221822, dtype: object"
      ]
     },
     "execution_count": 88,
     "metadata": {},
     "output_type": "execute_result"
    }
   ],
   "source": [
    "#print(df['Nota.Final2'])\n",
    "df['Nota.Final'] = df['Nota.Final'].replace(regex=['1F-','2F-','3F-'],value= '')\n",
    "df['Nota.Final'] = np.where(~(df['Nota.Final'].isnull()),df['Nota.Final'].str.split(','),df['Nota.Final'])\n",
    "df['Nota.Final']"
   ]
  },
  {
   "cell_type": "code",
   "execution_count": 7,
   "id": "cooperative-directive",
   "metadata": {},
   "outputs": [],
   "source": [
    "majors = ['CGF','CIV','ECA','ELE','IND','INT','MCT','MEC']\n",
    "majors_dict = {}\n",
    "for major in majors:\n",
    "     #carrera=pd.concat([carrera, df[df[\"Cod.Car.Sec\"]==car]], axis=0)\n",
    "    condition = df[\"Cod.Car.Sec\"].str[:3] == major\n",
    "    majors_dict[major] = df[condition]\n",
    "    #    carrera"
   ]
  },
  {
   "cell_type": "code",
   "execution_count": 9,
   "id": "ef6de7c7-c6d7-4fcd-bd1f-41732611f84e",
   "metadata": {},
   "outputs": [],
   "source": [
    "for major in majors:\n",
    "    condition = majors_dict[major]['Cod.Curso'] > 4\n",
    "    #print(condition)\n",
    "    majors_dict[major] = majors_dict[major][condition] "
   ]
  },
  {
   "cell_type": "code",
   "execution_count": 11,
   "id": "d2f8f1cd-bdc4-4619-b74b-c6bdd1990e77",
   "metadata": {},
   "outputs": [],
   "source": [
    "%%capture\n",
    "for major in majors:\n",
    "    print(majors_dict[major].head())"
   ]
  },
  {
   "cell_type": "code",
   "execution_count": 12,
   "id": "5bc03256-973a-4e04-9323-fad4dda1efe7",
   "metadata": {},
   "outputs": [],
   "source": [
    "%%capture\n",
    "for major in majors:\n",
    "    print(np.unique(majors_dict[major][\"Cod.Curso\"]))"
   ]
  },
  {
   "cell_type": "code",
   "execution_count": 14,
   "id": "confirmed-disposal",
   "metadata": {},
   "outputs": [
    {
     "name": "stdout",
     "output_type": "stream",
     "text": [
      "Number of students in specific courses \n",
      "CGF 333\n",
      "CIV 1642\n",
      "ECA 392\n",
      "ELE 1242\n",
      "IND 771\n",
      "INT 1805\n",
      "MCT 672\n",
      "MEC 701\n"
     ]
    }
   ],
   "source": [
    "print(\"Number of students in specific courses \")\n",
    "for major in majors:\n",
    "    print(major,len(np.unique(majors_dict[major].id_anony.values)))"
   ]
  },
  {
   "cell_type": "code",
   "execution_count": 15,
   "id": "5c114f9c-43a8-42bf-9d62-965c80b282c4",
   "metadata": {},
   "outputs": [
    {
     "name": "stdout",
     "output_type": "stream",
     "text": [
      "['CGF', 'CIV', 'ECA', 'ELE', 'IND', 'INT', 'MCT', 'MEC', 'CC']\n"
     ]
    }
   ],
   "source": [
    "if \"CC\" not in majors:\n",
    "    majors.append(\"CC\")\n",
    "print(majors)"
   ]
  },
  {
   "cell_type": "code",
   "execution_count": 18,
   "id": "4c235e42-70ec-4d02-80a7-8b3edff1e534",
   "metadata": {},
   "outputs": [],
   "source": [
    "%%capture\n",
    "condition = df['Cod.Curso'] <= 4\n",
    "majors_dict[\"CC\"] = df[condition]\n",
    "majors_dict[\"CC\"]"
   ]
  },
  {
   "cell_type": "code",
   "execution_count": 19,
   "id": "fdd159b0-445b-41e5-958e-e021c2663f40",
   "metadata": {},
   "outputs": [],
   "source": [
    "for major in majors:\n",
    "    name = \"datos\"+\"_\"+str(major)+\".csv\"\n",
    "    majors_dict[major].to_csv(name)"
   ]
  },
  {
   "cell_type": "code",
   "execution_count": 98,
   "id": "6856f0d6-c957-45bc-9d6f-da64636b8549",
   "metadata": {},
   "outputs": [],
   "source": [
    "%%capture\n",
    "for major in majors:\n",
    "    columns = [\"Aprobado\",\"Primer.Par\",\"Segundo.Par\",\"AOT\",\"Primer.Rec\",\"Segundo.Rec\",\"Nota.Final\",\"Asis\",\"id_anony\"]\n",
    "    print(majors_dict[major][columns].describe())\n",
    "    print(\"#############################################################\")"
   ]
  },
  {
   "cell_type": "code",
   "execution_count": null,
   "id": "heated-corruption",
   "metadata": {},
   "outputs": [],
   "source": [
    "#Hasta aca son cosas que hice, a filtrar\n",
    "\n",
    "new_df=pd.DataFrame(columns=[\"Id\",\"First attemp year\",\"First attemp period \",\"Pass year\",\"Pass period\"])\n",
    "for student in students:\n",
    "    student_dict = {} \n",
    "    df[df.id_anony.values==df]\n",
    "    if(np.sum(registro[\"Cod.Curso\"].values==1)>=1 and np.sum(registro[\"Cod.Curso\"].values==4)>=1):\n",
    "        if()\n",
    "            break\n",
    "    \n",
    "    \n",
    "    \n",
    "    \n",
    "    \n",
    "    "
   ]
  },
  {
   "cell_type": "code",
   "execution_count": null,
   "id": "interesting-portugal",
   "metadata": {},
   "outputs": [],
   "source": [
    "registro"
   ]
  },
  {
   "cell_type": "code",
   "execution_count": null,
   "id": "difficult-metabolism",
   "metadata": {},
   "outputs": [],
   "source": [
    "flagPasaron=np.logical_and(carrera.Asignatura.values==\"CALCULO 1\", carrera[\"Aprobado\"]==\"S\")\n",
    "carreraP=carrera[flagPasaron]"
   ]
  },
  {
   "cell_type": "code",
   "execution_count": null,
   "id": "transparent-happiness",
   "metadata": {},
   "outputs": [],
   "source": [
    "carreraP.info()"
   ]
  },
  {
   "cell_type": "code",
   "execution_count": null,
   "id": "variable-drain",
   "metadata": {},
   "outputs": [],
   "source": [
    "flagFirma2011=carreraP[\"Anho.Firma\"]==2011\n",
    "\n",
    "carreraPL=carreraP[~flagFirma2011]"
   ]
  },
  {
   "cell_type": "code",
   "execution_count": null,
   "id": "silent-dollar",
   "metadata": {},
   "outputs": [],
   "source": [
    "carreraPL.info()"
   ]
  },
  {
   "cell_type": "code",
   "execution_count": null,
   "id": "addressed-logan",
   "metadata": {},
   "outputs": [],
   "source": [
    "flagNoPasaron=np.logical_and(carrera.Asignatura.values==\"CALCULO 1\",carrera[\"Aprobado\"]==\"N\")\n",
    "carreraNP=carrera[flagNoPasaron]\n",
    "carreraNP.info()"
   ]
  },
  {
   "cell_type": "code",
   "execution_count": null,
   "id": "occupational-ebony",
   "metadata": {},
   "outputs": [],
   "source": [
    "carreraNP.head()"
   ]
  },
  {
   "cell_type": "code",
   "execution_count": null,
   "id": "directed-pricing",
   "metadata": {},
   "outputs": [],
   "source": [
    "carreraPLN=pd.merge(carreraPL, carreraNP, on=['id_anony'], how='right')\n"
   ]
  },
  {
   "cell_type": "code",
   "execution_count": null,
   "id": "authentic-division",
   "metadata": {},
   "outputs": [],
   "source": [
    "carreraPLN.info()"
   ]
  },
  {
   "cell_type": "code",
   "execution_count": null,
   "id": "explicit-trinidad",
   "metadata": {},
   "outputs": [],
   "source": [
    "carreraPLN[[\"Aprobado_x\",\"Aprobado_y\"]].values[0:10]"
   ]
  },
  {
   "cell_type": "code",
   "execution_count": null,
   "id": "international-usage",
   "metadata": {},
   "outputs": [],
   "source": [
    "for asig in asignaturas:\n",
    "    flag=df.Asignatura.values==asig\n",
    "    print(np.sum(df[\"Aprobado\"][flag]==\"S\"))\n",
    "    \n",
    "    "
   ]
  },
  {
   "cell_type": "code",
   "execution_count": null,
   "id": "decimal-ladder",
   "metadata": {},
   "outputs": [],
   "source": []
  }
 ],
 "metadata": {
  "kernelspec": {
   "display_name": "Python 3 (ipykernel)",
   "language": "python",
   "name": "python3"
  },
  "language_info": {
   "codemirror_mode": {
    "name": "ipython",
    "version": 3
   },
   "file_extension": ".py",
   "mimetype": "text/x-python",
   "name": "python",
   "nbconvert_exporter": "python",
   "pygments_lexer": "ipython3",
   "version": "3.10.8"
  }
 },
 "nbformat": 4,
 "nbformat_minor": 5
}
