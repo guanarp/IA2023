{
 "cells": [
  {
   "cell_type": "markdown",
   "metadata": {
    "id": "Rz6ODflA987g"
   },
   "source": [
    "**PRIMER PARCIAL**\n",
    "\n",
    "\n",
    "\n",
    "\n",
    "\n",
    "\n",
    "\n"
   ]
  },
  {
   "cell_type": "code",
   "execution_count": 3,
   "metadata": {
    "id": "Z2xziFRT98iz"
   },
   "outputs": [],
   "source": [
    "fecha = \"18/04/2021\"\n",
    "nombre_apellido = \"\" # Debe ser un String\n",
    "CI = \"\" # Debe ser un String\n",
    "\n",
    "# Actividad 1- Importar las librerías numpy( como np ), pandas( como pd ), matplotlib( como plt ) \n",
    "import numpy as np\n",
    "import pandas as pd\n",
    "import matplotlib.pyplot as plt"
   ]
  },
  {
   "cell_type": "code",
   "execution_count": 4,
   "metadata": {
    "id": "w-99LamtAYbD"
   },
   "outputs": [],
   "source": [
    "# Actividad 2- Importar el dataset 'datosfintrados.xls' \n",
    "datos = pd.read_csv('datosfiltrados.xls')"
   ]
  },
  {
   "cell_type": "code",
   "execution_count": 5,
   "metadata": {
    "id": "8H6HYH6BphCw"
   },
   "outputs": [],
   "source": [
    "# NO MODIFICAR\n",
    "grouped = datos.groupby(datos.Asignatura) \n",
    "datos_new = grouped.get_group(\"CALCULO 2\") #\n",
    "data = datos_new[['Primer.Par','Segundo.Par']].values\n",
    "labels = datos_new['Aprobado'].values\n",
    "labels = np.array([1.0 if i=='S' else 0.0 for i in labels])"
   ]
  },
  {
   "cell_type": "code",
   "execution_count": 6,
   "metadata": {
    "colab": {
     "base_uri": "https://localhost:8080/"
    },
    "id": "nBTYT_-a-y1k",
    "outputId": "4b669310-c324-4b8b-fa6c-7fc9695913dd"
   },
   "outputs": [
    {
     "name": "stdout",
     "output_type": "stream",
     "text": [
      "Dimensión de los datos =  (1587, 2)\n",
      "Dimensión de las etiquetas =  (1587,)\n"
     ]
    }
   ],
   "source": [
    "# Actividad 3- Imprimir la dimensión de los datos y las etiquetas\n",
    "data_shape = data.shape\n",
    "label_shape = labels.shape\n",
    "print(\"Dimensión de los datos = \",data_shape)\n",
    "print(\"Dimensión de las etiquetas = \",label_shape)"
   ]
  },
  {
   "cell_type": "code",
   "execution_count": 7,
   "metadata": {
    "colab": {
     "base_uri": "https://localhost:8080/"
    },
    "id": "MOrxNg4ceVkI",
    "outputId": "97188c79-bc5a-482b-eb22-52d38680fb35"
   },
   "outputs": [
    {
     "name": "stdout",
     "output_type": "stream",
     "text": [
      "Dimensión de los datos entrenamiento =  (1428, 2)\n",
      "Dimensión de las etiquetas entrenamiento =  (159, 2)\n",
      "Dimensión de los datos prueba =  (1428,)\n",
      "Dimensión de las etiquetas prueba =  (159,)\n"
     ]
    }
   ],
   "source": [
    "# Actividad 4- Separar los datos en conjunto de entrenamiento y de prueba con el \"train_test_split\"\n",
    "#              usar el test_size = 0.1 \n",
    "from sklearn.model_selection import train_test_split\n",
    "data_train, data_test, labels_train, labels_test = train_test_split(data, labels, test_size = 0.1)\n",
    "print(\"Dimensión de los datos entrenamiento = \",data_train.shape)\n",
    "print(\"Dimensión de las etiquetas entrenamiento = \",data_test.shape)\n",
    "print(\"Dimensión de los datos prueba = \",labels_train.shape)\n",
    "print(\"Dimensión de las etiquetas prueba = \",labels_test.shape)"
   ]
  },
  {
   "cell_type": "code",
   "execution_count": 8,
   "metadata": {
    "id": "DRZiuHule0k4"
   },
   "outputs": [
    {
     "data": {
      "text/plain": [
       "LogisticRegression()"
      ]
     },
     "execution_count": 8,
     "metadata": {},
     "output_type": "execute_result"
    }
   ],
   "source": [
    "from sklearn.linear_model import LogisticRegression\n",
    "from sklearn import metrics\n",
    "\n",
    "logreg = LogisticRegression()\n",
    "\n",
    "logreg.fit(data_train, labels_train)"
   ]
  },
  {
   "cell_type": "code",
   "execution_count": 9,
   "metadata": {},
   "outputs": [
    {
     "name": "stdout",
     "output_type": "stream",
     "text": [
      "[[0.10972523 0.12708995]]\n"
     ]
    }
   ],
   "source": [
    "## Imprimir los coeficientes\n",
    "print(logreg.coef_)"
   ]
  },
  {
   "cell_type": "code",
   "execution_count": 10,
   "metadata": {
    "colab": {
     "base_uri": "https://localhost:8080/",
     "height": 352
    },
    "id": "E1u5cBqKfAJK",
    "outputId": "edf55f17-0168-4890-aca2-ffdfb0cfe82a"
   },
   "outputs": [
    {
     "name": "stdout",
     "output_type": "stream",
     "text": [
      "Cantidad de predicciones = (159,) \n",
      "\n",
      "[[66 12]\n",
      " [14 67]]\n"
     ]
    },
    {
     "data": {
      "text/plain": [
       "<AxesSubplot:>"
      ]
     },
     "execution_count": 10,
     "metadata": {},
     "output_type": "execute_result"
    },
    {
     "data": {
      "image/png": "[encoded data removed]",
      "text/plain": [
       "<Figure size 432x288 with 2 Axes>"
      ]
     },
     "metadata": {
      "needs_background": "light"
     },
     "output_type": "display_data"
    }
   ],
   "source": [
    "# NO MODIFICAR\n",
    "\n",
    "from sklearn.metrics import confusion_matrix, classification_report  \n",
    "\n",
    "predict_label =logreg.predict(data_test)\n",
    "\n",
    "print('Cantidad de predicciones = {} \\n'.format(predict_label.shape))\n",
    "\n",
    "cf_matrix = confusion_matrix(predict_label, labels_test)\n",
    "print(cf_matrix)\n",
    "\n",
    "import seaborn as sns\n",
    "sns.heatmap(cf_matrix/np.sum(cf_matrix), annot=True, \n",
    "            fmt='.2%', cmap='Blues')"
   ]
  },
  {
   "cell_type": "code",
   "execution_count": 11,
   "metadata": {},
   "outputs": [
    {
     "name": "stdout",
     "output_type": "stream",
     "text": [
      "Precisión: 0.836478\n"
     ]
    }
   ],
   "source": [
    "acc=logreg.score(data_test,labels_test)\n",
    "print('Precisión: {:2f}'.format(acc))"
   ]
  },
  {
   "cell_type": "code",
   "execution_count": 14,
   "metadata": {
    "id": "ZDqJRL9oAjVA"
   },
   "outputs": [
    {
     "name": "stdout",
     "output_type": "stream",
     "text": [
      "Fecha = '18/04/2021';nombre_apellido = '';CI = '';Tema1 = 111;Tema2 = '1es_1444';Tema3 = 158721587;Tema4 = 2856159;Tema5 = 2;Tema6 = 0.8364779874213837;Tema7 = 159;"
     ]
    }
   ],
   "source": [
    "# NO MODIFICAR ESTE CÓDIGO\n",
    "\n",
    "# Código de evaluación - Deberá copiar el texto generado en este campo y pegar en la evaluacion del aula virtual\n",
    "\n",
    "print(\"Fecha = \\'{}\\'\".format(fecha),end =\";\")\n",
    "print(\"nombre_apellido = \\'{}\\'\".format(nombre_apellido),end =\";\")\n",
    "print(\"CI = \\'{}\\'\".format(CI), end =\";\")\n",
    "# Tema 1\n",
    "print( 'Tema1 = {0:b}'.format(('np' in vars() or 'np' in globals())<<2|('pd' in vars() or 'pd' in globals())<<1|('plt' in vars() or 'plt' in globals())<<0), end =\";\")\n",
    "# Tema 2\n",
    "print( 'Tema2 = \\'{}{}\\''.format(int('datos' in vars() or 'datos' in globals()), datos['id_anony'].iloc[0]), end =\";\")\n",
    "# Tema 3\n",
    "print( 'Tema3 = {}{}{}'.format(data_shape[0],data_shape[1],label_shape[0]), end =\";\")\n",
    "# Tema 4\n",
    "print( 'Tema4 = {}{}'.format(data_train.size, labels_test.size), end =\";\")\n",
    "# Tema 5\n",
    "print( 'Tema5 = {}'.format(len(logreg.coef_[0])), end =\";\")\n",
    "# Tema 6\n",
    "print( 'Tema6 = {}'.format(acc), end =\";\")\n",
    "# Tema 6\n",
    "print( 'Tema7 = {}'.format(predict_label.size), end =\";\")"
   ]
  },
  {
   "cell_type": "code",
   "execution_count": 13,
   "metadata": {},
   "outputs": [
    {
     "data": {
      "text/plain": [
       "1"
      ]
     },
     "execution_count": 13,
     "metadata": {},
     "output_type": "execute_result"
    }
   ],
   "source": [
    "len(logreg.coef_)"
   ]
  },
  {
   "cell_type": "code",
   "execution_count": null,
   "metadata": {},
   "outputs": [],
   "source": []
  },
  {
   "cell_type": "code",
   "execution_count": null,
   "metadata": {},
   "outputs": [],
   "source": []
  },
  {
   "cell_type": "code",
   "execution_count": null,
   "metadata": {},
   "outputs": [],
   "source": []
  },
  {
   "cell_type": "code",
   "execution_count": null,
   "metadata": {},
   "outputs": [],
   "source": []
  },
  {
   "cell_type": "code",
   "execution_count": null,
   "metadata": {},
   "outputs": [],
   "source": []
  },
  {
   "cell_type": "code",
   "execution_count": null,
   "metadata": {},
   "outputs": [],
   "source": []
  }
 ],
 "metadata": {
  "colab": {
   "collapsed_sections": [],
   "name": "PrimerParcial_IA2021_Resuelto.ipynb",
   "provenance": []
  },
  "kernelspec": {
   "display_name": "Python 3",
   "language": "python",
   "name": "python3"
  },
  "language_info": {
   "codemirror_mode": {
    "name": "ipython",
    "version": 3
   },
   "file_extension": ".py",
   "mimetype": "text/x-python",
   "name": "python",
   "nbconvert_exporter": "python",
   "pygments_lexer": "ipython3",
   "version": "3.8.8"
  }
 },
 "nbformat": 4,
 "nbformat_minor": 4
}
