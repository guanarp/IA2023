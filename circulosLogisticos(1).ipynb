{
  "cells": [
    {
      "cell_type": "markdown",
      "metadata": {
        "id": "upXDfm4s6NDw"
      },
      "source": [
        "# Regresion Logaritmica\n"
      ]
    },
    {
      "cell_type": "code",
      "execution_count": null,
      "metadata": {
        "id": "82Z30K8l6T5-"
      },
      "outputs": [
        {
          "ename": "",
          "evalue": "",
          "output_type": "error",
          "traceback": [
            "\u001b[1;31mRunning cells with 'c:\\Users\\josec\\AppData\\Local\\Microsoft\\WindowsApps\\python3.10.exe' requires the ipykernel package.\n",
            "\u001b[1;31mRun the following command to install 'ipykernel' into the Python environment. \n",
            "\u001b[1;31mCommand: 'c:/Users/josec/AppData/Local/Microsoft/WindowsApps/python3.10.exe -m pip install ipykernel -U --user --force-reinstall'"
          ]
        }
      ],
      "source": [
        "import numpy as np\n",
        "import matplotlib.pyplot as plt"
      ]
    },
    {
      "cell_type": "code",
      "execution_count": 12,
      "metadata": {
        "id": "JsslqLuN6vKL"
      },
      "outputs": [],
      "source": [
        "# Parametros de las circunferencias\n",
        "x0 = 4\n",
        "y0 = 4\n",
        "r0 = 2\n",
        "\n",
        "x1 = 4\n",
        "y1 = 4\n",
        "r1 = 4\n",
        "\n",
        "# Coordenadas polares aleatorias de ambas areas\n",
        "ang = np.arange(0, 2*np.pi, 0.05)    # Puntos de una circunferencia en paso 0.05 rad\n",
        "\n",
        "ptos_A1 = np.random.rand(ang.shape[0])*r0   # Puntos de la circunferencia 1\n",
        "ptos_A2 = (np.random.rand(ang.shape[0])+1)*r1   # Puntos de la circunferencia 2\n",
        "\n",
        "# Pasamos a coordenadas cartesianas los puntos aleatorios\n",
        "x_int = ptos_A1*np.cos(ang) + x0\n",
        "y_int = ptos_A1*np.sin(ang) + y0\n",
        "\n",
        "x_ext = ptos_A2*np.cos(ang) + x1\n",
        "y_ext = ptos_A2*np.sin(ang) + y1"
      ]
    },
    {
      "cell_type": "code",
      "execution_count": 13,
      "metadata": {
        "colab": {
          "base_uri": "https://localhost:8080/",
          "height": 283
        },
        "id": "8YYd-qe57zwL",
        "outputId": "32e958ab-0d67-436b-8ae6-1ebfdd5b2991"
      },
      "outputs": [
        {
          "data": {
            "text/plain": [
              "[<matplotlib.lines.Line2D at 0x7f8423595c40>]"
            ]
          },
          "execution_count": 13,
          "metadata": {},
          "output_type": "execute_result"
        },
        {
          "data": {
            "image/png": "[encoded data removed]",
            "text/plain": [
              "<Figure size 432x288 with 1 Axes>"
            ]
          },
          "metadata": {
            "needs_background": "light"
          },
          "output_type": "display_data"
        }
      ],
      "source": [
        "plt.plot(x_int, y_int, 'x')\n",
        "plt.plot(x_ext, y_ext, 'o')"
      ]
    },
    {
      "cell_type": "code",
      "execution_count": 11,
      "metadata": {
        "colab": {
          "base_uri": "https://localhost:8080/"
        },
        "id": "4pXbs0Xo7Q0X",
        "outputId": "40e8657f-d530-4dc8-ac9f-0ca37c6d94e1"
      },
      "outputs": [
        {
          "data": {
            "text/plain": [
              "126"
            ]
          },
          "execution_count": 11,
          "metadata": {},
          "output_type": "execute_result"
        }
      ],
      "source": [
        "ang.shape[0]"
      ]
    },
    {
      "cell_type": "code",
      "execution_count": null,
      "metadata": {
        "id": "TzX62nLC-PCV"
      },
      "outputs": [],
      "source": []
    }
  ],
  "metadata": {
    "colab": {
      "provenance": []
    },
    "kernelspec": {
      "display_name": "Python 3",
      "language": "python",
      "name": "python3"
    },
    "language_info": {
      "name": "python",
      "version": "3.10.10"
    },
    "vscode": {
      "interpreter": {
        "hash": "3664299d3dc3d8ff9faf4a924c6d35139738241bedc3d6216e1fd0c0486e4f27"
      }
    }
  },
  "nbformat": 4,
  "nbformat_minor": 0
}
